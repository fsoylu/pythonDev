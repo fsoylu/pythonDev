{
 "cells": [
  {
   "attachments": {},
   "cell_type": "markdown",
   "metadata": {},
   "source": [
    "## format & f-string"
   ]
  },
  {
   "cell_type": "code",
   "execution_count": 3,
   "metadata": {},
   "outputs": [
    {
     "name": "stdout",
     "output_type": "stream",
     "text": [
      "My name is Ahmet Altın and \n",
      "I'm 35 years old.\n"
     ]
    }
   ],
   "source": [
    "name = \"Ahmet\"\n",
    "surname = \"Altın\"\n",
    "age = 35 \n",
    "\n",
    "greeting = \"My name is \" + name + \" \" + surname + \" and \\nI'm \" + str(age) + \" years old.\" \n",
    "print(greeting)"
   ]
  },
  {
   "cell_type": "code",
   "execution_count": 4,
   "metadata": {},
   "outputs": [
    {
     "name": "stdout",
     "output_type": "stream",
     "text": [
      "My name is Ahmet Altın and \n",
      "I'm 35 years old.\n"
     ]
    }
   ],
   "source": [
    "name = \"Ahmet\"\n",
    "surname = \"Altın\"\n",
    "age = 35 \n",
    "\n",
    "print(\"My name is {} {} and \\nI'm {} years old.\".format(name, surname, age))"
   ]
  },
  {
   "cell_type": "code",
   "execution_count": 6,
   "metadata": {},
   "outputs": [
    {
     "name": "stdout",
     "output_type": "stream",
     "text": [
      "My name is Ahmet Altın and \n",
      "I'm 35 years old.\n"
     ]
    }
   ],
   "source": [
    "name = \"Ahmet\"\n",
    "surname = \"Altın\"\n",
    "age = 35 \n",
    "\n",
    "print(\"My name is {1} {2} and \\nI'm {0} years old.\".format(age, name, surname))"
   ]
  },
  {
   "cell_type": "code",
   "execution_count": 9,
   "metadata": {},
   "outputs": [
    {
     "name": "stdout",
     "output_type": "stream",
     "text": [
      "My name is Ahmet Altın and \n",
      "I'm 35 years old.\n"
     ]
    }
   ],
   "source": [
    "name = \"Ahmet\"\n",
    "surname = \"Altın\"\n",
    "age = 35 \n",
    "\n",
    "print(\"My name is {2} {1} and \\nI'm {0} years old.\".format(age, surname, name))"
   ]
  },
  {
   "cell_type": "code",
   "execution_count": 11,
   "metadata": {},
   "outputs": [
    {
     "name": "stdout",
     "output_type": "stream",
     "text": [
      "My name is Ahmet Altın and \n",
      "I'm 35 years old.\n"
     ]
    }
   ],
   "source": [
    "name = \"Ahmet\"\n",
    "surname = \"Altın\"\n",
    "age = 35\n",
    "\n",
    "print(\"My name is {n} {s} and \\nI'm {a} years old.\".format(a=age, n=name, s=surname))"
   ]
  },
  {
   "cell_type": "code",
   "execution_count": 14,
   "metadata": {},
   "outputs": [
    {
     "name": "stdout",
     "output_type": "stream",
     "text": [
      "c, b and a\n",
      "abracadabra\n"
     ]
    }
   ],
   "source": [
    "str_1 = \"{2}, {1} and {0}\".format(\"a\", \"b\", \"c\")\n",
    "str_2 = \"{0}{1}{0}\".format(\"abra\", \"cad\")\n",
    "\n",
    "print(str_1, str_2, sep=\"\\n\")"
   ]
  },
  {
   "cell_type": "code",
   "execution_count": 15,
   "metadata": {},
   "outputs": [
    {
     "name": "stdout",
     "output_type": "stream",
     "text": [
      "My name is Ahmet Altın and\n",
      "I'm 35 years old.\n"
     ]
    }
   ],
   "source": [
    "name = \"Ahmet\"\n",
    "surname = \"Altın\"\n",
    "age = 35\n",
    "\n",
    "print(f\"My name is {name} {surname} and\\nI'm {age} years old.\")"
   ]
  },
  {
   "cell_type": "code",
   "execution_count": 17,
   "metadata": {},
   "outputs": [
    {
     "name": "stdout",
     "output_type": "stream",
     "text": [
      "My name is Ahmet Altın and \n",
      "I'm 35 years old.\n"
     ]
    }
   ],
   "source": [
    "print(greeting)"
   ]
  },
  {
   "cell_type": "code",
   "execution_count": 18,
   "metadata": {},
   "outputs": [
    {
     "data": {
      "text/plain": [
       "45"
      ]
     },
     "execution_count": 18,
     "metadata": {},
     "output_type": "execute_result"
    }
   ],
   "source": [
    "len(greeting)"
   ]
  },
  {
   "cell_type": "code",
   "execution_count": 19,
   "metadata": {},
   "outputs": [
    {
     "name": "stdout",
     "output_type": "stream",
     "text": [
      "45\n"
     ]
    }
   ],
   "source": [
    "print(len(greeting))"
   ]
  },
  {
   "cell_type": "code",
   "execution_count": 20,
   "metadata": {},
   "outputs": [],
   "source": [
    "sonuç = greeting[5:26:2]"
   ]
  },
  {
   "cell_type": "code",
   "execution_count": 21,
   "metadata": {},
   "outputs": [
    {
     "data": {
      "text/plain": [
       "'m sAmtAtnad'"
      ]
     },
     "execution_count": 21,
     "metadata": {},
     "output_type": "execute_result"
    }
   ],
   "source": [
    "sonuç"
   ]
  },
  {
   "cell_type": "code",
   "execution_count": 22,
   "metadata": {},
   "outputs": [],
   "source": [
    "sonuç = greeting[-5:-25:-5]"
   ]
  },
  {
   "cell_type": "code",
   "execution_count": 23,
   "metadata": {},
   "outputs": [
    {
     "data": {
      "text/plain": [
       "' ymd'"
      ]
     },
     "execution_count": 23,
     "metadata": {},
     "output_type": "execute_result"
    }
   ],
   "source": [
    "sonuç"
   ]
  },
  {
   "cell_type": "code",
   "execution_count": 24,
   "metadata": {},
   "outputs": [
    {
     "name": "stdout",
     "output_type": "stream",
     "text": [
      "My name is Ahmet Altın and \n",
      "I'm 35 years old.\n"
     ]
    }
   ],
   "source": [
    "sonuç = greeting[0:]\n",
    "print(sonuç)"
   ]
  },
  {
   "cell_type": "code",
   "execution_count": 25,
   "metadata": {},
   "outputs": [
    {
     "name": "stdout",
     "output_type": "stream",
     "text": [
      "M_y_ _n_a_m_e_ _i_s_ _A_h_m_e_t_ _A_l_t_ı_n_ _a_n_d_ _\n",
      "_I_'_m_ _3_5_ _y_e_a_r_s_ _o_l_d_.\n"
     ]
    }
   ],
   "source": [
    "print(*greeting, sep=\"_\")"
   ]
  },
  {
   "attachments": {},
   "cell_type": "markdown",
   "metadata": {},
   "source": [
    "## **string** methods"
   ]
  },
  {
   "cell_type": "code",
   "execution_count": 27,
   "metadata": {},
   "outputs": [
    {
     "name": "stdout",
     "output_type": "stream",
     "text": [
      "MY NAME IS AHMET ALTIN AND \n",
      "I'M 35 YEARS OLD.\n"
     ]
    }
   ],
   "source": [
    "print(greeting.upper())"
   ]
  },
  {
   "cell_type": "code",
   "execution_count": 28,
   "metadata": {},
   "outputs": [
    {
     "name": "stdout",
     "output_type": "stream",
     "text": [
      "my name is ahmet altin and \n",
      "i'm 35 years old.\n"
     ]
    }
   ],
   "source": [
    "print(greeting.upper().lower())"
   ]
  },
  {
   "cell_type": "code",
   "execution_count": 32,
   "metadata": {},
   "outputs": [
    {
     "name": "stdout",
     "output_type": "stream",
     "text": [
      "BU YAZIYI FARK ETMENIZLE\n",
      "fark etmeni̇zin,\n",
      "Hiç bir şey fark etmediğini\n",
      "Fark Edeceksi̇ni̇z.\n"
     ]
    }
   ],
   "source": [
    "print(\"bu yazıyı fark etmenizle\".upper(),\n",
    "      \"FARK ETMENİZin,\".lower(),\n",
    "      \"hiç bir şey fark etmediğini\".capitalize(),\n",
    "      \"fARK eDECEKSİNİZ.\".title(),\n",
    "      sep=\"\\n\")\n",
    "       "
   ]
  },
  {
   "cell_type": "code",
   "execution_count": 34,
   "metadata": {},
   "outputs": [
    {
     "name": "stdout",
     "output_type": "stream",
     "text": [
      "['Çaköslavakyal', 'Laşt', 'Ramad', 'Klar', 'M', 'Zdan M', 'S', 'N', 'Z?']\n"
     ]
    }
   ],
   "source": [
    "print(\"Çekoslavakyalılaştıramadıklarımızdan mısınız?\"\n",
    "      .replace(\"e\", \"a\")\n",
    "      .replace(\"o\", \"ö\")\n",
    "      .replace(\"ı\", \"_\")\n",
    "      .title()\n",
    "      .split(\"_\"))"
   ]
  },
  {
   "cell_type": "code",
   "execution_count": 35,
   "metadata": {},
   "outputs": [
    {
     "name": "stdout",
     "output_type": "stream",
     "text": [
      "tECHPRO IS THE BEST COURSE IN THE WORLD\n"
     ]
    }
   ],
   "source": [
    "str_1 = \"Techpro is the best course in the world\"\n",
    "print(str_1.swapcase())"
   ]
  },
  {
   "cell_type": "code",
   "execution_count": 36,
   "metadata": {},
   "outputs": [
    {
     "name": "stdout",
     "output_type": "stream",
     "text": [
      "t E C H P R O   I S   T H E   B E S T   C O U R S E   I N   T H E   W O R L D\n"
     ]
    }
   ],
   "source": [
    "str_1 = \"Techpro is the best course in the world\"\n",
    "print(*str_1.swapcase())"
   ]
  },
  {
   "cell_type": "code",
   "execution_count": 37,
   "metadata": {},
   "outputs": [
    {
     "name": "stdout",
     "output_type": "stream",
     "text": [
      "['T', 'chpro is th', ' b', 'st course in the world']\n"
     ]
    }
   ],
   "source": [
    "print(str_1.split(\"e\", maxsplit=3))"
   ]
  },
  {
   "cell_type": "code",
   "execution_count": 39,
   "metadata": {},
   "outputs": [
    {
     "name": "stdout",
     "output_type": "stream",
     "text": [
      "Tec☺\n",
      "pro is t☺\n",
      "e best course in t☺\n",
      "e world\n"
     ]
    }
   ],
   "source": [
    "print(*str_1.split(\"h\"),sep=\"☺\\n\")"
   ]
  },
  {
   "cell_type": "code",
   "execution_count": 42,
   "metadata": {},
   "outputs": [
    {
     "name": "stdout",
     "output_type": "stream",
     "text": [
      "echpro is the best course in the worl\n"
     ]
    }
   ],
   "source": [
    "print(str_1.strip(\"d\").strip(\"T\").strip(\"k\"))"
   ]
  },
  {
   "cell_type": "code",
   "execution_count": 43,
   "metadata": {},
   "outputs": [
    {
     "name": "stdout",
     "output_type": "stream",
     "text": [
      "*Techpro - is - the - best - course - in - the - world\n",
      "Techpro - is - the - best - course - in - the - world*\n"
     ]
    }
   ],
   "source": [
    "print(str_1.replace(\" \", \" - \").join(\"*\\n*\"))"
   ]
  },
  {
   "cell_type": "code",
   "execution_count": 44,
   "metadata": {},
   "outputs": [
    {
     "data": {
      "text/plain": [
       "39"
      ]
     },
     "execution_count": 44,
     "metadata": {},
     "output_type": "execute_result"
    }
   ],
   "source": [
    "len(str_1)"
   ]
  },
  {
   "cell_type": "code",
   "execution_count": 45,
   "metadata": {},
   "outputs": [
    {
     "name": "stdout",
     "output_type": "stream",
     "text": [
      "*****Techpro is the best course in the world******\n"
     ]
    }
   ],
   "source": [
    "print(str_1.center(50, \"*\"))"
   ]
  },
  {
   "cell_type": "code",
   "execution_count": 46,
   "metadata": {},
   "outputs": [
    {
     "name": "stdout",
     "output_type": "stream",
     "text": [
      "Techpro is the best course in the world***********\n"
     ]
    }
   ],
   "source": [
    "print(str_1.ljust(50, \"*\"))"
   ]
  },
  {
   "cell_type": "code",
   "execution_count": 47,
   "metadata": {},
   "outputs": [
    {
     "name": "stdout",
     "output_type": "stream",
     "text": [
      "***********Techpro is the best course in the world\n"
     ]
    }
   ],
   "source": [
    "print(str_1.rjust(50, \"*\"))"
   ]
  },
  {
   "cell_type": "code",
   "execution_count": 48,
   "metadata": {},
   "outputs": [],
   "source": [
    "str_2 = str_1.center(45, \"*\").center(50, \"%\").ljust(55, \"!\").rjust(60,\"+\")"
   ]
  },
  {
   "cell_type": "code",
   "execution_count": 49,
   "metadata": {},
   "outputs": [
    {
     "data": {
      "text/plain": [
       "'+++++%%***Techpro is the best course in the world***%%%!!!!!'"
      ]
     },
     "execution_count": 49,
     "metadata": {},
     "output_type": "execute_result"
    }
   ],
   "source": [
    "str_2"
   ]
  },
  {
   "cell_type": "code",
   "execution_count": 50,
   "metadata": {},
   "outputs": [],
   "source": [
    "str_2 = str_2.strip(\"%!+*\")"
   ]
  },
  {
   "cell_type": "code",
   "execution_count": 51,
   "metadata": {},
   "outputs": [
    {
     "data": {
      "text/plain": [
       "'Techpro is the best course in the world'"
      ]
     },
     "execution_count": 51,
     "metadata": {},
     "output_type": "execute_result"
    }
   ],
   "source": [
    "str_2"
   ]
  },
  {
   "cell_type": "code",
   "execution_count": 52,
   "metadata": {},
   "outputs": [],
   "source": [
    "str_2 = str_2.strip(\"T\")"
   ]
  },
  {
   "cell_type": "code",
   "execution_count": 53,
   "metadata": {},
   "outputs": [
    {
     "data": {
      "text/plain": [
       "'echpro is the best course in the world'"
      ]
     },
     "execution_count": 53,
     "metadata": {},
     "output_type": "execute_result"
    }
   ],
   "source": [
    "str_2"
   ]
  },
  {
   "cell_type": "code",
   "execution_count": 56,
   "metadata": {},
   "outputs": [
    {
     "ename": "TypeError",
     "evalue": "strip arg must be None or str",
     "output_type": "error",
     "traceback": [
      "\u001b[1;31m---------------------------------------------------------------------------\u001b[0m",
      "\u001b[1;31mTypeError\u001b[0m                                 Traceback (most recent call last)",
      "Cell \u001b[1;32mIn[56], line 1\u001b[0m\n\u001b[1;32m----> 1\u001b[0m str_2 \u001b[39m=\u001b[39m str_2\u001b[39m.\u001b[39;49mstrip(\u001b[39m5\u001b[39;49m)\n\u001b[0;32m      2\u001b[0m \u001b[39mprint\u001b[39m(str_2)\n",
      "\u001b[1;31mTypeError\u001b[0m: strip arg must be None or str"
     ]
    }
   ],
   "source": [
    "str_2 = str_2.strip(5)\n",
    "print(str_2)"
   ]
  },
  {
   "attachments": {},
   "cell_type": "markdown",
   "metadata": {},
   "source": [
    "# **is/elif/else"
   ]
  },
  {
   "cell_type": "code",
   "execution_count": 59,
   "metadata": {},
   "outputs": [
    {
     "name": "stdout",
     "output_type": "stream",
     "text": [
      "sayı 15 ile 25 arasındadır.\n"
     ]
    }
   ],
   "source": [
    "x = 20 \n",
    "if  x > 25:\n",
    "    print(\"sayı 25'ten büyüktür\")\n",
    "elif x < 15:\n",
    "    pribt(\"sayı 15 ten küçüktür\")    \n",
    "else: \n",
    "    print(\"sayı 15 ile 25 arasındadır.\")    "
   ]
  },
  {
   "cell_type": "code",
   "execution_count": 65,
   "metadata": {},
   "outputs": [
    {
     "name": "stdout",
     "output_type": "stream",
     "text": [
      "Girdiğiniz sayı 50 ve sayı 25'ten büyüktür\n"
     ]
    }
   ],
   "source": [
    "x = int(input(\"bir sayı giriniz:\"))\n",
    "print(f\"Girdiğiniz sayı {x} ve \", end=\"\")\n",
    "\n",
    "if  x >= 25:\n",
    "    print(\"sayı 25'ten büyüktür\")\n",
    "elif x <= 15:\n",
    "    pribt(\"sayı 15 ten küçüktür\")    \n",
    "else: \n",
    "    print(\"sayı 15 ile 25 arasındadır.\")"
   ]
  },
  {
   "cell_type": "code",
   "execution_count": 75,
   "metadata": {},
   "outputs": [
    {
     "name": "stdout",
     "output_type": "stream",
     "text": [
      "furkan, yaşınız 18 ve eğitim düzeyiniz lise olduğundan ehliyet alabilirsiniz.\n"
     ]
    }
   ],
   "source": [
    "ad = input(\"Adınızı giriniz:\")\n",
    "yas = int(input(\"Yaşınızı giriniz:\"))\n",
    "eğitim = input(\"Eğitim durumunuzu giriniz:\").lower()\n",
    "\n",
    "if  yas >= 18 and eğitim == \"lise\" or eğitim == \"üniversite\":\n",
    "    print(f\"{ad}, yaşınız {yas} ve eğitim düzeyiniz {eğitim} olduğundan ehliyet alabilirsiniz.\")\n",
    "else :\n",
    "    print(f\"{ad} ehliyet almak için uygun kriterlere sahip değilsiniz! \")"
   ]
  },
  {
   "cell_type": "code",
   "execution_count": 98,
   "metadata": {},
   "outputs": [
    {
     "name": "stdout",
     "output_type": "stream",
     "text": [
      "Ortalamanız beş\n"
     ]
    }
   ],
   "source": [
    "name = input(\"İsminizi giriniz :\")\n",
    "yazili1 = float(input(\"İlk yazılınızı giriniz :\"))\n",
    "yazili2 = float(input(\"İkinci yazılınızı giriniz :\"))\n",
    "sozlu1 = float(input(\"Sözlünüzü giriniz :\"))\n",
    "yazili1 \n",
    "\n",
    "ortalama = (yazili1 + yazili2 + sozlu1 ) / 3\n",
    "\n",
    "\n",
    "if (ortalama >= 0) and (ortalama <= 24):\n",
    "    print(f\"Ortalamanız sıfır\")\n",
    "elif (ortalama >= 25) and (ortalama <= 44):\n",
    "    print(f\"Ortalamanız bir\")\n",
    "elif (ortalama >= 45) and (ortalama <= 54):\n",
    "    print(f\"Ortalamanız iki\")\n",
    "elif (ortalama >= 55) and (ortalama <= 69):\n",
    "    print(f\"Ortalamanız üç\")\n",
    "elif (ortalama >= 70) and (ortalama <= 84):\n",
    "    print(f\"Ortalamanız dört\")\n",
    "elif (ortalama >= 85) and (ortalama <= 100):\n",
    "    print(f\"Ortalamanız beş\")\n",
    "else:\n",
    "    print(\"Muhtemelen yanlış bilgi girdiniz tekrar deneyiniz.\")"
   ]
  },
  {
   "cell_type": "code",
   "execution_count": 80,
   "metadata": {},
   "outputs": [
    {
     "name": "stdout",
     "output_type": "stream",
     "text": [
      "Sayı tek sayıdır.\n"
     ]
    }
   ],
   "source": [
    "sayi = int(input(\"Bir sayı giriniz:\"))\n",
    "if sayi % 2:\n",
    "    print(\"Sayı tek sayıdır.\")\n",
    "else:\n",
    "    print(\"Sayı çift sayıdır.\")    "
   ]
  },
  {
   "attachments": {},
   "cell_type": "markdown",
   "metadata": {},
   "source": [
    "## **Python Collection Types (Arrsy)**\n",
    "## lists, tuples, dictionaries,sets"
   ]
  },
  {
   "attachments": {},
   "cell_type": "markdown",
   "metadata": {},
   "source": [
    "### 1 - lists"
   ]
  },
  {
   "cell_type": "code",
   "execution_count": 81,
   "metadata": {},
   "outputs": [
    {
     "data": {
      "text/plain": [
       "[]"
      ]
     },
     "execution_count": 81,
     "metadata": {},
     "output_type": "execute_result"
    }
   ],
   "source": [
    "liste1= []\n",
    "liste1"
   ]
  },
  {
   "cell_type": "code",
   "execution_count": 82,
   "metadata": {},
   "outputs": [
    {
     "data": {
      "text/plain": [
       "list"
      ]
     },
     "execution_count": 82,
     "metadata": {},
     "output_type": "execute_result"
    }
   ],
   "source": [
    "type(liste1)"
   ]
  },
  {
   "cell_type": "code",
   "execution_count": 83,
   "metadata": {},
   "outputs": [
    {
     "name": "stdout",
     "output_type": "stream",
     "text": [
      "<class 'list'>\n"
     ]
    }
   ],
   "source": [
    "print(type(liste1))"
   ]
  },
  {
   "cell_type": "code",
   "execution_count": 84,
   "metadata": {},
   "outputs": [
    {
     "data": {
      "text/plain": [
       "['a', 'l', 'i', 'v', 'e', 'l', 'i', 'd', 'e', 'l', 'i']"
      ]
     },
     "execution_count": 84,
     "metadata": {},
     "output_type": "execute_result"
    }
   ],
   "source": [
    "liste2 = list(\"alivelideli\")\n",
    "liste2"
   ]
  },
  {
   "cell_type": "code",
   "execution_count": 85,
   "metadata": {},
   "outputs": [
    {
     "ename": "TypeError",
     "evalue": "list expected at most 1 argument, got 3",
     "output_type": "error",
     "traceback": [
      "\u001b[1;31m---------------------------------------------------------------------------\u001b[0m",
      "\u001b[1;31mTypeError\u001b[0m                                 Traceback (most recent call last)",
      "Cell \u001b[1;32mIn[85], line 1\u001b[0m\n\u001b[1;32m----> 1\u001b[0m liste3 \u001b[39m=\u001b[39m \u001b[39mlist\u001b[39;49m(\u001b[39m1256\u001b[39;49m, \u001b[39m\"\u001b[39;49m\u001b[39mali\u001b[39;49m\u001b[39m\"\u001b[39;49m ,\u001b[39mFalse\u001b[39;49;00m)\n",
      "\u001b[1;31mTypeError\u001b[0m: list expected at most 1 argument, got 3"
     ]
    }
   ],
   "source": [
    "liste3 = list(1256, \"ali\" ,False)"
   ]
  },
  {
   "cell_type": "code",
   "execution_count": 86,
   "metadata": {},
   "outputs": [
    {
     "ename": "TypeError",
     "evalue": "'bool' object is not iterable",
     "output_type": "error",
     "traceback": [
      "\u001b[1;31m---------------------------------------------------------------------------\u001b[0m",
      "\u001b[1;31mTypeError\u001b[0m                                 Traceback (most recent call last)",
      "Cell \u001b[1;32mIn[86], line 1\u001b[0m\n\u001b[1;32m----> 1\u001b[0m liste3 \u001b[39m=\u001b[39m \u001b[39mlist\u001b[39;49m(\u001b[39mFalse\u001b[39;49;00m)\n",
      "\u001b[1;31mTypeError\u001b[0m: 'bool' object is not iterable"
     ]
    }
   ],
   "source": [
    "liste3 = list(False)"
   ]
  },
  {
   "cell_type": "code",
   "execution_count": 88,
   "metadata": {},
   "outputs": [
    {
     "data": {
      "text/plain": [
       "[1, 2, 3, 4, 5]"
      ]
     },
     "execution_count": 88,
     "metadata": {},
     "output_type": "execute_result"
    }
   ],
   "source": [
    "liste3 = list([1,2,3,4,5])\n",
    "liste3"
   ]
  },
  {
   "cell_type": "code",
   "execution_count": 91,
   "metadata": {},
   "outputs": [
    {
     "ename": "TypeError",
     "evalue": "list expected at most 1 argument, got 3",
     "output_type": "error",
     "traceback": [
      "\u001b[1;31m---------------------------------------------------------------------------\u001b[0m",
      "\u001b[1;31mTypeError\u001b[0m                                 Traceback (most recent call last)",
      "Cell \u001b[1;32mIn[91], line 1\u001b[0m\n\u001b[1;32m----> 1\u001b[0m liste4 \u001b[39m=\u001b[39m \u001b[39mlist\u001b[39;49m([\u001b[39m1\u001b[39;49m,\u001b[39m2\u001b[39;49m,\u001b[39m3\u001b[39;49m,\u001b[39m4\u001b[39;49m,\u001b[39m5\u001b[39;49m],[\u001b[39m6\u001b[39;49m,\u001b[39m7\u001b[39;49m,\u001b[39m8\u001b[39;49m],[\u001b[39m9\u001b[39;49m,\u001b[39m10\u001b[39;49m])\n\u001b[0;32m      2\u001b[0m liste4\n",
      "\u001b[1;31mTypeError\u001b[0m: list expected at most 1 argument, got 3"
     ]
    }
   ],
   "source": [
    "liste4 = list([1,2,3,4,5],[6,7,8],[9,10])\n",
    "liste4"
   ]
  },
  {
   "cell_type": "code",
   "execution_count": 92,
   "metadata": {},
   "outputs": [
    {
     "name": "stdout",
     "output_type": "stream",
     "text": [
      "Ortalamanız: 110.0\n",
      "notunuz: 5\n"
     ]
    }
   ],
   "source": [
    "yazili1 = int(input(\"Birinci yazılı notunu gir: \"))\n",
    "yazili2 = int(input(\"İkinci yazılı notunu gir: \"))\n",
    "\n",
    "ortalama = (yazili1 + yazili2) / 2\n",
    "\n",
    "if ortalama >= 85:\n",
    "    notu=5\n",
    "elif ortalama >= 70:\n",
    "    notu=4\n",
    "elif ortalama >= 55:\n",
    "    notu=3\n",
    "elif ortalama >= 45:\n",
    "    notu=2\n",
    "elif ortalama >= 25:\n",
    "    notu=1\n",
    "else:\n",
    "     notu=0\n",
    "print(\"Ortalamanız:\", ortalama)\n",
    "print(\"notunuz:\", notu)"
   ]
  },
  {
   "cell_type": "code",
   "execution_count": 100,
   "metadata": {},
   "outputs": [
    {
     "name": "stdout",
     "output_type": "stream",
     "text": [
      "Ortalamanız: 101.33333333333333\n",
      "notunuz: hata\n"
     ]
    }
   ],
   "source": [
    "yazili1 = int(input(\"Birinci yazılı notunu gir: \"))\n",
    "yazili2 = int(input(\"İkinci yazılı notunu gir: \"))\n",
    "sozlu = int(input(\"Birinci yazılı notunu gir: \"))\n",
    "\n",
    "\n",
    "ortalama = (yazili1 + yazili2 +sozlu) / 3\n",
    "    \n",
    "if ortalama >= 85:\n",
    "    notu=5\n",
    "elif ortalama >= 70:\n",
    "    notu=4\n",
    "elif ortalama >= 55:\n",
    "    notu=3\n",
    "elif ortalama >= 45:\n",
    "    notu=2\n",
    "elif ortalama >= 25:\n",
    "    notu=1\n",
    "elif ortalama >= 25:\n",
    "    notu=0\n",
    "else:\n",
    "    notu=\"hata\"\n",
    "if yazili1<0 or yazili2<0 or sozlu<0 or yazili1>100 or yazili2>100 or sozlu>100:\n",
    "    notu=\"hata\"\n",
    "print(\"Ortalamanız:\", ortalama)\n",
    "print(\"notunuz:\", notu)"
   ]
  },
  {
   "cell_type": "code",
   "execution_count": null,
   "metadata": {},
   "outputs": [],
   "source": [
    "101"
   ]
  }
 ],
 "metadata": {
  "kernelspec": {
   "display_name": "Python 3",
   "language": "python",
   "name": "python3"
  },
  "language_info": {
   "codemirror_mode": {
    "name": "ipython",
    "version": 3
   },
   "file_extension": ".py",
   "mimetype": "text/x-python",
   "name": "python",
   "nbconvert_exporter": "python",
   "pygments_lexer": "ipython3",
   "version": "3.10.5"
  },
  "orig_nbformat": 4
 },
 "nbformat": 4,
 "nbformat_minor": 2
}
