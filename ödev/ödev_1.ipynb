{
 "cells": [
  {
   "attachments": {},
   "cell_type": "markdown",
   "metadata": {},
   "source": [
    "1- Write a program to prompt for a score between 0.0 and 100. If the score is out of range, print an error. If the score is between 0.0 and 100, print a grade using the following table: Score Grade\n",
    "\n",
    "90 and above AA\n",
    "\n",
    "80 and above BA\n",
    "\n",
    "70 and above B\n",
    "\n",
    "60 and above C\n",
    "\n",
    "50 and above D\n",
    "\n",
    "49 and below F\n",
    "\n",
    "If the user enters a value out of range, print a suitable error message and exit."
   ]
  },
  {
   "cell_type": "code",
   "execution_count": 29,
   "metadata": {},
   "outputs": [
    {
     "name": "stdout",
     "output_type": "stream",
     "text": [
      "F\n"
     ]
    }
   ],
   "source": [
    "score = int(input(\"Enter your score.\"))\n",
    "if 100 > score >= 90:\n",
    "    print (\"AA\")\n",
    "elif 90 >score >= 80:\n",
    "    print (\"BA\")\n",
    "elif 80 > score >= 70:\n",
    "    print(\"B\")\n",
    "elif 70 > score >= 60:\n",
    "    print (\"C\")\n",
    "elif 60 > score >= 50:\n",
    "    print (\"D\")\n",
    "elif 49 >= score > 0:\n",
    "    print (\"F\")\n",
    "else:\n",
    "    print(\"The value as entered is invalid.\")"
   ]
  },
  {
   "attachments": {},
   "cell_type": "markdown",
   "metadata": {},
   "source": [
    "2 - Ask the user to enter name. Print True if all characters are uppercase or all characters are  lowercase . Print False if uppercase and lowercase letters are used together."
   ]
  },
  {
   "cell_type": "code",
   "execution_count": 5,
   "metadata": {},
   "outputs": [
    {
     "name": "stdout",
     "output_type": "stream",
     "text": [
      "False\n"
     ]
    }
   ],
   "source": [
    "name = input(\"Please enter your name\")\n",
    "if name.isupper():\n",
    "    print(\"True\")\n",
    "elif name.islower():\n",
    "    print(\"True\")\n",
    "else:\n",
    "    print(\"False\")"
   ]
  },
  {
   "attachments": {},
   "cell_type": "markdown",
   "metadata": {},
   "source": [
    "3\n",
    "- Ask the user to enter a number.\n",
    "- If the entered number is divisible by 3, print \"Tech\",\n",
    "- If the entered number is divisible by 5, print \"pro\",\n",
    "- If the entered number is divisible by both 3 and 5 print \"Techpro\"\n",
    "- If it is divisible by neither, print the number itself."
   ]
  },
  {
   "cell_type": "code",
   "execution_count": 14,
   "metadata": {},
   "outputs": [
    {
     "name": "stdout",
     "output_type": "stream",
     "text": [
      "Techpro\n"
     ]
    }
   ],
   "source": [
    "num = int(input(\"Please enter a number\"))\n",
    "if num % 15 == 0:\n",
    "    print(\"Techpro\")\n",
    "elif num % 3 == 0:\n",
    "    print(\"Tech\")\n",
    "elif num % 5 == 0:\n",
    "    print(\"pro\")\n",
    "else:\n",
    "    print(num)"
   ]
  },
  {
   "cell_type": "code",
   "execution_count": 32,
   "metadata": {},
   "outputs": [
    {
     "data": {
      "text/plain": [
       "6"
      ]
     },
     "execution_count": 32,
     "metadata": {},
     "output_type": "execute_result"
    }
   ],
   "source": [
    " False or not 0 and 6 "
   ]
  },
  {
   "attachments": {},
   "cell_type": "markdown",
   "metadata": {},
   "source": []
  },
  {
   "cell_type": "code",
   "execution_count": null,
   "metadata": {},
   "outputs": [],
   "source": [
    "name = \"mfşgf\""
   ]
  }
 ],
 "metadata": {
  "kernelspec": {
   "display_name": "Python 3",
   "language": "python",
   "name": "python3"
  },
  "language_info": {
   "codemirror_mode": {
    "name": "ipython",
    "version": 3
   },
   "file_extension": ".py",
   "mimetype": "text/x-python",
   "name": "python",
   "nbconvert_exporter": "python",
   "pygments_lexer": "ipython3",
   "version": "3.10.5"
  },
  "orig_nbformat": 4
 },
 "nbformat": 4,
 "nbformat_minor": 2
}
