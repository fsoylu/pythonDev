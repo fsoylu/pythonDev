{
 "cells": [
  {
   "attachments": {},
   "cell_type": "markdown",
   "metadata": {},
   "source": [
    "# File Management\n"
   ]
  },
  {
   "attachments": {},
   "cell_type": "markdown",
   "metadata": {},
   "source": [
    "open()\n",
    "open(dosya_adi, dosya_erişme_modu)\n",
    "dosya_erişme_modu = dosyayı hangi amaçla açtığınızı belirtir.\n",
    "\n"
   ]
  },
  {
   "attachments": {},
   "cell_type": "markdown",
   "metadata": {},
   "source": [
    "'w' : (write) yazma modu.\n",
    "1. Dosyayı oluşturur.\n",
    "2. Dosya mevcutsa içeriğini siler ve yeni oluşturulacakları yazar."
   ]
  },
  {
   "cell_type": "code",
   "execution_count": 2,
   "metadata": {},
   "outputs": [
    {
     "data": {
      "text/plain": [
       "<_io.TextIOWrapper name='newfile.txt' mode='w' encoding='cp1254'>"
      ]
     },
     "execution_count": 2,
     "metadata": {},
     "output_type": "execute_result"
    }
   ],
   "source": [
    "open(\"newfile.txt\",\"w\")"
   ]
  },
  {
   "cell_type": "code",
   "execution_count": 6,
   "metadata": {},
   "outputs": [
    {
     "name": "stdout",
     "output_type": "stream",
     "text": [
      "<_io.TextIOWrapper name='newfile.txt' mode='w' encoding='cp1254'>\n"
     ]
    }
   ],
   "source": [
    "\n",
    "result = open(\"newfile.txt\",\"w\")\n",
    "print(result)"
   ]
  },
  {
   "cell_type": "code",
   "execution_count": 8,
   "metadata": {},
   "outputs": [
    {
     "data": {
      "text/plain": [
       "'c:\\\\Users\\\\lenovo\\\\Desktop\\\\python vscode\\\\python'"
      ]
     },
     "execution_count": 8,
     "metadata": {},
     "output_type": "execute_result"
    }
   ],
   "source": [
    "pwd"
   ]
  },
  {
   "cell_type": "code",
   "execution_count": 9,
   "metadata": {},
   "outputs": [
    {
     "data": {
      "text/plain": [
       "<function dir>"
      ]
     },
     "execution_count": 9,
     "metadata": {},
     "output_type": "execute_result"
    }
   ],
   "source": [
    "dir"
   ]
  },
  {
   "cell_type": "code",
   "execution_count": 10,
   "metadata": {},
   "outputs": [
    {
     "data": {
      "text/plain": [
       "['In',\n",
       " 'Out',\n",
       " '_',\n",
       " '_2',\n",
       " '_4',\n",
       " '_7',\n",
       " '_8',\n",
       " '_9',\n",
       " '__',\n",
       " '___',\n",
       " '__builtin__',\n",
       " '__builtins__',\n",
       " '__doc__',\n",
       " '__loader__',\n",
       " '__name__',\n",
       " '__package__',\n",
       " '__spec__',\n",
       " '__vsc_ipynb_file__',\n",
       " '_dh',\n",
       " '_i',\n",
       " '_i1',\n",
       " '_i10',\n",
       " '_i2',\n",
       " '_i3',\n",
       " '_i4',\n",
       " '_i5',\n",
       " '_i6',\n",
       " '_i7',\n",
       " '_i8',\n",
       " '_i9',\n",
       " '_ih',\n",
       " '_ii',\n",
       " '_iii',\n",
       " '_oh',\n",
       " 'exit',\n",
       " 'get_ipython',\n",
       " 'open',\n",
       " 'quit',\n",
       " 'result']"
      ]
     },
     "execution_count": 10,
     "metadata": {},
     "output_type": "execute_result"
    }
   ],
   "source": [
    "dir()"
   ]
  },
  {
   "cell_type": "code",
   "execution_count": 11,
   "metadata": {},
   "outputs": [
    {
     "ename": "PermissionError",
     "evalue": "[Errno 13] Permission denied: 'c:\\\\Users\\\\lenovo\\\\Desktop\\\\python vscode\\\\python'",
     "output_type": "error",
     "traceback": [
      "\u001b[1;31m---------------------------------------------------------------------------\u001b[0m",
      "\u001b[1;31mPermissionError\u001b[0m                           Traceback (most recent call last)",
      "Cell \u001b[1;32mIn[11], line 1\u001b[0m\n\u001b[1;32m----> 1\u001b[0m file \u001b[39m=\u001b[39m \u001b[39mopen\u001b[39;49m(\u001b[39m'\u001b[39;49m\u001b[39mc:\u001b[39;49m\u001b[39m\\\\\u001b[39;49;00m\u001b[39mUsers\u001b[39;49m\u001b[39m\\\\\u001b[39;49;00m\u001b[39mlenovo\u001b[39;49m\u001b[39m\\\\\u001b[39;49;00m\u001b[39mDesktop\u001b[39;49m\u001b[39m\\\\\u001b[39;49;00m\u001b[39mpython vscode\u001b[39;49m\u001b[39m\\\\\u001b[39;49;00m\u001b[39mpython\u001b[39;49m\u001b[39m'\u001b[39;49m)\n",
      "File \u001b[1;32m~\\AppData\\Roaming\\Python\\Python310\\site-packages\\IPython\\core\\interactiveshell.py:284\u001b[0m, in \u001b[0;36m_modified_open\u001b[1;34m(file, *args, **kwargs)\u001b[0m\n\u001b[0;32m    277\u001b[0m \u001b[39mif\u001b[39;00m file \u001b[39min\u001b[39;00m {\u001b[39m0\u001b[39m, \u001b[39m1\u001b[39m, \u001b[39m2\u001b[39m}:\n\u001b[0;32m    278\u001b[0m     \u001b[39mraise\u001b[39;00m \u001b[39mValueError\u001b[39;00m(\n\u001b[0;32m    279\u001b[0m         \u001b[39mf\u001b[39m\u001b[39m\"\u001b[39m\u001b[39mIPython won\u001b[39m\u001b[39m'\u001b[39m\u001b[39mt let you open fd=\u001b[39m\u001b[39m{\u001b[39;00mfile\u001b[39m}\u001b[39;00m\u001b[39m by default \u001b[39m\u001b[39m\"\u001b[39m\n\u001b[0;32m    280\u001b[0m         \u001b[39m\"\u001b[39m\u001b[39mas it is likely to crash IPython. If you know what you are doing, \u001b[39m\u001b[39m\"\u001b[39m\n\u001b[0;32m    281\u001b[0m         \u001b[39m\"\u001b[39m\u001b[39myou can use builtins\u001b[39m\u001b[39m'\u001b[39m\u001b[39m open.\u001b[39m\u001b[39m\"\u001b[39m\n\u001b[0;32m    282\u001b[0m     )\n\u001b[1;32m--> 284\u001b[0m \u001b[39mreturn\u001b[39;00m io_open(file, \u001b[39m*\u001b[39margs, \u001b[39m*\u001b[39m\u001b[39m*\u001b[39mkwargs)\n",
      "\u001b[1;31mPermissionError\u001b[0m: [Errno 13] Permission denied: 'c:\\\\Users\\\\lenovo\\\\Desktop\\\\python vscode\\\\python'"
     ]
    }
   ],
   "source": [
    "file = open(ü )"
   ]
  },
  {
   "cell_type": "code",
   "execution_count": 12,
   "metadata": {},
   "outputs": [
    {
     "data": {
      "text/plain": [
       "'c:\\\\Users\\\\lenovo\\\\Desktop\\\\python vscode\\\\python'"
      ]
     },
     "execution_count": 12,
     "metadata": {},
     "output_type": "execute_result"
    }
   ],
   "source": [
    "pwd\n"
   ]
  },
  {
   "cell_type": "code",
   "execution_count": 14,
   "metadata": {},
   "outputs": [
    {
     "ename": "OSError",
     "evalue": "[Errno 22] Invalid argument: 'c:\\\\Users\\\\lenovo\\\\Desktop\\\\newfile.txt,\"w\"'",
     "output_type": "error",
     "traceback": [
      "\u001b[1;31m---------------------------------------------------------------------------\u001b[0m",
      "\u001b[1;31mOSError\u001b[0m                                   Traceback (most recent call last)",
      "Cell \u001b[1;32mIn[14], line 1\u001b[0m\n\u001b[1;32m----> 1\u001b[0m file\u001b[39m=\u001b[39m \u001b[39mopen\u001b[39;49m(\u001b[39m'\u001b[39;49m\u001b[39mc:\u001b[39;49m\u001b[39m\\\\\u001b[39;49;00m\u001b[39mUsers\u001b[39;49m\u001b[39m\\\\\u001b[39;49;00m\u001b[39mlenovo\u001b[39;49m\u001b[39m\\\\\u001b[39;49;00m\u001b[39mDesktop\u001b[39;49m\u001b[39m\\\\\u001b[39;49;00m\u001b[39mnewfile.txt,\u001b[39;49m\u001b[39m\"\u001b[39;49m\u001b[39mw\u001b[39;49m\u001b[39m\"\u001b[39;49m\u001b[39m'\u001b[39;49m)\n\u001b[0;32m      2\u001b[0m \u001b[39mprint\u001b[39m(file)\n",
      "File \u001b[1;32m~\\AppData\\Roaming\\Python\\Python310\\site-packages\\IPython\\core\\interactiveshell.py:284\u001b[0m, in \u001b[0;36m_modified_open\u001b[1;34m(file, *args, **kwargs)\u001b[0m\n\u001b[0;32m    277\u001b[0m \u001b[39mif\u001b[39;00m file \u001b[39min\u001b[39;00m {\u001b[39m0\u001b[39m, \u001b[39m1\u001b[39m, \u001b[39m2\u001b[39m}:\n\u001b[0;32m    278\u001b[0m     \u001b[39mraise\u001b[39;00m \u001b[39mValueError\u001b[39;00m(\n\u001b[0;32m    279\u001b[0m         \u001b[39mf\u001b[39m\u001b[39m\"\u001b[39m\u001b[39mIPython won\u001b[39m\u001b[39m'\u001b[39m\u001b[39mt let you open fd=\u001b[39m\u001b[39m{\u001b[39;00mfile\u001b[39m}\u001b[39;00m\u001b[39m by default \u001b[39m\u001b[39m\"\u001b[39m\n\u001b[0;32m    280\u001b[0m         \u001b[39m\"\u001b[39m\u001b[39mas it is likely to crash IPython. If you know what you are doing, \u001b[39m\u001b[39m\"\u001b[39m\n\u001b[0;32m    281\u001b[0m         \u001b[39m\"\u001b[39m\u001b[39myou can use builtins\u001b[39m\u001b[39m'\u001b[39m\u001b[39m open.\u001b[39m\u001b[39m\"\u001b[39m\n\u001b[0;32m    282\u001b[0m     )\n\u001b[1;32m--> 284\u001b[0m \u001b[39mreturn\u001b[39;00m io_open(file, \u001b[39m*\u001b[39margs, \u001b[39m*\u001b[39m\u001b[39m*\u001b[39mkwargs)\n",
      "\u001b[1;31mOSError\u001b[0m: [Errno 22] Invalid argument: 'c:\\\\Users\\\\lenovo\\\\Desktop\\\\newfile.txt,\"w\"'"
     ]
    }
   ],
   "source": [
    "file= open('c:\\\\Users\\\\lenovo\\\\Desktop\\\\newfile.txt, \"w\"')\n",
    "print(file)"
   ]
  },
  {
   "cell_type": "code",
   "execution_count": 25,
   "metadata": {},
   "outputs": [
    {
     "name": "stdout",
     "output_type": "stream",
     "text": [
      "<_io.TextIOWrapper name='newfile.txt' mode='w' encoding='utf-8'>\n"
     ]
    }
   ],
   "source": [
    "file = open(\"newfile.txt\", \"w\", encoding=\"utf-8\")\n",
    "file.write(\"Ahmet Külyutmaz\")\n",
    "print(file)\n",
    "file.close()"
   ]
  },
  {
   "attachments": {},
   "cell_type": "markdown",
   "metadata": {},
   "source": [
    "\"a\":(append) ekleme. Dostya konumda yoksa oluşturur.Var olan dosyanın "
   ]
  },
  {
   "cell_type": "code",
   "execution_count": 26,
   "metadata": {},
   "outputs": [],
   "source": [
    "file = open(\"newfile.txt\",\"a\",encoding=\"utf-8\")\n",
    "file.write(\"\\nFatma Külyutmaz\\n\")\n",
    "file.close()"
   ]
  },
  {
   "cell_type": "code",
   "execution_count": 29,
   "metadata": {},
   "outputs": [
    {
     "ename": "FileExistsError",
     "evalue": "[Errno 17] File exists: 'newfile.txt'",
     "output_type": "error",
     "traceback": [
      "\u001b[1;31m---------------------------------------------------------------------------\u001b[0m",
      "\u001b[1;31mFileExistsError\u001b[0m                           Traceback (most recent call last)",
      "Cell \u001b[1;32mIn[29], line 1\u001b[0m\n\u001b[1;32m----> 1\u001b[0m file \u001b[39m=\u001b[39m \u001b[39mopen\u001b[39;49m(\u001b[39m\"\u001b[39;49m\u001b[39mnewfile.txt\u001b[39;49m\u001b[39m\"\u001b[39;49m,\u001b[39m\"\u001b[39;49m\u001b[39mx\u001b[39;49m\u001b[39m\"\u001b[39;49m, encoding\u001b[39m=\u001b[39;49m\u001b[39m\"\u001b[39;49m\u001b[39mutf-8\u001b[39;49m\u001b[39m\"\u001b[39;49m)\n\u001b[0;32m      2\u001b[0m file\u001b[39m.\u001b[39mwrite(\u001b[39m\"\u001b[39m\u001b[39mNalan Külyutmaz\u001b[39m\u001b[39m\\n\u001b[39;00m\u001b[39m\"\u001b[39m)\n\u001b[0;32m      3\u001b[0m file\u001b[39m.\u001b[39mclose()\n",
      "File \u001b[1;32m~\\AppData\\Roaming\\Python\\Python310\\site-packages\\IPython\\core\\interactiveshell.py:284\u001b[0m, in \u001b[0;36m_modified_open\u001b[1;34m(file, *args, **kwargs)\u001b[0m\n\u001b[0;32m    277\u001b[0m \u001b[39mif\u001b[39;00m file \u001b[39min\u001b[39;00m {\u001b[39m0\u001b[39m, \u001b[39m1\u001b[39m, \u001b[39m2\u001b[39m}:\n\u001b[0;32m    278\u001b[0m     \u001b[39mraise\u001b[39;00m \u001b[39mValueError\u001b[39;00m(\n\u001b[0;32m    279\u001b[0m         \u001b[39mf\u001b[39m\u001b[39m\"\u001b[39m\u001b[39mIPython won\u001b[39m\u001b[39m'\u001b[39m\u001b[39mt let you open fd=\u001b[39m\u001b[39m{\u001b[39;00mfile\u001b[39m}\u001b[39;00m\u001b[39m by default \u001b[39m\u001b[39m\"\u001b[39m\n\u001b[0;32m    280\u001b[0m         \u001b[39m\"\u001b[39m\u001b[39mas it is likely to crash IPython. If you know what you are doing, \u001b[39m\u001b[39m\"\u001b[39m\n\u001b[0;32m    281\u001b[0m         \u001b[39m\"\u001b[39m\u001b[39myou can use builtins\u001b[39m\u001b[39m'\u001b[39m\u001b[39m open.\u001b[39m\u001b[39m\"\u001b[39m\n\u001b[0;32m    282\u001b[0m     )\n\u001b[1;32m--> 284\u001b[0m \u001b[39mreturn\u001b[39;00m io_open(file, \u001b[39m*\u001b[39margs, \u001b[39m*\u001b[39m\u001b[39m*\u001b[39mkwargs)\n",
      "\u001b[1;31mFileExistsError\u001b[0m: [Errno 17] File exists: 'newfile.txt'"
     ]
    }
   ],
   "source": [
    "file = open(\"newfile.txt\",\"x\", encoding=\"utf-8\")\n",
    "file.write(\"Nalan Külyutmaz\\n\")\n",
    "file.close()"
   ]
  },
  {
   "cell_type": "code",
   "execution_count": 30,
   "metadata": {},
   "outputs": [],
   "source": [
    "file = open(\"newfile.txt\",\"a\", encoding=\"utf-8\")\n",
    "file.write(\"Nalan Külyutmaz\\n\")\n",
    "file.close()"
   ]
  },
  {
   "attachments": {},
   "cell_type": "markdown",
   "metadata": {},
   "source": [
    "'r':(read) okuma. dosya konumda yoksa oluşturmaz hata verir."
   ]
  },
  {
   "cell_type": "code",
   "execution_count": 33,
   "metadata": {},
   "outputs": [
    {
     "name": "stdout",
     "output_type": "stream",
     "text": [
      "<_io.TextIOWrapper name='newfile.txt' mode='r' encoding='cp1254'>\n"
     ]
    }
   ],
   "source": [
    "file = open(\"newfile.txt\")\n",
    "\n",
    "print(file)\n",
    "file.close()"
   ]
  },
  {
   "cell_type": "code",
   "execution_count": 35,
   "metadata": {},
   "outputs": [
    {
     "name": "stdout",
     "output_type": "stream",
     "text": [
      "<_io.TextIOWrapper name='newfile.txt' mode='r' encoding='cp1254'>\n"
     ]
    }
   ],
   "source": [
    "file = open(\"newfile.txt\",\"r\")\n",
    "\n",
    "print(file)\n",
    "file.close()"
   ]
  },
  {
   "cell_type": "code",
   "execution_count": 38,
   "metadata": {},
   "outputs": [
    {
     "name": "stdout",
     "output_type": "stream",
     "text": [
      "<_io.TextIOWrapper name='newfile.txt' mode='r' encoding='cp1254'>\n",
      "Dosya kapandı\n"
     ]
    }
   ],
   "source": [
    "try:\n",
    "    file = open(\"newfile.txt\",\"r\")\n",
    "    print(file)\n",
    "except FileExistsError:\n",
    "    print(\"Dosya okuma hatası\")  \n",
    "finally:\n",
    "    print(\"Dosya kapandı\")\n",
    "    file.close()      "
   ]
  },
  {
   "cell_type": "code",
   "execution_count": 40,
   "metadata": {},
   "outputs": [
    {
     "name": "stdout",
     "output_type": "stream",
     "text": [
      "Dosya okuma hatası\n",
      "Dosya kapandı\n"
     ]
    }
   ],
   "source": [
    "try:\n",
    "    file = open(\"newfile3.txt\",\"r\")\n",
    "    print(file)\n",
    "except FileNotFoundError:\n",
    "    print(\"Dosya okuma hatası\")  \n",
    "finally:\n",
    "    print(\"Dosya kapandı\")\n",
    "    file.close()      "
   ]
  },
  {
   "cell_type": "code",
   "execution_count": 44,
   "metadata": {},
   "outputs": [
    {
     "name": "stdout",
     "output_type": "stream",
     "text": [
      "Ahmet Külyutmaz\n",
      "\n",
      "Fatma Külyutmaz\n",
      "\n",
      "Nalan Külyutmaz\n",
      "\n"
     ]
    }
   ],
   "source": [
    "file = open(\"newfile.txt\" ,\"r\",encoding=\"utf-8\")\n",
    "\n",
    "  \n",
    "for i in file:\n",
    "    \n",
    "    print(i, end=\"\\n\")\n",
    "    \n",
    "file.close()    \n",
    "          "
   ]
  },
  {
   "cell_type": "code",
   "execution_count": 47,
   "metadata": {},
   "outputs": [
    {
     "name": "stdout",
     "output_type": "stream",
     "text": [
      "Ahmet Külyutmaz\n",
      "Fatma Külyutmaz\n",
      "Nalan Külyutmaz\n",
      "\n"
     ]
    }
   ],
   "source": [
    "file = open(\"newfile.txt\" ,\"r\",encoding=\"utf-8\")\n",
    "content = file.read()\n",
    "print(content)\n",
    "file.close()"
   ]
  },
  {
   "cell_type": "code",
   "execution_count": 53,
   "metadata": {},
   "outputs": [
    {
     "name": "stdout",
     "output_type": "stream",
     "text": [
      "içerikl1\n",
      "Ahmet Külyutmaz\n",
      "Fatma Külyutmaz\n",
      "Nalan Külyutmaz\n",
      "\n",
      "içerik2\n",
      "Ahmet Külyutmaz\n",
      "Fatma Külyutmaz\n",
      "Nalan Külyutmaz\n",
      "\n"
     ]
    }
   ],
   "source": [
    "file = open(\"newfile.txt\", \"r\",encoding=\"utf-8\")\n",
    "\n",
    "content1 = file.read()\n",
    "print(\"içerikl1\")\n",
    "print(content)\n",
    "file = open(\"newfile.txt\", \"r\",encoding=\"utf-8\")\n",
    "content2 = file.read()\n",
    "print(\"içerik2\")\n",
    "print(content2)\n",
    "file.close()"
   ]
  },
  {
   "cell_type": "code",
   "execution_count": 55,
   "metadata": {},
   "outputs": [
    {
     "name": "stdout",
     "output_type": "stream",
     "text": [
      "içerikl1\n",
      "Ahmet Külyutmaz\n",
      "Fatma Külyutmaz\n",
      "Nalan Külyutmaz\n",
      "\n",
      "içerik2\n",
      "\n",
      "Fatma Külyutmaz\n",
      "Nalan Külyutmaz\n",
      "\n"
     ]
    }
   ],
   "source": [
    "file = open(\"newfile.txt\", \"r\",encoding=\"utf-8\")\n",
    "\n",
    "content1 = file.read()\n",
    "print(\"içerikl1\")\n",
    "print(content)\n",
    "file.seek(16)\n",
    "content2 = file.read()\n",
    "print(\"içerik2\")\n",
    "print(content2)\n",
    "file.close()"
   ]
  },
  {
   "cell_type": "code",
   "execution_count": 56,
   "metadata": {},
   "outputs": [
    {
     "ename": "UnsupportedOperation",
     "evalue": "not readable",
     "output_type": "error",
     "traceback": [
      "\u001b[1;31m---------------------------------------------------------------------------\u001b[0m",
      "\u001b[1;31mUnsupportedOperation\u001b[0m                      Traceback (most recent call last)",
      "Cell \u001b[1;32mIn[56], line 3\u001b[0m\n\u001b[0;32m      1\u001b[0m file \u001b[39m=\u001b[39m \u001b[39mopen\u001b[39m(\u001b[39m\"\u001b[39m\u001b[39mnewfile.txt\u001b[39m\u001b[39m\"\u001b[39m,\u001b[39m\"\u001b[39m\u001b[39ma\u001b[39m\u001b[39m\"\u001b[39m, encoding\u001b[39m=\u001b[39m\u001b[39m\"\u001b[39m\u001b[39mutf-8\u001b[39m\u001b[39m\"\u001b[39m)\n\u001b[0;32m      2\u001b[0m file\u001b[39m.\u001b[39mwrite(\u001b[39m\"\u001b[39m\u001b[39mPelin Külyutmaz\u001b[39m\u001b[39m\\n\u001b[39;00m\u001b[39m\"\u001b[39m)\n\u001b[1;32m----> 3\u001b[0m sonuç \u001b[39m=\u001b[39m file\u001b[39m.\u001b[39;49mread()\n\u001b[0;32m      4\u001b[0m \u001b[39mprint\u001b[39m(sonuç)\n\u001b[0;32m      5\u001b[0m file\u001b[39m.\u001b[39mclose()\n",
      "\u001b[1;31mUnsupportedOperation\u001b[0m: not readable"
     ]
    }
   ],
   "source": [
    "file = open(\"newfile.txt\",\"a\", encoding=\"utf-8\")\n",
    "file.write(\"Pelin Külyutmaz\\n\")\n",
    "sonuç = file.read()\n",
    "print(sonuç)\n",
    "file.close()"
   ]
  },
  {
   "cell_type": "code",
   "execution_count": 59,
   "metadata": {},
   "outputs": [
    {
     "name": "stdout",
     "output_type": "stream",
     "text": [
      " Kü\n"
     ]
    }
   ],
   "source": [
    "file = open(\"newfile.txt\",\"r\", encoding=\"utf-8\")\n",
    "\n",
    "content = file.read(5)\n",
    "content = file.read(3)\n",
    "print(content)\n",
    "\n",
    "file.close()"
   ]
  },
  {
   "cell_type": "code",
   "execution_count": 65,
   "metadata": {},
   "outputs": [
    {
     "name": "stdout",
     "output_type": "stream",
     "text": [
      "Ahmet Külyutmaz\n",
      "Fatma Külyutmaz\n",
      "Nalan Külyutmaz\n",
      "Pelin Külyutmaz\n"
     ]
    }
   ],
   "source": [
    "file = open(\"newfile.txt\",\"r\", encoding=\"utf-8\")\n",
    "print(file.readline(), end=\"\")\n",
    "print(file.readline(), end=\"\")\n",
    "print(file.readline(), end=\"\")\n",
    "print(file.readline(), end=\"\")\n",
    "print(file.readline(), end=\"\")\n",
    "file.close()"
   ]
  },
  {
   "cell_type": "code",
   "execution_count": 68,
   "metadata": {},
   "outputs": [
    {
     "ename": "SyntaxError",
     "evalue": "incomplete input (713999299.py, line 9)",
     "output_type": "error",
     "traceback": [
      "\u001b[1;36m  Cell \u001b[1;32mIn[68], line 9\u001b[1;36m\u001b[0m\n\u001b[1;33m    \u001b[0m\n\u001b[1;37m    ^\u001b[0m\n\u001b[1;31mSyntaxError\u001b[0m\u001b[1;31m:\u001b[0m incomplete input\n"
     ]
    }
   ],
   "source": [
    "with  open(\"neww.txt\",\"r\", encoding=\"utf-8\") as file:\n",
    "    contemt = file.read(100)\n",
    "    print(content)\n",
    "    file.seek(0)\n",
    "    print(file.tell())\n",
    "    contemt2 = file.read(200)\n",
    "    print(content2)\n",
    "    print(file.tell()\n",
    "    "
   ]
  },
  {
   "cell_type": "code",
   "execution_count": 69,
   "metadata": {},
   "outputs": [],
   "source": [
    "with open(\"newnew.txt\",\"w\",encoding=\"utf-8\") as file:\n",
    "    file.write(\"\"\"        \n",
    "     Milyon Kere Ayten\n",
    "    Ben bir Aytendir tutturmuşum  oh ne iyi\n",
    "    Aytenli içkiler içip sarhoş oluyorum, ne güzel!\n",
    "    Hoşuma gitmiyorsa rengi denizlerin,\n",
    "    Biraz Ayten sürüyorum, güzelleşiyor.\n",
    "    Şarkılar söylüyorum,\n",
    "    Şiirler yazıyorum Ayten üstüne.\n",
    "    Saatim her zaman Aytene beş var\n",
    "    Ya da Ayteni beş geçiyor.\n",
    "    Ne yana baksam gördüğüm o,\n",
    "    Gözümü yumsam aklımdan Ayten geçiyor.\n",
    "    Bana sorarsanız mevsimlerden Aytendeyiz,\n",
    "    Günlerden Aytenertesidir.\n",
    "    Odur gün gün beni yaşatan.\n",
    "    Onun kokusu sarmıştır sokakları,\n",
    "    Onun gözleridir şafakta gördüğüm\n",
    "    Akşam kızıllığında onun dudakları.\n",
    "    Başka kadını övmeyin yanımda, gücenirim.\n",
    "    Ayteni övecekseniz ne alâ, oturabilirsiniz.\n",
    "    Bir kadeh de sizinle içeriz, Aytenli\n",
    "    İki laf ederiz.\n",
    "    Onu siz de seversiniz benim gibi.\n",
    "    Ama yağma yok Ayteni size bırakmam.\n",
    "    Alın tek kat elbisemi size vereyim,\n",
    "    Cebimde bir on liram var\n",
    "    Onu da alın gerekirse.\n",
    "    Ben Ayteni düşünürüm, üşümem.\n",
    "    Üç kere adını tekrarlarım, karnım doyar.\n",
    "    Parasızlık da bir şey mi?\n",
    "    Ölüm bile kötü değil Aytensizlik kadar.\n",
    "    Ona uğramayan gemiler batsın,\n",
    "    Ondan geçmeyen trenler devrilsin,\n",
    "    Onu sevmeyen yürek taş kesilsin,\n",
    "    Kapansın onu görmeyen gözler,\n",
    "    Onu övmeyen diller kurusun.\n",
    "    İki kere iki dört, elde var Ayten.\n",
    "    Bundan böyle dünyada\n",
    "    Aşkın adı Ayten olsun.\n",
    "    Ümit Yaşar Oğuzcan\n",
    "          \"\"\")\n",
    "    file.close()"
   ]
  },
  {
   "cell_type": "code",
   "execution_count": 73,
   "metadata": {},
   "outputs": [
    {
     "name": "stdout",
     "output_type": "stream",
     "text": [
      "deneme  \n",
      "     Milyon Kere Ayten\n",
      "    Ben bir Aytendir tutturmuşum  oh ne iyi\n",
      "    Aytenli içkiler içip sarhoş oluyorum, ne güzel!\n",
      "    Hoşuma gitmiyorsa rengi denizlerin,\n",
      "    Biraz Ayten sürüyorum, güzelleşiyor.\n",
      "    Şarkılar söylüyorum,\n",
      "    Şiirler yazıyorum Ayten üstüne.\n",
      "    Saatim her zaman Aytene beş var\n",
      "    Ya da Ayteni beş geçiyor.\n",
      "    Ne yana baksam gördüğüm o,\n",
      "    Gözümü yumsam aklımdan Ayten geçiyor.\n",
      "    Bana sorarsanız mevsimlerden Aytendeyiz,\n",
      "    Günlerden Aytenertesidir.\n",
      "    Odur gün gün beni yaşatan.\n",
      "    Onun kokusu sarmıştır sokakları,\n",
      "    Onun gözleridir şafakta gördüğüm\n",
      "    Akşam kızıllığında onun dudakları.\n",
      "    Başka kadını övmeyin yanımda, gücenirim.\n",
      "    Ayteni övecekseniz ne alâ, oturabilirsiniz.\n",
      "    Bir kadeh de sizinle içeriz, Aytenli\n",
      "    İki laf ederiz.\n",
      "    Onu siz de seversiniz benim gibi.\n",
      "    Ama yağma yok Ayteni size bırakmam.\n",
      "    Alın tek kat elbisemi size vereyim,\n",
      "    Cebimde bir on liram var\n",
      "    Onu da alın gerekirse.\n",
      "    Ben Ayteni düşünürüm, üşümem.\n",
      "    Üç kere adını tekrarlarım, karnım doyar.\n",
      "    Parasızlık da bir şey mi?\n",
      "    Ölüm bile kötü değil Aytensizlik kadar.\n",
      "    Ona uğramayan gemiler batsın,\n",
      "    Ondan geçmeyen trenler devrilsin,\n",
      "    Onu sevmeyen yürek taş kesilsin,\n",
      "    Kapansın onu görmeyen gözler,\n",
      "    Onu övmeyen diller kurusun.\n",
      "    İki kere iki dört, elde var Ayten.\n",
      "    Bundan böyle dünyada\n",
      "    Aşkın adı Ayten olsun.\n",
      "    Ümit Yaşar Oğuzcan\n",
      "          \u0000\u0000\u0000\u0000\u0000\u0000\u0000\u0000\u0000\u0000\u0000\u0000\u0000\u0000\u0000\u0000\u0000\u0000\u0000\u0000\u0000\u0000\u0000\u0000\u0000\u0000\u0000\u0000\u0000\u0000\u0000\u0000\u0000\u0000\u0000\u0000\u0000\u0000\u0000\u0000\u0000\u0000\u0000\u0000\u0000\u0000\u0000\u0000\u0000\u0000\u0000\u0000\u0000\u0000\u0000\u0000\u0000\u0000\u0000\u0000\u0000\u0000\u0000\u0000\u0000\u0000\u0000\u0000\u0000\u0000\u0000\u0000\u0000\u0000\u0000\u0000\u0000\u0000\u0000\u0000\u0000\u0000\u0000\u0000\u0000\u0000\u0000\u0000\u0000\u0000\u0000\u0000\u0000\u0000\u0000\u0000\u0000\u0000\u0000\u0000\u0000\u0000\u0000\u0000\u0000\u0000\u0000\u0000\u0000\u0000\u0000\u0000\u0000\u0000\u0000\u0000\u0000\u0000\u0000\u0000\u0000\u0000\u0000\u0000\u0000\u0000\u0000\u0000\u0000\u0000\u0000\u0000\u0000\u0000\u0000\u0000\u0000\u0000\u0000\u0000\u0000\u0000\u0000\u0000\u0000\u0000\u0000\u0000\u0000\u0000\u0000\u0000\u0000\u0000\u0000\u0000\u0000\u0000\u0000\u0000\u0000\u0000\u0000\u0000\u0000\u0000\u0000\u0000\u0000\u0000\u0000\u0000\u0000\u0000\u0000\u0000\u0000\u0000\u0000\u0000\u0000\u0000\u0000\u0000\u0000\u0000\u0000\u0000\u0000\u0000\u0000\u0000\u0000\u0000\u0000\u0000\u0000\u0000\u0000\u0000\u0000\u0000\u0000\u0000\u0000\u0000\u0000\u0000\u0000\u0000\u0000\u0000\u0000\u0000\u0000\u0000\u0000\u0000\u0000\u0000\u0000\u0000\u0000\u0000\u0000\u0000\u0000\u0000\u0000\u0000\u0000\u0000\u0000\u0000\u0000\u0000\u0000\u0000\u0000\u0000\u0000\u0000\u0000\u0000\u0000\u0000\u0000\u0000\u0000\u0000\u0000\u0000\u0000\u0000\u0000\u0000\u0000\u0000\u0000\u0000\u0000\u0000\u0000\u0000\u0000\u0000\u0000\u0000\u0000\u0000\u0000\u0000\u0000\u0000\u0000\u0000\u0000\u0000\u0000\u0000\u0000\u0000\u0000\u0000\u0000\u0000\u0000\u0000\u0000\u0000\u0000\u0000\u0000\u0000\u0000\u0000\u0000\u0000\u0000\u0000\u0000\u0000\u0000\u0000\u0000\u0000\u0000\u0000\u0000\u0000\u0000\u0000\u0000\u0000\u0000\u0000\u0000\u0000\u0000\u0000\u0000\u0000\u0000\u0000\u0000\u0000\u0000\u0000\u0000\u0000\u0000\u0000\u0000\u0000\u0000\u0000\u0000\u0000\u0000\u0000\u0000\u0000\u0000\u0000\u0000\u0000\u0000\u0000\u0000\u0000\u0000\u0000\u0000\u0000\u0000\u0000\u0000\u0000\u0000\u0000\u0000\u0000\u0000\u0000\u0000\u0000\u0000\u0000\u0000\u0000\u0000\u0000\u0000\u0000\u0000\u0000\u0000\u0000\u0000\u0000\u0000\u0000\u0000\u0000\u0000\u0000\u0000\u0000\u0000\u0000\u0000\u0000\u0000\u0000\u0000\u0000\u0000\u0000\u0000\u0000\u0000\u0000\u0000\u0000\u0000\u0000\u0000\u0000\u0000\u0000\u0000\u0000\u0000\u0000\u0000\u0000\u0000\u0000\u0000\u0000\u0000\u0000\u0000\u0000\u0000\u0000\u0000\u0000\u0000\u0000\u0000\u0000\u0000\u0000\u0000\u0000\u0000\u0000\u0000\u0000\u0000\u0000deneme\n",
      "2003\n"
     ]
    }
   ],
   "source": [
    "with open(\"newnew.txt\", \"r+\", encoding=\"utf-8\") as file:\n",
    "    file.seek(1997)\n",
    "    file.write(\"deneme\")\n",
    "with open(\"newnew.txt\",\"r\", encoding=\"utf-8\") as file:   \n",
    "    print(file.read())\n",
    "    print(file.tell())"
   ]
  },
  {
   "cell_type": "code",
   "execution_count": null,
   "metadata": {},
   "outputs": [],
   "source": [
    "with open(\"newnew.txt\",\"a\",)"
   ]
  },
  {
   "cell_type": "code",
   "execution_count": 76,
   "metadata": {},
   "outputs": [
    {
     "name": "stdout",
     "output_type": "stream",
     "text": [
      "['deneme  \\n', '     Milyon Kere Ayten\\n', '    Ben bir Aytendir tutturmuşum  oh ne iyi\\n', '    Aytenli içkiler içip sarhoş oluyorum, ne güzel!\\n', '    Hoşuma gitmiyorsa rengi denizlerin,\\n', '    Biraz Ayten sürüyorum, güzelleşiyor.\\n', '    Şarkılar söylüyorum,\\n', '    Şiirler yazıyorum Ayten üstüne.\\n', '    Saatim her zaman Aytene beş var\\n', '    Ya da Ayteni beş geçiyor.\\n', '    Ne yana baksam gördüğüm o,\\n', '    Gözümü yumsam aklımdan Ayten geçiyor.\\n', '    Bana sorarsanız mevsimlerden Aytendeyiz,\\n', '    Günlerden Aytenertesidir.\\n', '    Odur gün gün beni yaşatan.\\n', '    Onun kokusu sarmıştır sokakları,\\n', '    Onun gözleridir şafakta gördüğüm\\n', '    Akşam kızıllığında onun dudakları.\\n', '    Başka kadını övmeyin yanımda, gücenirim.\\n', '    Ayteni övecekseniz ne alâ, oturabilirsiniz.\\n', '    Bir kadeh de sizinle içeriz, Aytenli\\n', '    İki laf ederiz.\\n', '    Onu siz de seversiniz benim gibi.\\n', '    Ama yağma yok Ayteni size bırakmam.\\n', '    Alın tek kat elbisemi size vereyim,\\n', '    Cebimde bir on liram var\\n', '    Onu da alın gerekirse.\\n', '    Ben Ayteni düşünürüm, üşümem.\\n', '    Üç kere adını tekrarlarım, karnım doyar.\\n', '    Parasızlık da bir şey mi?\\n', '    Ölüm bile kötü değil Aytensizlik kadar.\\n', '    Ona uğramayan gemiler batsın,\\n', '    Ondan geçmeyen trenler devrilsin,\\n', '    Onu sevmeyen yürek taş kesilsin,\\n', '    Kapansın onu görmeyen gözler,\\n', '    Onu övmeyen diller kurusun.\\n', '    İki kere iki dört, elde var Ayten.\\n', '    Bundan böyle dünyada\\n', '    Aşkın adı Ayten olsun.\\n', '    Ümit Yaşar Oğuzcan\\n', '          \\x00\\x00\\x00\\x00\\x00\\x00\\x00\\x00\\x00\\x00\\x00\\x00\\x00\\x00\\x00\\x00\\x00\\x00\\x00\\x00\\x00\\x00\\x00\\x00\\x00\\x00\\x00\\x00\\x00\\x00\\x00\\x00\\x00\\x00\\x00\\x00\\x00\\x00\\x00\\x00\\x00\\x00\\x00\\x00\\x00\\x00\\x00\\x00\\x00\\x00\\x00\\x00\\x00\\x00\\x00\\x00\\x00\\x00\\x00\\x00\\x00\\x00\\x00\\x00\\x00\\x00\\x00\\x00\\x00\\x00\\x00\\x00\\x00\\x00\\x00\\x00\\x00\\x00\\x00\\x00\\x00\\x00\\x00\\x00\\x00\\x00\\x00\\x00\\x00\\x00\\x00\\x00\\x00\\x00\\x00\\x00\\x00\\x00\\x00\\x00\\x00\\x00\\x00\\x00\\x00\\x00\\x00\\x00\\x00\\x00\\x00\\x00\\x00\\x00\\x00\\x00\\x00\\x00\\x00\\x00\\x00\\x00\\x00\\x00\\x00\\x00\\x00\\x00\\x00\\x00\\x00\\x00\\x00\\x00\\x00\\x00\\x00\\x00\\x00\\x00\\x00\\x00\\x00\\x00\\x00\\x00\\x00\\x00\\x00\\x00\\x00\\x00\\x00\\x00\\x00\\x00\\x00\\x00\\x00\\x00\\x00\\x00\\x00\\x00\\x00\\x00\\x00\\x00\\x00\\x00\\x00\\x00\\x00\\x00\\x00\\x00\\x00\\x00\\x00\\x00\\x00\\x00\\x00\\x00\\x00\\x00\\x00\\x00\\x00\\x00\\x00\\x00\\x00\\x00\\x00\\x00\\x00\\x00\\x00\\x00\\x00\\x00\\x00\\x00\\x00\\x00\\x00\\x00\\x00\\x00\\x00\\x00\\x00\\x00\\x00\\x00\\x00\\x00\\x00\\x00\\x00\\x00\\x00\\x00\\x00\\x00\\x00\\x00\\x00\\x00\\x00\\x00\\x00\\x00\\x00\\x00\\x00\\x00\\x00\\x00\\x00\\x00\\x00\\x00\\x00\\x00\\x00\\x00\\x00\\x00\\x00\\x00\\x00\\x00\\x00\\x00\\x00\\x00\\x00\\x00\\x00\\x00\\x00\\x00\\x00\\x00\\x00\\x00\\x00\\x00\\x00\\x00\\x00\\x00\\x00\\x00\\x00\\x00\\x00\\x00\\x00\\x00\\x00\\x00\\x00\\x00\\x00\\x00\\x00\\x00\\x00\\x00\\x00\\x00\\x00\\x00\\x00\\x00\\x00\\x00\\x00\\x00\\x00\\x00\\x00\\x00\\x00\\x00\\x00\\x00\\x00\\x00\\x00\\x00\\x00\\x00\\x00\\x00\\x00\\x00\\x00\\x00\\x00\\x00\\x00\\x00\\x00\\x00\\x00\\x00\\x00\\x00\\x00\\x00\\x00\\x00\\x00\\x00\\x00\\x00\\x00\\x00\\x00\\x00\\x00\\x00\\x00\\x00\\x00\\x00\\x00\\x00\\x00\\x00\\x00\\x00\\x00\\x00\\x00\\x00\\x00\\x00\\x00\\x00\\x00\\x00\\x00\\x00\\x00\\x00\\x00\\x00\\x00\\x00\\x00\\x00\\x00\\x00\\x00\\x00\\x00\\x00\\x00\\x00\\x00\\x00\\x00\\x00\\x00\\x00\\x00\\x00\\x00\\x00\\x00\\x00\\x00\\x00\\x00\\x00\\x00\\x00\\x00\\x00\\x00\\x00\\x00\\x00\\x00\\x00\\x00\\x00\\x00\\x00\\x00\\x00\\x00\\x00\\x00\\x00\\x00\\x00\\x00\\x00\\x00\\x00\\x00\\x00\\x00\\x00\\x00\\x00\\x00\\x00\\x00\\x00\\x00\\x00\\x00\\x00\\x00\\x00deneme']\n"
     ]
    }
   ],
   "source": [
    "with open(\"newnew.txt\", \"r+\",encoding=\"utf-8\") as file:\n",
    "    print(file.readlines())"
   ]
  },
  {
   "cell_type": "code",
   "execution_count": 77,
   "metadata": {},
   "outputs": [],
   "source": [
    "with open(\"newnew.txt\", \"r+\",encoding=\"utf-8\") as file:\n",
    "    liste = file.readlines()"
   ]
  },
  {
   "cell_type": "code",
   "execution_count": 82,
   "metadata": {},
   "outputs": [
    {
     "name": "stdout",
     "output_type": "stream",
     "text": [
      "deneme  \n",
      "     Milyon Kere Ayten\n",
      "    Ben bir Aytendir tutturmuşum  oh ne iyi\n",
      "    Aytenli içkiler içip sarhoş oluyorum, ne güzel!\n",
      "    Hoşuma gitmiyorsa rengi denizlerin,\n",
      "    Biraz Ayten sürüyorum, güzelleşiyor.\n",
      "    Şarkılar söylüyorum,\n",
      "    Şiirler yazıyorum Ayten üstüne.\n",
      "    Saatim her zaman Aytene beş var\n",
      "    Ya da Ayteni beş geçiyor.\n",
      "    Ne yana baksam gördüğüm o,\n",
      "    Gözümü yumsam aklımdan Ayten geçiyor.\n",
      "    Bana sorarsanız mevsimlerden Aytendeyiz,\n",
      "    Günlerden Aytenertesidir.\n",
      "    Odur gün gün beni yaşatan.\n",
      "    Onun kokusu sarmıştır sokakları,\n",
      "    Onun gözleridir şafakta gördüğüm\n",
      "    Akşam kızıllığında onun dudakları.\n",
      "    Başka kadını övmeyin yanımda, gücenirim.\n",
      "    Ayteni övecekseniz ne alâ, oturabilirsiniz.\n",
      "    Bir kadeh de sizinle içeriz, Aytenli\n",
      "    İki laf ederiz.\n",
      "    Onu siz de seversiniz benim gibi.\n",
      "    Ama yağma yok Ayteni size bırakmam.\n",
      "    Alın tek kat elbisemi size vereyim,\n",
      "\n",
      "\n",
      "sayfanın ortasına yazı yazdım\n",
      "\n",
      "    Cebimde bir on liram var\n",
      "    Onu da alın gerekirse.\n",
      "    Ben Ayteni düşünürüm, üşümem.\n",
      "    Üç kere adını tekrarlarım, karnım doyar.\n",
      "    Parasızlık da bir şey mi?\n",
      "    Ölüm bile kötü değil Aytensizlik kadar.\n",
      "    Ona uğramayan gemiler batsın,\n",
      "    Ondan geçmeyen trenler devrilsin,\n",
      "    Onu sevmeyen yürek taş kesilsin,\n",
      "    Kapansın onu görmeyen gözler,\n",
      "    Onu övmeyen diller kurusun.\n",
      "    İki kere iki dört, elde var Ayten.\n",
      "    Bundan böyle dünyada\n",
      "    Aşkın adı Ayten olsun.\n",
      "    Ümit Yaşar Oğuzcan\n",
      "          \u0000\u0000\u0000\u0000\u0000\u0000\u0000\u0000\u0000\u0000\u0000\u0000\u0000\u0000\u0000\u0000\u0000\u0000\u0000\u0000\u0000\u0000\u0000\u0000\u0000\u0000\u0000\u0000\u0000\u0000\u0000\u0000\u0000\u0000\u0000\u0000\u0000\u0000\u0000\u0000\u0000\u0000\u0000\u0000\u0000\u0000\u0000\u0000\u0000\u0000\u0000\u0000\u0000\u0000\u0000\u0000\u0000\u0000\u0000\u0000\u0000\u0000\u0000\u0000\u0000\u0000\u0000\u0000\u0000\u0000\u0000\u0000\u0000\u0000\u0000\u0000\u0000\u0000\u0000\u0000\u0000\u0000\u0000\u0000\u0000\u0000\u0000\u0000\u0000\u0000\u0000\u0000\u0000\u0000\u0000\u0000\u0000\u0000\u0000\u0000\u0000\u0000\u0000\u0000\u0000\u0000\u0000\u0000\u0000\u0000\u0000\u0000\u0000\u0000\u0000\u0000\u0000\u0000\u0000\u0000\u0000\u0000\u0000\u0000\u0000\u0000\u0000\u0000\u0000\u0000\u0000\u0000\u0000\u0000\u0000\u0000\u0000\u0000\u0000\u0000\u0000\u0000\u0000\u0000\u0000\u0000\u0000\u0000\u0000\u0000\u0000\u0000\u0000\u0000\u0000\u0000\u0000\u0000\u0000\u0000\u0000\u0000\u0000\u0000\u0000\u0000\u0000\u0000\u0000\u0000\u0000\u0000\u0000\u0000\u0000\u0000\u0000\u0000\u0000\u0000\u0000\u0000\u0000\u0000\u0000\u0000\u0000\u0000\u0000\u0000\u0000\u0000\u0000\u0000\u0000\u0000\u0000\u0000\u0000\u0000\u0000\u0000\u0000\u0000\u0000\u0000\u0000\u0000\u0000\u0000\u0000\u0000\u0000\u0000\u0000\u0000\u0000\u0000\u0000\u0000\u0000\u0000\u0000\u0000\u0000\u0000\u0000\u0000\u0000\u0000\u0000\u0000\u0000\u0000\u0000\u0000\u0000\u0000\u0000\u0000\u0000\u0000\u0000\u0000\u0000\u0000\u0000\u0000\u0000\u0000\u0000\u0000\u0000\u0000\u0000\u0000\u0000\u0000\u0000\u0000\u0000\u0000\u0000\u0000\u0000\u0000\u0000\u0000\u0000\u0000\u0000\u0000\u0000\u0000\u0000\u0000\u0000\u0000\u0000\u0000\u0000\u0000\u0000\u0000\u0000\u0000\u0000\u0000\u0000\u0000\u0000\u0000\u0000\u0000\u0000\u0000\u0000\u0000\u0000\u0000\u0000\u0000\u0000\u0000\u0000\u0000\u0000\u0000\u0000\u0000\u0000\u0000\u0000\u0000\u0000\u0000\u0000\u0000\u0000\u0000\u0000\u0000\u0000\u0000\u0000\u0000\u0000\u0000\u0000\u0000\u0000\u0000\u0000\u0000\u0000\u0000\u0000\u0000\u0000\u0000\u0000\u0000\u0000\u0000\u0000\u0000\u0000\u0000\u0000\u0000\u0000\u0000\u0000\u0000\u0000\u0000\u0000\u0000\u0000\u0000\u0000\u0000\u0000\u0000\u0000\u0000\u0000\u0000\u0000\u0000\u0000\u0000\u0000\u0000\u0000\u0000\u0000\u0000\u0000\u0000\u0000\u0000\u0000\u0000\u0000\u0000\u0000\u0000\u0000\u0000\u0000\u0000\u0000\u0000\u0000\u0000\u0000\u0000\u0000\u0000\u0000\u0000\u0000\u0000\u0000\u0000\u0000\u0000\u0000\u0000\u0000\u0000\u0000\u0000\u0000\u0000\u0000\u0000\u0000\u0000\u0000\u0000\u0000\u0000\u0000\u0000\u0000\u0000\u0000\u0000\u0000\u0000\u0000\u0000\u0000\u0000\u0000\u0000\u0000\u0000\u0000\u0000deneme\n"
     ]
    }
   ],
   "source": [
    "with open(\"newnew.txt\", \"r+\",encoding=\"utf-8\") as file:\n",
    "    liste = file.readlines()\n",
    "\n",
    "    liste.insert(25,\"\\n\\nsayfanın ortasına yazı yazdım\\n\\n\")\n",
    "    file.seek(0)\n",
    "    for i in liste:\n",
    "        file.write(i)\n",
    "with open(\"newnew.txt\",\"r\",encoding=\"utf-8\")as file:\n",
    "    print(file.read())    "
   ]
  },
  {
   "cell_type": "code",
   "execution_count": 84,
   "metadata": {},
   "outputs": [],
   "source": [
    "def not_hesapla(satır):\n",
    "    satır = satır[:-1]\n",
    "    liste = satır.split()\n",
    "\n",
    "\n",
    "def ortalamaları_oku():\n",
    "    with open(\"sinsv_notları.txt\",\"r\",encoding=\"utf-8\") as file:\n",
    "        for satır in file:\n",
    "            print(not_hesapla(satır))\n",
    "def not_gir():\n",
    "    ad = input(\"Öğrenci adı: \")\n",
    "    soyad = input(\"Öğrenci soyadı: \")\n",
    "    not1 = input(\"not1: \")\n",
    "    not2 = input(\"not2: \")\n",
    "    not3 = input(\"not3: \")\n",
    "    with open(\"sınav_notları.txt\",\"a\",encoding=\"utf-8\") as file:\n",
    "        file.write(ad + \" \" + soyad + \":\" + not1 + \",\" + not2 + \",\" + not3 + \"\\n\") \n",
    "while True:\n",
    "    işlem = input(\"1-notları oku\\n2-Not Gir\\n3-Notları Kayıt et\\n4-Çıkış\\n\")\n",
    "    \n",
    "    if işlem == \"1\":\n",
    "        ortalamaları_oku()\n",
    "    elif işlem == \"2\":\n",
    "        not_gir\n",
    "    elif işlem == \"3\":\n",
    "        pass\n",
    "    else:\n",
    "        break"
   ]
  },
  {
   "cell_type": "code",
   "execution_count": null,
   "metadata": {},
   "outputs": [],
   "source": []
  }
 ],
 "metadata": {
  "kernelspec": {
   "display_name": "Python 3",
   "language": "python",
   "name": "python3"
  },
  "language_info": {
   "codemirror_mode": {
    "name": "ipython",
    "version": 3
   },
   "file_extension": ".py",
   "mimetype": "text/x-python",
   "name": "python",
   "nbconvert_exporter": "python",
   "pygments_lexer": "ipython3",
   "version": "3.10.5"
  },
  "orig_nbformat": 4
 },
 "nbformat": 4,
 "nbformat_minor": 2
}
