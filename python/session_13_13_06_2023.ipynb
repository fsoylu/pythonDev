{
 "cells": [
  {
   "attachments": {},
   "cell_type": "markdown",
   "metadata": {},
   "source": [
    "# min(), max()"
   ]
  },
  {
   "cell_type": "code",
   "execution_count": 1,
   "metadata": {},
   "outputs": [],
   "source": [
    "liste_1 = [4,9,68,52,41,2,3,75,6]"
   ]
  },
  {
   "cell_type": "code",
   "execution_count": 2,
   "metadata": {},
   "outputs": [
    {
     "data": {
      "text/plain": [
       "2"
      ]
     },
     "execution_count": 2,
     "metadata": {},
     "output_type": "execute_result"
    }
   ],
   "source": [
    "min(liste_1)"
   ]
  },
  {
   "cell_type": "code",
   "execution_count": 3,
   "metadata": {},
   "outputs": [
    {
     "data": {
      "text/plain": [
       "75"
      ]
     },
     "execution_count": 3,
     "metadata": {},
     "output_type": "execute_result"
    }
   ],
   "source": [
    "max(liste_1)"
   ]
  },
  {
   "cell_type": "code",
   "execution_count": 4,
   "metadata": {},
   "outputs": [
    {
     "ename": "TypeError",
     "evalue": "'<' not supported between instances of 'str' and 'int'",
     "output_type": "error",
     "traceback": [
      "\u001b[1;31m---------------------------------------------------------------------------\u001b[0m",
      "\u001b[1;31mTypeError\u001b[0m                                 Traceback (most recent call last)",
      "Cell \u001b[1;32mIn[4], line 1\u001b[0m\n\u001b[1;32m----> 1\u001b[0m \u001b[39mmin\u001b[39;49m([\u001b[39m1\u001b[39;49m,\u001b[39m2\u001b[39;49m,\u001b[39m3\u001b[39;49m,\u001b[39m\"\u001b[39;49m\u001b[39mtechpro\u001b[39;49m\u001b[39m\"\u001b[39;49m,\u001b[39m\"\u001b[39;49m\u001b[39meducatıon\u001b[39;49m\u001b[39m\"\u001b[39;49m])\n",
      "\u001b[1;31mTypeError\u001b[0m: '<' not supported between instances of 'str' and 'int'"
     ]
    }
   ],
   "source": [
    "min([1,2,3,\"techpro\",\"educatıon\"])"
   ]
  },
  {
   "cell_type": "code",
   "execution_count": 5,
   "metadata": {},
   "outputs": [
    {
     "data": {
      "text/plain": [
       "'world'"
      ]
     },
     "execution_count": 5,
     "metadata": {},
     "output_type": "execute_result"
    }
   ],
   "source": [
    "max([\"hello\", \"world\",\"techpro\"])"
   ]
  },
  {
   "cell_type": "code",
   "execution_count": 7,
   "metadata": {},
   "outputs": [
    {
     "data": {
      "text/plain": [
       "1"
      ]
     },
     "execution_count": 7,
     "metadata": {},
     "output_type": "execute_result"
    }
   ],
   "source": [
    "max([1,True])"
   ]
  },
  {
   "cell_type": "code",
   "execution_count": 8,
   "metadata": {},
   "outputs": [
    {
     "data": {
      "text/plain": [
       "True"
      ]
     },
     "execution_count": 8,
     "metadata": {},
     "output_type": "execute_result"
    }
   ],
   "source": [
    "max([True,1])"
   ]
  },
  {
   "cell_type": "code",
   "execution_count": 9,
   "metadata": {},
   "outputs": [
    {
     "data": {
      "text/plain": [
       "True"
      ]
     },
     "execution_count": 9,
     "metadata": {},
     "output_type": "execute_result"
    }
   ],
   "source": [
    "max([True,1.0])"
   ]
  },
  {
   "cell_type": "code",
   "execution_count": 10,
   "metadata": {},
   "outputs": [
    {
     "data": {
      "text/plain": [
       "'techpro'"
      ]
     },
     "execution_count": 10,
     "metadata": {},
     "output_type": "execute_result"
    }
   ],
   "source": [
    "max([\"hello\",\"World\",\"techpro\"])"
   ]
  },
  {
   "cell_type": "code",
   "execution_count": 13,
   "metadata": {},
   "outputs": [
    {
     "data": {
      "text/plain": [
       "87"
      ]
     },
     "execution_count": 13,
     "metadata": {},
     "output_type": "execute_result"
    }
   ],
   "source": [
    "ord(\"W\")"
   ]
  },
  {
   "cell_type": "code",
   "execution_count": 12,
   "metadata": {},
   "outputs": [
    {
     "data": {
      "text/plain": [
       "119"
      ]
     },
     "execution_count": 12,
     "metadata": {},
     "output_type": "execute_result"
    }
   ],
   "source": [
    "ord(\"w\")"
   ]
  },
  {
   "cell_type": "code",
   "execution_count": 15,
   "metadata": {},
   "outputs": [
    {
     "data": {
      "text/plain": [
       "'World'"
      ]
     },
     "execution_count": 15,
     "metadata": {},
     "output_type": "execute_result"
    }
   ],
   "source": [
    "max([\"hello\",\"World\",\"techpro\"],key = str.lower)"
   ]
  },
  {
   "cell_type": "code",
   "execution_count": 16,
   "metadata": {},
   "outputs": [
    {
     "data": {
      "text/plain": [
       "<function str.lower()>"
      ]
     },
     "execution_count": 16,
     "metadata": {},
     "output_type": "execute_result"
    }
   ],
   "source": [
    "\"Hello\".lower"
   ]
  },
  {
   "cell_type": "code",
   "execution_count": 17,
   "metadata": {},
   "outputs": [
    {
     "data": {
      "text/plain": [
       "'hello'"
      ]
     },
     "execution_count": 17,
     "metadata": {},
     "output_type": "execute_result"
    }
   ],
   "source": [
    "\"Hello\".lower()"
   ]
  },
  {
   "cell_type": "code",
   "execution_count": 25,
   "metadata": {},
   "outputs": [],
   "source": [
    "sayılar_listesi = [1, 4, 56, 18, 47, 96, 325, 1, 5, 4, 7, 8, -8, -400, 0, 47]"
   ]
  },
  {
   "cell_type": "code",
   "execution_count": 29,
   "metadata": {},
   "outputs": [],
   "source": [
    "sayılar_listesi.sort()"
   ]
  },
  {
   "cell_type": "code",
   "execution_count": 28,
   "metadata": {},
   "outputs": [
    {
     "data": {
      "text/plain": [
       "[-400, -8, 0, 1, 1, 4, 4, 5, 7, 8, 18, 47, 47, 56, 96, 325]"
      ]
     },
     "execution_count": 28,
     "metadata": {},
     "output_type": "execute_result"
    }
   ],
   "source": [
    "sayılar_listesi"
   ]
  },
  {
   "cell_type": "code",
   "execution_count": 31,
   "metadata": {},
   "outputs": [
    {
     "name": "stdout",
     "output_type": "stream",
     "text": [
      "Listenin en büyük elemanı: 325\n"
     ]
    }
   ],
   "source": [
    "sayılar_listesi = [1, 4, 56, 18, 47, 96, 325, 1, 5, 4, 7, 8, -8, -400, 0, 47]\n",
    "\n",
    "index = 0\n",
    "\n",
    "max_sayı = sayılar_listesi[0]\n",
    "\n",
    "while index <  len(sayılar_listesi):\n",
    "    \n",
    "    if sayılar_listesi[index] > max_sayı:\n",
    "        max_sayı = sayılar_listesi[index]\n",
    "        \n",
    "        \n",
    "    index += 1\n",
    "    \n",
    "print(f\"Listenin en büyük elemanı: {max_sayı}\")        "
   ]
  },
  {
   "attachments": {},
   "cell_type": "markdown",
   "metadata": {},
   "source": [
    "# LOOPS - for"
   ]
  },
  {
   "attachments": {},
   "cell_type": "markdown",
   "metadata": {},
   "source": [
    "for değişken in iterable:\n",
    "    kod satırı/satırları"
   ]
  },
  {
   "cell_type": "code",
   "execution_count": 42,
   "metadata": {},
   "outputs": [
    {
     "name": "stdout",
     "output_type": "stream",
     "text": [
      "T\n",
      "E\n",
      "C\n",
      "H\n",
      "P\n",
      "R\n",
      "O\n"
     ]
    }
   ],
   "source": [
    "for i in \"techpro\":\n",
    "    print(i.upper())"
   ]
  },
  {
   "cell_type": "code",
   "execution_count": 43,
   "metadata": {},
   "outputs": [
    {
     "name": "stdout",
     "output_type": "stream",
     "text": [
      "1\n",
      "4\n",
      "9\n",
      "16\n",
      "25\n"
     ]
    }
   ],
   "source": [
    "for i in [1,2,3,4,5]:\n",
    "    print( i ** 2)\n",
    "    "
   ]
  },
  {
   "cell_type": "code",
   "execution_count": 49,
   "metadata": {},
   "outputs": [
    {
     "name": "stdout",
     "output_type": "stream",
     "text": [
      "1\n",
      "4\n",
      "9\n",
      "16\n",
      "25\n"
     ]
    }
   ],
   "source": [
    "liste_2 = [1,2,3,4,5]\n",
    "index = 0 \n",
    "\n",
    "while index < len(liste_2):\n",
    "    print(liste_2[index] ** 2)\n",
    "    index += 1"
   ]
  },
  {
   "cell_type": "code",
   "execution_count": 50,
   "metadata": {},
   "outputs": [
    {
     "ename": "TypeError",
     "evalue": "'int' object is not iterable",
     "output_type": "error",
     "traceback": [
      "\u001b[1;31m---------------------------------------------------------------------------\u001b[0m",
      "\u001b[1;31mTypeError\u001b[0m                                 Traceback (most recent call last)",
      "Cell \u001b[1;32mIn[50], line 1\u001b[0m\n\u001b[1;32m----> 1\u001b[0m \u001b[39mfor\u001b[39;00m i \u001b[39min\u001b[39;00m \u001b[39m2023\u001b[39m:\n\u001b[0;32m      2\u001b[0m     \u001b[39mprint\u001b[39m(i \u001b[39m*\u001b[39m\u001b[39m*\u001b[39m \u001b[39m2\u001b[39m )\n",
      "\u001b[1;31mTypeError\u001b[0m: 'int' object is not iterable"
     ]
    }
   ],
   "source": [
    "for i in 2023:\n",
    "    print(i ** 2 )"
   ]
  },
  {
   "cell_type": "code",
   "execution_count": 53,
   "metadata": {},
   "outputs": [
    {
     "name": "stdout",
     "output_type": "stream",
     "text": [
      "Murat\n",
      "Enes\n",
      "Fatih\n"
     ]
    }
   ],
   "source": [
    "for i in (\"murat\",\"enes\",\"fatih\"):\n",
    "    print(i.capitalize())"
   ]
  },
  {
   "cell_type": "code",
   "execution_count": 54,
   "metadata": {},
   "outputs": [
    {
     "data": {
      "text/plain": [
       "[1, 2, 3, 4, 5]"
      ]
     },
     "execution_count": 54,
     "metadata": {},
     "output_type": "execute_result"
    }
   ],
   "source": [
    "liste_2"
   ]
  },
  {
   "cell_type": "code",
   "execution_count": 63,
   "metadata": {},
   "outputs": [
    {
     "name": "stdout",
     "output_type": "stream",
     "text": [
      "1*4*9*16*25*"
     ]
    }
   ],
   "source": [
    "for i in liste_2:\n",
    "    print(i ** 2, end = \"*\")\n"
   ]
  },
  {
   "cell_type": "code",
   "execution_count": 75,
   "metadata": {},
   "outputs": [
    {
     "name": "stdout",
     "output_type": "stream",
     "text": [
      "T-e-c-h-p-r-o-\n"
     ]
    }
   ],
   "source": [
    "empty_str = \"\"\n",
    "for i in \"Techpro\":\n",
    "    empty_str += i + \"-\"\n",
    "print(empty_str)    "
   ]
  },
  {
   "cell_type": "code",
   "execution_count": 76,
   "metadata": {},
   "outputs": [
    {
     "name": "stdout",
     "output_type": "stream",
     "text": [
      "T-e-c-h-p-r-o\n"
     ]
    }
   ],
   "source": [
    "empty_str = \"\"\n",
    "for i in \"Techpro\":\n",
    "    empty_str += i + \"-\"\n",
    "print(empty_str.rstrip(\"-\"))"
   ]
  },
  {
   "cell_type": "code",
   "execution_count": 77,
   "metadata": {},
   "outputs": [
    {
     "data": {
      "text/plain": [
       "'T-e-c-h-p-r-o'"
      ]
     },
     "execution_count": 77,
     "metadata": {},
     "output_type": "execute_result"
    }
   ],
   "source": [
    "\"-\".join(\"Techpro\")"
   ]
  },
  {
   "cell_type": "code",
   "execution_count": 79,
   "metadata": {},
   "outputs": [
    {
     "data": {
      "text/plain": [
       "{1, 2, 3, 4, 5}"
      ]
     },
     "execution_count": 79,
     "metadata": {},
     "output_type": "execute_result"
    }
   ],
   "source": [
    "tuple_1 = (1,2,3,4,5,5)\n",
    "\n",
    "set(tuple_1)"
   ]
  },
  {
   "cell_type": "code",
   "execution_count": 80,
   "metadata": {},
   "outputs": [],
   "source": [
    "empty_set = set()\n",
    "for i in tuple_1:\n",
    "    empty_set.add(i)\n",
    "    "
   ]
  },
  {
   "cell_type": "code",
   "execution_count": 81,
   "metadata": {},
   "outputs": [
    {
     "data": {
      "text/plain": [
       "{1, 2, 3, 4, 5}"
      ]
     },
     "execution_count": 81,
     "metadata": {},
     "output_type": "execute_result"
    }
   ],
   "source": [
    "empty_set"
   ]
  },
  {
   "cell_type": "code",
   "execution_count": 84,
   "metadata": {},
   "outputs": [
    {
     "data": {
      "text/plain": [
       "{'name': 'furkan', 'surname': 'soylu', 'age': 17}"
      ]
     },
     "execution_count": 84,
     "metadata": {},
     "output_type": "execute_result"
    }
   ],
   "source": [
    "dict_1 = {\"name\" : \"furkan\" , \"surname\" : \"soylu\", \"age\" : 17}\n",
    "dict_1"
   ]
  },
  {
   "cell_type": "code",
   "execution_count": 85,
   "metadata": {},
   "outputs": [
    {
     "name": "stdout",
     "output_type": "stream",
     "text": [
      "name\n",
      "surname\n",
      "age\n"
     ]
    }
   ],
   "source": [
    "for i in dict_1:\n",
    "    print(i)"
   ]
  },
  {
   "cell_type": "code",
   "execution_count": 86,
   "metadata": {},
   "outputs": [
    {
     "name": "stdout",
     "output_type": "stream",
     "text": [
      "furkan\n",
      "soylu\n",
      "17\n"
     ]
    }
   ],
   "source": [
    "for i in dict_1.values():\n",
    "    print(i)"
   ]
  },
  {
   "cell_type": "code",
   "execution_count": 87,
   "metadata": {},
   "outputs": [
    {
     "name": "stdout",
     "output_type": "stream",
     "text": [
      "('name', 'furkan')\n",
      "('surname', 'soylu')\n",
      "('age', 17)\n"
     ]
    }
   ],
   "source": [
    "for i in dict_1.items():\n",
    "    print(i)"
   ]
  },
  {
   "cell_type": "code",
   "execution_count": 91,
   "metadata": {},
   "outputs": [
    {
     "name": "stdout",
     "output_type": "stream",
     "text": [
      "key: name , value: furkan\n",
      "key: surname , value: soylu\n",
      "key: age , value: 17\n"
     ]
    }
   ],
   "source": [
    "for i , j in dict_1.items():\n",
    "    print(f\"key: {i} , value: {j}\")"
   ]
  },
  {
   "cell_type": "code",
   "execution_count": 96,
   "metadata": {},
   "outputs": [
    {
     "name": "stdout",
     "output_type": "stream",
     "text": [
      "key: name    , value: furkan\n",
      "key: surname , value: soylu\n",
      "key: age     , value: 17\n"
     ]
    }
   ],
   "source": [
    "for i , j in dict_1.items():\n",
    "    print(f\"key: {i:<7} , value: {j}\")"
   ]
  },
  {
   "cell_type": "code",
   "execution_count": 97,
   "metadata": {},
   "outputs": [
    {
     "name": "stdout",
     "output_type": "stream",
     "text": [
      "key:    name , value: furkan\n",
      "key: surname , value: soylu\n",
      "key:     age , value: 17\n"
     ]
    }
   ],
   "source": [
    "for i , j in dict_1.items():\n",
    "    print(f\"key: {i:>7} , value: {j}\")"
   ]
  },
  {
   "cell_type": "code",
   "execution_count": 99,
   "metadata": {},
   "outputs": [
    {
     "name": "stdout",
     "output_type": "stream",
     "text": [
      "key:  name   , value: furkan\n",
      "key: surname , value: soylu\n",
      "key:   age   , value: 17\n"
     ]
    }
   ],
   "source": [
    "for i , j in dict_1.items():\n",
    "    print(f\"key: {i:^7} , value: {j}\")"
   ]
  },
  {
   "cell_type": "code",
   "execution_count": 100,
   "metadata": {},
   "outputs": [
    {
     "name": "stdout",
     "output_type": "stream",
     "text": [
      "key: name    , value: furkan\n",
      "key: surname , value: soylu\n",
      "key: age     , value: 17\n"
     ]
    }
   ],
   "source": [
    "\n",
    "for i , j in dict_1.items():\n",
    "    print(f\"key: {i:7} , value: {j}\")"
   ]
  },
  {
   "cell_type": "code",
   "execution_count": 101,
   "metadata": {},
   "outputs": [
    {
     "data": {
      "text/plain": [
       "[('name1', 'name2', 'name3'), ('furkan', 'yusuf', 'ali'), (25, 30, 17)]"
      ]
     },
     "execution_count": 101,
     "metadata": {},
     "output_type": "execute_result"
    }
   ],
   "source": [
    "liste_3 = [(\"name1\",\"name2\",\"name3\"),(\"furkan\",\"yusuf\",\"ali\"),(25 ,30 ,17 )]\n",
    "liste_3"
   ]
  },
  {
   "cell_type": "code",
   "execution_count": 102,
   "metadata": {},
   "outputs": [
    {
     "name": "stdout",
     "output_type": "stream",
     "text": [
      "name1*name2*name3\n",
      "furkan*yusuf*ali\n",
      "25*30*17\n"
     ]
    }
   ],
   "source": [
    "for i, j, k in liste_3:\n",
    "    print(i,j,k,sep=\"*\")"
   ]
  },
  {
   "cell_type": "code",
   "execution_count": null,
   "metadata": {},
   "outputs": [],
   "source": [
    "# sonsuz döngü çalıştırma.\n",
    "liste_4 = [1]\n",
    "for i in liste_:\n",
    "    print(i)\n",
    "    liste_4.append(5)"
   ]
  },
  {
   "cell_type": "code",
   "execution_count": 111,
   "metadata": {},
   "outputs": [
    {
     "name": "stdout",
     "output_type": "stream",
     "text": [
      "1-) Hoca ceza verdi\n",
      "2-) Hoca ceza verdi\n",
      "3-) Hoca ceza verdi\n",
      "4-) Hoca ceza verdi\n",
      "5-) Hoca ceza verdi\n",
      "6-) Hoca ceza verdi\n",
      "7-) Hoca ceza verdi\n",
      "8-) Hoca ceza verdi\n",
      "9-) Hoca ceza verdi\n",
      "10-) Hoca ceza verdi\n",
      "11-) Hoca ceza verdi\n",
      "12-) Hoca ceza verdi\n",
      "13-) Hoca ceza verdi\n",
      "14-) Hoca ceza verdi\n",
      "15-) Hoca ceza verdi\n",
      "16-) Hoca ceza verdi\n",
      "17-) Hoca ceza verdi\n",
      "18-) Hoca ceza verdi\n",
      "19-) Hoca ceza verdi\n",
      "20-) Hoca ceza verdi\n",
      "21-) Hoca ceza verdi\n",
      "22-) Hoca ceza verdi\n",
      "23-) Hoca ceza verdi\n",
      "24-) Hoca ceza verdi\n",
      "25-) Hoca ceza verdi\n",
      "26-) Hoca ceza verdi\n",
      "27-) Hoca ceza verdi\n",
      "28-) Hoca ceza verdi\n",
      "29-) Hoca ceza verdi\n",
      "30-) Hoca ceza verdi\n",
      "31-) Hoca ceza verdi\n",
      "32-) Hoca ceza verdi\n",
      "33-) Hoca ceza verdi\n",
      "34-) Hoca ceza verdi\n",
      "35-) Hoca ceza verdi\n",
      "36-) Hoca ceza verdi\n",
      "37-) Hoca ceza verdi\n",
      "38-) Hoca ceza verdi\n",
      "39-) Hoca ceza verdi\n",
      "40-) Hoca ceza verdi\n",
      "41-) Hoca ceza verdi\n",
      "42-) Hoca ceza verdi\n",
      "43-) Hoca ceza verdi\n",
      "44-) Hoca ceza verdi\n",
      "45-) Hoca ceza verdi\n",
      "46-) Hoca ceza verdi\n",
      "47-) Hoca ceza verdi\n",
      "48-) Hoca ceza verdi\n",
      "49-) Hoca ceza verdi\n",
      "50-) Hoca ceza verdi\n"
     ]
    }
   ],
   "source": [
    "x = 1\n",
    "while x <= 50  :\n",
    "    print(f\"{x}-) Hoca ceza verdi\")\n",
    "    \n",
    "    x += 1 "
   ]
  },
  {
   "cell_type": "code",
   "execution_count": null,
   "metadata": {},
   "outputs": [],
   "source": [
    "\n",
    "          \n",
    "   "
   ]
  },
  {
   "cell_type": "code",
   "execution_count": null,
   "metadata": {},
   "outputs": [],
   "source": [
    "2"
   ]
  }
 ],
 "metadata": {
  "kernelspec": {
   "display_name": "Python 3",
   "language": "python",
   "name": "python3"
  },
  "language_info": {
   "codemirror_mode": {
    "name": "ipython",
    "version": 3
   },
   "file_extension": ".py",
   "mimetype": "text/x-python",
   "name": "python",
   "nbconvert_exporter": "python",
   "pygments_lexer": "ipython3",
   "version": "3.10.5"
  },
  "orig_nbformat": 4
 },
 "nbformat": 4,
 "nbformat_minor": 2
}
