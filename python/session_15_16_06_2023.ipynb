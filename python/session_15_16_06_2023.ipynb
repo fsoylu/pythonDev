{
 "cells": [
  {
   "attachments": {},
   "cell_type": "markdown",
   "metadata": {},
   "source": [
    "## zip()"
   ]
  },
  {
   "cell_type": "code",
   "execution_count": 1,
   "metadata": {},
   "outputs": [],
   "source": [
    "a = [\"apple\", \"orange\",\"lemon\"] \n",
    "b = [1,2,3]"
   ]
  },
  {
   "cell_type": "code",
   "execution_count": 2,
   "metadata": {},
   "outputs": [
    {
     "data": {
      "text/plain": [
       "<zip at 0x17aeb182980>"
      ]
     },
     "execution_count": 2,
     "metadata": {},
     "output_type": "execute_result"
    }
   ],
   "source": [
    "zip(a,b)"
   ]
  },
  {
   "cell_type": "code",
   "execution_count": 3,
   "metadata": {},
   "outputs": [
    {
     "data": {
      "text/plain": [
       "[('apple', 1), ('orange', 2), ('lemon', 3)]"
      ]
     },
     "execution_count": 3,
     "metadata": {},
     "output_type": "execute_result"
    }
   ],
   "source": [
    "list(zip(a,b))"
   ]
  },
  {
   "cell_type": "code",
   "execution_count": 4,
   "metadata": {},
   "outputs": [
    {
     "data": {
      "text/plain": [
       "(('apple', 1), ('orange', 2), ('lemon', 3))"
      ]
     },
     "execution_count": 4,
     "metadata": {},
     "output_type": "execute_result"
    }
   ],
   "source": [
    "tuple(zip(a,b))"
   ]
  },
  {
   "cell_type": "code",
   "execution_count": 5,
   "metadata": {},
   "outputs": [],
   "source": [
    "x = \"techpro\"\n",
    "y = \"enes\"\n",
    "z = \"ali\""
   ]
  },
  {
   "cell_type": "code",
   "execution_count": 6,
   "metadata": {},
   "outputs": [
    {
     "data": {
      "text/plain": [
       "[('t', 'e', 'a'), ('e', 'n', 'l'), ('c', 'e', 'i')]"
      ]
     },
     "execution_count": 6,
     "metadata": {},
     "output_type": "execute_result"
    }
   ],
   "source": [
    "list(zip(x,y,z))"
   ]
  },
  {
   "cell_type": "code",
   "execution_count": 7,
   "metadata": {},
   "outputs": [
    {
     "data": {
      "text/plain": [
       "[]"
      ]
     },
     "execution_count": 7,
     "metadata": {},
     "output_type": "execute_result"
    }
   ],
   "source": [
    "list(zip(\"techpro\", [1,2,3,4], []))"
   ]
  },
  {
   "cell_type": "code",
   "execution_count": 8,
   "metadata": {},
   "outputs": [
    {
     "data": {
      "text/plain": [
       "[('t', ' '),\n",
       " ('e', '['),\n",
       " ('c', '1'),\n",
       " ('h', ','),\n",
       " ('p', '2'),\n",
       " ('r', ','),\n",
       " ('o', '3')]"
      ]
     },
     "execution_count": 8,
     "metadata": {},
     "output_type": "execute_result"
    }
   ],
   "source": [
    "list(zip(\"techpro\",\" [1,2,3,4], []\"))"
   ]
  },
  {
   "cell_type": "code",
   "execution_count": 9,
   "metadata": {},
   "outputs": [],
   "source": [
    "name = [\"murat\", \"enes\", \"koray\"]\n",
    "age  = [35,25,23]\n",
    "job  = [\"data_analyst\",\"python_developer\",\"data_scientist\"]\n"
   ]
  },
  {
   "cell_type": "code",
   "execution_count": 11,
   "metadata": {},
   "outputs": [
    {
     "name": "stdout",
     "output_type": "stream",
     "text": [
      "murat+35+data_analyst\n",
      "enes+25+python_developer\n",
      "koray+23+data_scientist\n"
     ]
    }
   ],
   "source": [
    "for i , j , k in zip(name,age,job):\n",
    "    print(i,j,k,sep=\"+\")"
   ]
  },
  {
   "cell_type": "code",
   "execution_count": 12,
   "metadata": {},
   "outputs": [
    {
     "name": "stdout",
     "output_type": "stream",
     "text": [
      "murat     35   data_analyst   \n",
      "enes      25   python_developer\n",
      "koray     23   data_scientist \n"
     ]
    }
   ],
   "source": [
    "for i,j,k in zip(name,age,job):\n",
    "    print(f\"{i:<10}{j:<5}{k:<15}\")"
   ]
  },
  {
   "cell_type": "code",
   "execution_count": 17,
   "metadata": {},
   "outputs": [
    {
     "name": "stdout",
     "output_type": "stream",
     "text": [
      "[('murat', 35, 'data_analyst'), ('enes', 25, 'python_developer'), ('koray', 23, 'data_scientist')]\n"
     ]
    }
   ],
   "source": [
    "print(list(zip(name,age,job)))"
   ]
  },
  {
   "cell_type": "code",
   "execution_count": 19,
   "metadata": {},
   "outputs": [
    {
     "name": "stdout",
     "output_type": "stream",
     "text": [
      "('murat', 35, 'data_analyst')\n",
      "('enes', 25, 'python_developer')\n",
      "('koray', 23, 'data_scientist')\n"
     ]
    }
   ],
   "source": [
    "for i in zip(name,age,job):\n",
    "    print(i)"
   ]
  },
  {
   "cell_type": "code",
   "execution_count": 30,
   "metadata": {},
   "outputs": [
    {
     "data": {
      "text/plain": [
       "20"
      ]
     },
     "execution_count": 30,
     "metadata": {},
     "output_type": "execute_result"
    }
   ],
   "source": [
    "liste_1 = [\"techpro\", \"education\"] * 10\n",
    "len(liste_1)"
   ]
  },
  {
   "cell_type": "code",
   "execution_count": 31,
   "metadata": {},
   "outputs": [
    {
     "data": {
      "text/plain": [
       "[(1, 'techpro'),\n",
       " (2, 'education'),\n",
       " (3, 'techpro'),\n",
       " (4, 'education'),\n",
       " (5, 'techpro'),\n",
       " (6, 'education'),\n",
       " (7, 'techpro'),\n",
       " (8, 'education'),\n",
       " (9, 'techpro'),\n",
       " (10, 'education'),\n",
       " (11, 'techpro'),\n",
       " (12, 'education'),\n",
       " (13, 'techpro'),\n",
       " (14, 'education'),\n",
       " (15, 'techpro'),\n",
       " (16, 'education'),\n",
       " (17, 'techpro'),\n",
       " (18, 'education'),\n",
       " (19, 'techpro'),\n",
       " (20, 'education')]"
      ]
     },
     "execution_count": 31,
     "metadata": {},
     "output_type": "execute_result"
    }
   ],
   "source": [
    "list(zip(range(1,101), liste_1))\n"
   ]
  },
  {
   "attachments": {},
   "cell_type": "markdown",
   "metadata": {},
   "source": [
    "## enumerate()"
   ]
  },
  {
   "cell_type": "code",
   "execution_count": 24,
   "metadata": {},
   "outputs": [
    {
     "data": {
      "text/plain": [
       "['apple', 'orange', 'lemon']"
      ]
     },
     "execution_count": 24,
     "metadata": {},
     "output_type": "execute_result"
    }
   ],
   "source": [
    "a"
   ]
  },
  {
   "cell_type": "code",
   "execution_count": 25,
   "metadata": {},
   "outputs": [
    {
     "data": {
      "text/plain": [
       "<enumerate at 0x17aec6093c0>"
      ]
     },
     "execution_count": 25,
     "metadata": {},
     "output_type": "execute_result"
    }
   ],
   "source": [
    "enumerate(a)"
   ]
  },
  {
   "cell_type": "code",
   "execution_count": 26,
   "metadata": {},
   "outputs": [
    {
     "data": {
      "text/plain": [
       "[(0, 'apple'), (1, 'orange'), (2, 'lemon')]"
      ]
     },
     "execution_count": 26,
     "metadata": {},
     "output_type": "execute_result"
    }
   ],
   "source": [
    "list(enumerate(a))"
   ]
  },
  {
   "cell_type": "code",
   "execution_count": 32,
   "metadata": {},
   "outputs": [
    {
     "data": {
      "text/plain": [
       "[(0, 'techpro'),\n",
       " (1, 'education'),\n",
       " (2, 'techpro'),\n",
       " (3, 'education'),\n",
       " (4, 'techpro'),\n",
       " (5, 'education'),\n",
       " (6, 'techpro'),\n",
       " (7, 'education'),\n",
       " (8, 'techpro'),\n",
       " (9, 'education'),\n",
       " (10, 'techpro'),\n",
       " (11, 'education'),\n",
       " (12, 'techpro'),\n",
       " (13, 'education'),\n",
       " (14, 'techpro'),\n",
       " (15, 'education'),\n",
       " (16, 'techpro'),\n",
       " (17, 'education'),\n",
       " (18, 'techpro'),\n",
       " (19, 'education')]"
      ]
     },
     "execution_count": 32,
     "metadata": {},
     "output_type": "execute_result"
    }
   ],
   "source": [
    "list(enumerate(liste_1))"
   ]
  },
  {
   "cell_type": "code",
   "execution_count": 33,
   "metadata": {},
   "outputs": [
    {
     "data": {
      "text/plain": [
       "[(1, 'techpro'),\n",
       " (2, 'education'),\n",
       " (3, 'techpro'),\n",
       " (4, 'education'),\n",
       " (5, 'techpro'),\n",
       " (6, 'education'),\n",
       " (7, 'techpro'),\n",
       " (8, 'education'),\n",
       " (9, 'techpro'),\n",
       " (10, 'education'),\n",
       " (11, 'techpro'),\n",
       " (12, 'education'),\n",
       " (13, 'techpro'),\n",
       " (14, 'education'),\n",
       " (15, 'techpro'),\n",
       " (16, 'education'),\n",
       " (17, 'techpro'),\n",
       " (18, 'education'),\n",
       " (19, 'techpro'),\n",
       " (20, 'education')]"
      ]
     },
     "execution_count": 33,
     "metadata": {},
     "output_type": "execute_result"
    }
   ],
   "source": [
    "list(enumerate(liste_1,1))"
   ]
  },
  {
   "cell_type": "code",
   "execution_count": 34,
   "metadata": {},
   "outputs": [
    {
     "data": {
      "text/plain": [
       "{('apple', 1), ('lemon', 3), ('orange', 2)}"
      ]
     },
     "execution_count": 34,
     "metadata": {},
     "output_type": "execute_result"
    }
   ],
   "source": [
    "set(zip(a,b))"
   ]
  },
  {
   "cell_type": "code",
   "execution_count": 35,
   "metadata": {},
   "outputs": [
    {
     "data": {
      "text/plain": [
       "{'apple': 1, 'orange': 2, 'lemon': 3}"
      ]
     },
     "execution_count": 35,
     "metadata": {},
     "output_type": "execute_result"
    }
   ],
   "source": [
    "dict(zip(a,b))"
   ]
  },
  {
   "cell_type": "code",
   "execution_count": 36,
   "metadata": {},
   "outputs": [
    {
     "data": {
      "text/plain": [
       "dict_values([1, 2, 3])"
      ]
     },
     "execution_count": 36,
     "metadata": {},
     "output_type": "execute_result"
    }
   ],
   "source": [
    "dict(zip(a,b)).values()"
   ]
  },
  {
   "cell_type": "code",
   "execution_count": 37,
   "metadata": {},
   "outputs": [
    {
     "data": {
      "text/plain": [
       "dict_keys(['apple', 'orange', 'lemon'])"
      ]
     },
     "execution_count": 37,
     "metadata": {},
     "output_type": "execute_result"
    }
   ],
   "source": [
    "dict(zip(a,b)).keys()"
   ]
  },
  {
   "cell_type": "code",
   "execution_count": 49,
   "metadata": {},
   "outputs": [],
   "source": [
    "num = [48, 10, 11, 21, 36, 5, 6, 52, 28, 29,\n",
    "       53, 54, 45, 19, 20, 47, 55, 39, 41, 7,\n",
    "       9, 17, 26, 27, 42, 22, 37, 51, 46, 18,\n",
    "       44, 30, 34, 13, 15, 35, 33, 16, 50, 24]"
   ]
  },
  {
   "cell_type": "code",
   "execution_count": 39,
   "metadata": {},
   "outputs": [
    {
     "data": {
      "text/plain": [
       "5"
      ]
     },
     "execution_count": 39,
     "metadata": {},
     "output_type": "execute_result"
    }
   ],
   "source": [
    "min(num)"
   ]
  },
  {
   "cell_type": "code",
   "execution_count": 40,
   "metadata": {},
   "outputs": [
    {
     "data": {
      "text/plain": [
       "55"
      ]
     },
     "execution_count": 40,
     "metadata": {},
     "output_type": "execute_result"
    }
   ],
   "source": [
    "max(num)"
   ]
  },
  {
   "cell_type": "code",
   "execution_count": 45,
   "metadata": {},
   "outputs": [
    {
     "data": {
      "text/plain": [
       "[(0, 48),\n",
       " (1, 10),\n",
       " (2, 11),\n",
       " (3, 21),\n",
       " (4, 36),\n",
       " (5, 5),\n",
       " (6, 6),\n",
       " (7, 52),\n",
       " (8, 28),\n",
       " (9, 29),\n",
       " (10, 53),\n",
       " (11, 54),\n",
       " (12, 45),\n",
       " (13, 19),\n",
       " (14, 20),\n",
       " (15, 47),\n",
       " (16, 55),\n",
       " (17, 39),\n",
       " (18, 41),\n",
       " (19, 7),\n",
       " (20, 9),\n",
       " (21, 17),\n",
       " (22, 26),\n",
       " (23, 27),\n",
       " (24, 42),\n",
       " (25, 22),\n",
       " (26, 37),\n",
       " (27, 51),\n",
       " (28, 46),\n",
       " (29, 18),\n",
       " (30, 44),\n",
       " (31, 30),\n",
       " (32, 34),\n",
       " (33, 13),\n",
       " (34, 15),\n",
       " (35, 35),\n",
       " (36, 33),\n",
       " (37, 16),\n",
       " (38, 50),\n",
       " (39, 24)]"
      ]
     },
     "execution_count": 45,
     "metadata": {},
     "output_type": "execute_result"
    }
   ],
   "source": [
    "list(enumerate(num))"
   ]
  },
  {
   "cell_type": "code",
   "execution_count": 46,
   "metadata": {},
   "outputs": [
    {
     "name": "stdout",
     "output_type": "stream",
     "text": [
      "8\n",
      "12\n",
      "14\n",
      "23\n",
      "25\n",
      "31\n",
      "32\n",
      "38\n",
      "40\n",
      "43\n",
      "49\n"
     ]
    }
   ],
   "source": [
    "for i in range(min(num),max(num)+1):\n",
    "    if i not in num:\n",
    "        print(i)"
   ]
  },
  {
   "cell_type": "code",
   "execution_count": 47,
   "metadata": {},
   "outputs": [
    {
     "data": {
      "text/plain": [
       "{8, 12, 14, 23, 25, 31, 32, 38, 40, 43, 49}"
      ]
     },
     "execution_count": 47,
     "metadata": {},
     "output_type": "execute_result"
    }
   ],
   "source": [
    "x=range(min(num),max(num))\n",
    "list(x)\n",
    "set(x).difference(set(num))"
   ]
  },
  {
   "cell_type": "code",
   "execution_count": 51,
   "metadata": {},
   "outputs": [
    {
     "name": "stdout",
     "output_type": "stream",
     "text": [
      "[8, 12, 14, 23, 25, 31, 32, 38, 40, 43, 49]\n"
     ]
    }
   ],
   "source": [
    "empty_list = []\n",
    "\n",
    "for i in range(min(num),max(num)):\n",
    "    \n",
    "    if i not in num:\n",
    "        empty_list.append(i)\n",
    "print(empty_list)        "
   ]
  },
  {
   "cell_type": "code",
   "execution_count": 54,
   "metadata": {},
   "outputs": [
    {
     "name": "stdout",
     "output_type": "stream",
     "text": [
      "[8, 12, 14, 23, 25, 31, 32, 38, 40, 43, 49]\n"
     ]
    }
   ],
   "source": [
    "empty_list = []\n",
    "\n",
    "for i in range(min(num),max(num)):\n",
    "    \n",
    "    if i  in num:\n",
    "        continue       \n",
    "    empty_list.append(i)\n",
    "print(empty_list)     "
   ]
  },
  {
   "cell_type": "code",
   "execution_count": 59,
   "metadata": {},
   "outputs": [
    {
     "data": {
      "text/plain": [
       "{8, 12, 14, 23, 25, 31, 32, 38, 40, 43, 49}"
      ]
     },
     "execution_count": 59,
     "metadata": {},
     "output_type": "execute_result"
    }
   ],
   "source": [
    "full_list = set(range(min(num),max(num)+1))\n",
    "num_set = set(num)\n",
    "\n",
    "\n",
    "full_list - num_set\n"
   ]
  },
  {
   "cell_type": "code",
   "execution_count": 60,
   "metadata": {},
   "outputs": [
    {
     "data": {
      "text/plain": [
       "{8, 12, 14, 23, 25, 31, 32, 38, 40, 43, 49}"
      ]
     },
     "execution_count": 60,
     "metadata": {},
     "output_type": "execute_result"
    }
   ],
   "source": [
    "set(range(min(num),max(num)+1)) - set(num)"
   ]
  },
  {
   "cell_type": "code",
   "execution_count": 63,
   "metadata": {},
   "outputs": [],
   "source": [
    "liste_0 = [1,4,8,25,96,88,44,75,36,27,24,15]"
   ]
  },
  {
   "cell_type": "code",
   "execution_count": 64,
   "metadata": {},
   "outputs": [],
   "source": [
    "liste_2 = [1,2,3,4,5,6]"
   ]
  },
  {
   "cell_type": "code",
   "execution_count": 75,
   "metadata": {},
   "outputs": [
    {
     "name": "stdout",
     "output_type": "stream",
     "text": [
      "1\n",
      "4\n",
      "3\n",
      "16\n",
      "5\n",
      "36\n"
     ]
    }
   ],
   "source": [
    "new = []\n",
    "for i in liste_2:\n",
    "    if i % 2 == 0:\n",
    "        print(i ** 2)\n",
    "    elif i % 2 !=0:\n",
    "        print(i)\n",
    "        \n",
    "          "
   ]
  },
  {
   "cell_type": "code",
   "execution_count": 77,
   "metadata": {},
   "outputs": [
    {
     "name": "stdout",
     "output_type": "stream",
     "text": [
      "[1, 4, 3, 16, 5, 36]\n"
     ]
    }
   ],
   "source": [
    "new = []\n",
    "for i in liste_2:\n",
    "    if i % 2 == 0:\n",
    "        new.append(i ** 2)\n",
    "    elif i % 2 !=0:\n",
    "        new.append(i)\n",
    "print(new)        "
   ]
  },
  {
   "attachments": {},
   "cell_type": "markdown",
   "metadata": {},
   "source": [
    "# List Comprehension"
   ]
  },
  {
   "cell_type": "code",
   "execution_count": 82,
   "metadata": {},
   "outputs": [
    {
     "name": "stdout",
     "output_type": "stream",
     "text": [
      "[1, 4, 9, 16, 25]\n"
     ]
    }
   ],
   "source": [
    "liste_3 = [1,2,3,4,5]\n",
    "empty_list = []\n",
    "for i in liste_3:\n",
    "    empty_list.append(i**2)\n",
    "print(empty_list)"
   ]
  },
  {
   "cell_type": "code",
   "execution_count": 83,
   "metadata": {},
   "outputs": [
    {
     "data": {
      "text/plain": [
       "[1, 4, 9, 16, 25]"
      ]
     },
     "execution_count": 83,
     "metadata": {},
     "output_type": "execute_result"
    }
   ],
   "source": [
    "[ i ** 2      for i in liste_3      ]"
   ]
  },
  {
   "cell_type": "code",
   "execution_count": 84,
   "metadata": {},
   "outputs": [
    {
     "data": {
      "text/plain": [
       "[1, 4, 9, 16, 25]"
      ]
     },
     "execution_count": 84,
     "metadata": {},
     "output_type": "execute_result"
    }
   ],
   "source": [
    "[ i ** 2      for i in liste_3      ]"
   ]
  },
  {
   "cell_type": "code",
   "execution_count": 85,
   "metadata": {},
   "outputs": [
    {
     "data": {
      "text/plain": [
       "['renault*', 'fiat?!', 'ford?!']"
      ]
     },
     "execution_count": 85,
     "metadata": {},
     "output_type": "execute_result"
    }
   ],
   "source": [
    "liste_4 = [\"renault*\",\"fiat?!\",\"ford?!\"]\n",
    "liste_4"
   ]
  },
  {
   "cell_type": "code",
   "execution_count": 92,
   "metadata": {},
   "outputs": [
    {
     "name": "stdout",
     "output_type": "stream",
     "text": [
      "['renault', 'fiat', 'ford']\n"
     ]
    }
   ],
   "source": [
    "new_list = []\n",
    "for i in liste_4:\n",
    "    new_list.append(i.replace(\"*\",\"\").replace(\"?\",\"\").replace(\"!\",\"\"))\n",
    "print(new_list)    "
   ]
  },
  {
   "cell_type": "code",
   "execution_count": 91,
   "metadata": {},
   "outputs": [
    {
     "data": {
      "text/plain": [
       "['renault', 'fiat', 'ford']"
      ]
     },
     "execution_count": 91,
     "metadata": {},
     "output_type": "execute_result"
    }
   ],
   "source": [
    "[i.replace(\"*\",\"\").replace(\"?\",\"\").replace(\"!\",\"\") for i in liste_4 ]"
   ]
  },
  {
   "attachments": {},
   "cell_type": "markdown",
   "metadata": {},
   "source": [
    "## nested loops"
   ]
  },
  {
   "cell_type": "code",
   "execution_count": 96,
   "metadata": {},
   "outputs": [
    {
     "name": "stdout",
     "output_type": "stream",
     "text": [
      "ömer 1\n",
      "ömer 2\n",
      "ömer 3\n",
      "ömer 4\n",
      "ömer 5\n",
      "eren 1\n",
      "eren 2\n",
      "eren 3\n",
      "eren 4\n",
      "eren 5\n",
      "furkan 1\n",
      "furkan 2\n",
      "furkan 3\n",
      "furkan 4\n",
      "furkan 5\n"
     ]
    }
   ],
   "source": [
    "for i in [\"ömer\",\"eren\",\"furkan\"]:\n",
    "      for j in [1,2,3,4,5]:\n",
    "          print(i,j)"
   ]
  },
  {
   "cell_type": "code",
   "execution_count": 98,
   "metadata": {},
   "outputs": [
    {
     "name": "stdout",
     "output_type": "stream",
     "text": [
      "ömer 1\n",
      "ömer 2\n",
      "ömer 3\n",
      "ömer 4\n",
      "ömer 5\n",
      "iç döngü sonu\n",
      "eren 1\n",
      "eren 2\n",
      "eren 3\n",
      "eren 4\n",
      "eren 5\n",
      "iç döngü sonu\n",
      "furkan 1\n",
      "furkan 2\n",
      "furkan 3\n",
      "furkan 4\n",
      "furkan 5\n",
      "iç döngü sonu\n",
      "tüm döngülerin sonu\n"
     ]
    }
   ],
   "source": [
    "for i in [\"ömer\",\"eren\",\"furkan\"]:\n",
    "      for j in [1,2,3,4,5]:\n",
    "          print(i,j)\n",
    "      print(\"iç döngü sonu\") \n",
    "print(\"tüm döngülerin sonu\")         "
   ]
  },
  {
   "cell_type": "code",
   "execution_count": 99,
   "metadata": {},
   "outputs": [
    {
     "name": "stdout",
     "output_type": "stream",
     "text": [
      "1 x 0 = (i * j)\n",
      "1 x 1 = (i * j)\n",
      "1 x 2 = (i * j)\n",
      "1 x 3 = (i * j)\n",
      "1 x 4 = (i * j)\n",
      "1 x 5 = (i * j)\n",
      "1 x 6 = (i * j)\n",
      "1 x 7 = (i * j)\n",
      "1 x 8 = (i * j)\n",
      "1 x 9 = (i * j)\n",
      "1 x 10 = (i * j)\n"
     ]
    }
   ],
   "source": [
    "for i in range(1,2):\n",
    "    for j in range(0,11):\n",
    "        print(f\"{i} x {j} = (i * j)\")"
   ]
  },
  {
   "cell_type": "code",
   "execution_count": 102,
   "metadata": {},
   "outputs": [
    {
     "name": "stdout",
     "output_type": "stream",
     "text": [
      "1 Cumali *****\n",
      "1 Sibel *****\n",
      "2 Cumali *****\n",
      "2 Sibel *****\n",
      "inşallah kafalar karışmamıştır\n"
     ]
    }
   ],
   "source": [
    "for i in [1,2]:\n",
    "    for j in [\"Cumali\",\"Sibel\"]:\n",
    "        for k in [\"*****\"]:\n",
    "                  print(i,j,k)\n",
    "print(\"inşallah kafalar karışmamıştır\")                  "
   ]
  },
  {
   "cell_type": "code",
   "execution_count": 9,
   "metadata": {},
   "outputs": [],
   "source": [
    "x =range(10,10000)\n",
    "len_ = len(x)\n",
    "toplam = 0\n",
    "for i in x:\n",
    "    \n",
    "    toplam += i ** len_\n",
    "    \n",
    "if toplam == x:\n",
    "    print(f\"Girdiğiniz sayı: {x} Armstrong bir sayıdır. \") \n",
    "  "
   ]
  },
  {
   "cell_type": "code",
   "execution_count": 15,
   "metadata": {},
   "outputs": [
    {
     "name": "stdout",
     "output_type": "stream",
     "text": [
      "Girdiginiz Sayi 153 Armstrong bir sayidir\n",
      "Girdiginiz Sayi 370 Armstrong bir sayidir\n",
      "Girdiginiz Sayi 371 Armstrong bir sayidir\n",
      "Girdiginiz Sayi 407 Armstrong bir sayidir\n",
      "Girdiginiz Sayi 1634 Armstrong bir sayidir\n",
      "Girdiginiz Sayi 8208 Armstrong bir sayidir\n",
      "Girdiginiz Sayi 9474 Armstrong bir sayidir\n"
     ]
    }
   ],
   "source": [
    "for i in range(10, 10000):\n",
    "    x = str(i)\n",
    "\n",
    "    num= len(x)\n",
    "\n",
    "    toplam = 0\n",
    "\n",
    "    for y in x:\n",
    "        toplam += int(y) ** num\n",
    "    if toplam == i:\n",
    "        print(\"Girdiginiz Sayi {} Armstrong bir sayidir\".format(x))"
   ]
  },
  {
   "cell_type": "code",
   "execution_count": null,
   "metadata": {},
   "outputs": [],
   "source": [
    "for i in range(10, 1000):\n",
    "    sayi = str(i)\n",
    "\n",
    "    digit = len(sayi)\n",
    "\n",
    "    total = 0\n",
    "\n",
    "    for x in sayi:\n",
    "        total += int(x) ** digit\n",
    "    if total == i:\n",
    "        print(\"Girdiginiz Sayi {} Armstrong bir sayidir\".format(sayi))"
   ]
  }
 ],
 "metadata": {
  "kernelspec": {
   "display_name": "Python 3",
   "language": "python",
   "name": "python3"
  },
  "language_info": {
   "codemirror_mode": {
    "name": "ipython",
    "version": 3
   },
   "file_extension": ".py",
   "mimetype": "text/x-python",
   "name": "python",
   "nbconvert_exporter": "python",
   "pygments_lexer": "ipython3",
   "version": "3.10.5"
  },
  "orig_nbformat": 4
 },
 "nbformat": 4,
 "nbformat_minor": 2
}
