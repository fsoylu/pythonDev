{
 "cells": [
  {
   "attachments": {},
   "cell_type": "markdown",
   "metadata": {},
   "source": [
    "# LOOPS - While"
   ]
  },
  {
   "cell_type": "code",
   "execution_count": 5,
   "metadata": {},
   "outputs": [
    {
     "data": {
      "text/plain": [
       "'Techpro'"
      ]
     },
     "execution_count": 5,
     "metadata": {},
     "output_type": "execute_result"
    }
   ],
   "source": [
    "\"Techpro\""
   ]
  },
  {
   "cell_type": "code",
   "execution_count": null,
   "metadata": {},
   "outputs": [],
   "source": [
    "# çalıştırma sonsuz döngü\n",
    "x = 5\n",
    "while 10 > x:\n",
    "    print(\"bu döngü sonsuza kadar çalişir.\")"
   ]
  },
  {
   "cell_type": "code",
   "execution_count": 7,
   "metadata": {},
   "outputs": [
    {
     "name": "stdout",
     "output_type": "stream",
     "text": [
      "bu döngü sonsuza kadar çalişir.\n",
      "bu döngü sonsuza kadar çalişir.\n",
      "bu döngü sonsuza kadar çalişir.\n",
      "bu döngü sonsuza kadar çalişir.\n",
      "bu döngü sonsuza kadar çalişir.\n"
     ]
    }
   ],
   "source": [
    "x = 5\n",
    "while 10 > x:\n",
    "    print(\"bu döngü sonsuza kadar çalişir.\")\n",
    "    x +=  1 # x= x + 1"
   ]
  },
  {
   "cell_type": "code",
   "execution_count": 10,
   "metadata": {},
   "outputs": [
    {
     "name": "stdout",
     "output_type": "stream",
     "text": [
      "1\n",
      "2\n",
      "3\n",
      "4\n",
      "5\n",
      "6\n",
      "7\n",
      "8\n",
      "9\n"
     ]
    }
   ],
   "source": [
    "x = 1 \n",
    "while x < 10:\n",
    "    print(x)\n",
    "    x += 1  "
   ]
  },
  {
   "cell_type": "code",
   "execution_count": 11,
   "metadata": {},
   "outputs": [],
   "source": [
    "while False:\n",
    "    print(\"senki çalışmayacak gibi\")"
   ]
  },
  {
   "cell_type": "code",
   "execution_count": null,
   "metadata": {},
   "outputs": [],
   "source": [
    "# çalıştırma sonsuz döngü\n",
    "while True:\n",
    "    print(\"duedur durdurabilirsen.\")"
   ]
  },
  {
   "cell_type": "code",
   "execution_count": 14,
   "metadata": {},
   "outputs": [
    {
     "name": "stdout",
     "output_type": "stream",
     "text": [
      "while döngüsü condition False olana kadar çalışmaya devam eder.\n"
     ]
    }
   ],
   "source": [
    "y = True\n",
    "\n",
    "while y:\n",
    "    print(\"while döngüsü condition False olana kadar çalışmaya devam eder.\")\n",
    "    y = False "
   ]
  },
  {
   "cell_type": "code",
   "execution_count": 15,
   "metadata": {},
   "outputs": [
    {
     "name": "stdout",
     "output_type": "stream",
     "text": [
      "0\n",
      "2\n",
      "4\n",
      "6\n",
      "8\n",
      "10\n"
     ]
    }
   ],
   "source": [
    "x = 0 \n",
    "\n",
    "while x < 11:\n",
    "    print(x)\n",
    "    x += 2"
   ]
  },
  {
   "cell_type": "code",
   "execution_count": 17,
   "metadata": {},
   "outputs": [
    {
     "name": "stdout",
     "output_type": "stream",
     "text": [
      "2\n",
      "4\n",
      "6\n",
      "8\n",
      "10\n",
      "12\n"
     ]
    }
   ],
   "source": [
    "x = 0 \n",
    "while x < 11:\n",
    "    x += 2\n",
    "    print(x)"
   ]
  },
  {
   "cell_type": "code",
   "execution_count": null,
   "metadata": {},
   "outputs": [],
   "source": [
    "# çalıştırma sonsuz çalışır\n",
    "y = True\n",
    "\n",
    "while y:\n",
    "    print(\"while döngüsü condition False olana kadar çalışmaya devam eder.\")\n",
    "y = False # döngü içinde olmadığı için sonsuza gider \n",
    "print(\"bunu göstermez\")"
   ]
  },
  {
   "cell_type": "code",
   "execution_count": 20,
   "metadata": {},
   "outputs": [
    {
     "name": "stdout",
     "output_type": "stream",
     "text": [
      "0\n",
      "1\n",
      "2\n",
      "3\n",
      "4\n",
      "While döngüsü burada bitti\n"
     ]
    }
   ],
   "source": [
    "x = 0\n",
    "\n",
    "while  x < 5:\n",
    "    print(x)\n",
    "    x += 1\n",
    "print(\"While döngüsü burada bitti\")"
   ]
  },
  {
   "cell_type": "code",
   "execution_count": 23,
   "metadata": {},
   "outputs": [
    {
     "name": "stdout",
     "output_type": "stream",
     "text": [
      "0\n",
      "While döngüsü burada bitti\n",
      "1\n",
      "While döngüsü burada bitti\n",
      "2\n",
      "While döngüsü burada bitti\n",
      "3\n",
      "While döngüsü burada bitti\n",
      "4\n",
      "While döngüsü burada bitti\n"
     ]
    }
   ],
   "source": [
    "x = 0\n",
    "\n",
    "while  x < 5:\n",
    "    print(x)\n",
    "    x += 1\n",
    "    print(\"While döngüsü burada bitti\")"
   ]
  },
  {
   "cell_type": "code",
   "execution_count": null,
   "metadata": {},
   "outputs": [],
   "source": [
    "# çalıştırma sonsuz \n",
    "x = 0\n",
    "\n",
    "while  x < 5:\n",
    "    print(x)\n",
    "\n",
    "\n",
    " x += 1\n",
    " \n",
    " print(\"While döngüsü burada bitti\")"
   ]
  },
  {
   "cell_type": "code",
   "execution_count": 29,
   "metadata": {},
   "outputs": [
    {
     "name": "stdout",
     "output_type": "stream",
     "text": [
      "1\n",
      "4\n",
      "9\n",
      "16\n",
      "25\n",
      "Döngü bitti.\n"
     ]
    }
   ],
   "source": [
    "x = 1 \n",
    "\n",
    "while 6 > x:\n",
    "    print(x **2)\n",
    "    x += 1  \n",
    "print(\"Döngü bitti.\")    "
   ]
  },
  {
   "cell_type": "code",
   "execution_count": 31,
   "metadata": {},
   "outputs": [
    {
     "name": "stdout",
     "output_type": "stream",
     "text": [
      "1\n",
      "4\n",
      "9\n",
      "16\n",
      "25\n",
      "Döngü bitti.\n"
     ]
    }
   ],
   "source": [
    "x = 1 \n",
    "\n",
    "while 5 >= x:\n",
    "    print(x ** 2)\n",
    "    x += 1  \n",
    "print(\"Döngü bitti.\")   "
   ]
  },
  {
   "cell_type": "code",
   "execution_count": 34,
   "metadata": {},
   "outputs": [
    {
     "name": "stdout",
     "output_type": "stream",
     "text": [
      "1\n",
      "9\n",
      "36\n",
      "64\n",
      "121\n",
      "225\n"
     ]
    }
   ],
   "source": [
    "sayılar_listesi = [1,3,6,8,11,15]\n",
    "\n",
    "len_liste = len(sayılar_listesi)\n",
    "x = 0\n",
    "while x < len_liste:\n",
    "    print(sayılar_listesi[x] ** 2 )\n",
    "    x += 1\n",
    "    \n",
    "    "
   ]
  },
  {
   "cell_type": "code",
   "execution_count": 45,
   "metadata": {},
   "outputs": [
    {
     "name": "stdout",
     "output_type": "stream",
     "text": [
      "1\n",
      "9\n",
      "36\n",
      "64\n",
      "121\n",
      "225\n",
      "289\n",
      "361\n",
      "441\n",
      "529\n"
     ]
    }
   ],
   "source": [
    "sayılar_listesi = [1,3,6,8,11,15,17,19,21,23]\n",
    "\n",
    "len_liste = len(sayılar_listesi)\n",
    "x = 0\n",
    "while x < len_liste:\n",
    "    print(sayılar_listesi[x] ** 2 )\n",
    "    x += 1"
   ]
  },
  {
   "cell_type": "code",
   "execution_count": 38,
   "metadata": {},
   "outputs": [
    {
     "name": "stdout",
     "output_type": "stream",
     "text": [
      "sanki bunu yazdırmaz\n"
     ]
    }
   ],
   "source": [
    "while []:\n",
    "    print(\"boş liste\")\n",
    "print(\"sanki bunu yazdırmaz\")    \n"
   ]
  },
  {
   "cell_type": "code",
   "execution_count": 50,
   "metadata": {},
   "outputs": [],
   "source": [
    "sayılar_listesi = [1,3,6,8,11,15,17,19,21,23]"
   ]
  },
  {
   "cell_type": "code",
   "execution_count": 54,
   "metadata": {},
   "outputs": [
    {
     "name": "stdout",
     "output_type": "stream",
     "text": [
      "23\n",
      "21\n",
      "19\n",
      "17\n",
      "15\n",
      "11\n",
      "8\n",
      "6\n",
      "3\n",
      "1\n"
     ]
    },
    {
     "ename": "IndexError",
     "evalue": "list index out of range",
     "output_type": "error",
     "traceback": [
      "\u001b[1;31m---------------------------------------------------------------------------\u001b[0m",
      "\u001b[1;31mIndexError\u001b[0m                                Traceback (most recent call last)",
      "Cell \u001b[1;32mIn[54], line 3\u001b[0m\n\u001b[0;32m      1\u001b[0m sayılar_listesi \u001b[39m=\u001b[39m [\u001b[39m1\u001b[39m,\u001b[39m3\u001b[39m,\u001b[39m6\u001b[39m,\u001b[39m8\u001b[39m,\u001b[39m11\u001b[39m,\u001b[39m15\u001b[39m,\u001b[39m17\u001b[39m,\u001b[39m19\u001b[39m,\u001b[39m21\u001b[39m,\u001b[39m23\u001b[39m]\n\u001b[0;32m      2\u001b[0m \u001b[39mwhile\u001b[39;00m [sayılar_listesi]:\n\u001b[1;32m----> 3\u001b[0m     \u001b[39mprint\u001b[39m(sayılar_listesi[\u001b[39m-\u001b[39;49m\u001b[39m1\u001b[39;49m])\n\u001b[0;32m      4\u001b[0m     sayılar_listesi\u001b[39m.\u001b[39mpop()\n\u001b[0;32m      5\u001b[0m \u001b[39mprint\u001b[39m(\u001b[39m\"\u001b[39m\u001b[39mDöngü bitti.\u001b[39m\u001b[39m\"\u001b[39m)   \n",
      "\u001b[1;31mIndexError\u001b[0m: list index out of range"
     ]
    }
   ],
   "source": [
    "sayılar_listesi = [1,3,6,8,11,15,17,19,21,23]\n",
    "while [sayılar_listesi]:\n",
    "    print(sayılar_listesi[-1])\n",
    "    sayılar_listesi.pop()\n",
    "print(\"Döngü bitti.\")   "
   ]
  },
  {
   "cell_type": "code",
   "execution_count": 51,
   "metadata": {},
   "outputs": [
    {
     "data": {
      "text/plain": [
       "[1, 3, 6, 8, 11, 15, 17, 19, 21, 23]"
      ]
     },
     "execution_count": 51,
     "metadata": {},
     "output_type": "execute_result"
    }
   ],
   "source": [
    "sayılar_listesi"
   ]
  },
  {
   "cell_type": "code",
   "execution_count": 62,
   "metadata": {},
   "outputs": [
    {
     "name": "stdout",
     "output_type": "stream",
     "text": [
      "Girdiğiniz sayı: 60. Doğru bildiniz tebrikler.\n",
      "Oyun bitti.\n"
     ]
    }
   ],
   "source": [
    "sayı = 60\n",
    "\n",
    "y = True\n",
    "\n",
    "while y:\n",
    "    \n",
    "    tahmin = int(input(\"Bir sayı giriniz:\"))\n",
    "    \n",
    "    if sayı < tahmin:\n",
    "        print(f\"Girdiğiniz sayı {tahmin}. Tahminini azalt.\") \n",
    "    elif sayı > tahmin: \n",
    "        print(f\"Girdiğiniz sayı: {tahmin}. Tahminini arttır. \")    \n",
    "    else:\n",
    "        print(f\"Girdiğiniz sayı: {tahmin}. Doğru bildiniz tebrikler.\")\n",
    "        y = False \n",
    "print(\"Oyun bitti.\")       \n",
    "    "
   ]
  },
  {
   "cell_type": "code",
   "execution_count": 61,
   "metadata": {},
   "outputs": [
    {
     "name": "stdout",
     "output_type": "stream",
     "text": [
      "Girdiğiniz sayı: 60. Doğru bildiniz. Tebrikler\n",
      "Oyun bitti.\n"
     ]
    }
   ],
   "source": [
    "sayı = 60\n",
    "\n",
    "y = True\n",
    "\n",
    "while y:\n",
    "\n",
    "    tahmin = int(input(\"bir sayı giriniz\"))\n",
    "\n",
    "    if sayı < tahmin:\n",
    "        print(f\"Girdiğiniz sayı: {tahmin}. Tahminini azalt\")\n",
    "    elif sayı > tahmin:\n",
    "        print(f\"Girdiğiniz sayı: {tahmin}. Tahminini arttır\")\n",
    "    else:\n",
    "        print(f\"Girdiğiniz sayı: {tahmin}. Doğru bildiniz. Tebrikler\")\n",
    "        y = False\n",
    "\n",
    "print(\"Oyun bitti.\")"
   ]
  },
  {
   "cell_type": "code",
   "execution_count": 133,
   "metadata": {},
   "outputs": [
    {
     "name": "stdout",
     "output_type": "stream",
     "text": [
      "Girdiğiniz sayı: 60. Doğru bildiniz. Tebrikler\n",
      "Oyun bitti. 1 kerede tahmin ettin\n"
     ]
    }
   ],
   "source": [
    "sayı = 60\n",
    "\n",
    "y = True\n",
    "\n",
    "sayaç = 0 \n",
    "while y:\n",
    "    sayaç += 1\n",
    "\n",
    "    tahmin = int(input(\"bir sayı giriniz\"))\n",
    "\n",
    "    if sayı < tahmin:\n",
    "        print(f\"Girdiğiniz sayı: {tahmin}. Tahminini azalt\")\n",
    "    elif sayı > tahmin:\n",
    "        print(f\"Girdiğiniz sayı: {tahmin}. Tahminini arttır\")\n",
    "    else:\n",
    "        print(f\"Girdiğiniz sayı: {tahmin}. Doğru bildiniz. Tebrikler\")\n",
    "        y = False\n",
    "\n",
    "print(f\"Oyun bitti. {sayaç} kerede tahmin ettin\")"
   ]
  },
  {
   "cell_type": "code",
   "execution_count": 68,
   "metadata": {},
   "outputs": [
    {
     "name": "stdout",
     "output_type": "stream",
     "text": [
      "Girdiğiniz sayı: 15. Tahminini arttır\n",
      "Girdiğiniz sayı: 15. Tahminini arttır\n",
      "Girdiğiniz sayı: 465. Tahminini azalt\n",
      "Girdiğiniz sayı: 60. Doğru bildiniz. Tebrikler\n",
      "Oyun bitti. 5 kerede tahmin ettin\n"
     ]
    }
   ],
   "source": [
    "sayı = 60\n",
    "\n",
    "y = True\n",
    "\n",
    "sayaç = 0 \n",
    "while y:\n",
    "    sayaç += 1\n",
    "\n",
    "    tahmin = int(input(\"bir sayı giriniz\"))\n",
    "\n",
    "    if sayı < tahmin:\n",
    "        print(f\"Girdiğiniz sayı: {tahmin}. Tahminini azalt\")\n",
    "    elif sayı > tahmin:\n",
    "        print(f\"Girdiğiniz sayı: {tahmin}. Tahminini arttır\")\n",
    "    else:\n",
    "        print(f\"Girdiğiniz sayı: {tahmin}. Doğru bildiniz. Tebrikler\")\n",
    "        y = False\n",
    "        sayaç += 1\n",
    "\n",
    "print(f\"Oyun bitti. {sayaç} kerede tahmin ettin\")"
   ]
  },
  {
   "attachments": {},
   "cell_type": "markdown",
   "metadata": {},
   "source": [
    "# random modülü "
   ]
  },
  {
   "cell_type": "code",
   "execution_count": 80,
   "metadata": {},
   "outputs": [],
   "source": [
    "import random"
   ]
  },
  {
   "cell_type": "code",
   "execution_count": 82,
   "metadata": {},
   "outputs": [
    {
     "data": {
      "text/plain": [
       "0.5904538770532997"
      ]
     },
     "execution_count": 82,
     "metadata": {},
     "output_type": "execute_result"
    }
   ],
   "source": [
    "random.random()"
   ]
  },
  {
   "cell_type": "code",
   "execution_count": 86,
   "metadata": {},
   "outputs": [
    {
     "data": {
      "text/plain": [
       "0.5811521325045647"
      ]
     },
     "execution_count": 86,
     "metadata": {},
     "output_type": "execute_result"
    }
   ],
   "source": [
    "random.seed(101) # sabitlemeye yarar.\n",
    "random.random()"
   ]
  },
  {
   "cell_type": "code",
   "execution_count": 89,
   "metadata": {},
   "outputs": [
    {
     "data": {
      "text/plain": [
       "3"
      ]
     },
     "execution_count": 89,
     "metadata": {},
     "output_type": "execute_result"
    }
   ],
   "source": [
    "random.randint()"
   ]
  },
  {
   "cell_type": "code",
   "execution_count": 90,
   "metadata": {},
   "outputs": [
    {
     "name": "stdout",
     "output_type": "stream",
     "text": [
      "Help on method randint in module random:\n",
      "\n",
      "randint(a, b) method of random.Random instance\n",
      "    Return random integer in range [a, b], including both end points.\n",
      "\n"
     ]
    }
   ],
   "source": [
    "help(random.randint)"
   ]
  },
  {
   "cell_type": "code",
   "execution_count": 123,
   "metadata": {},
   "outputs": [
    {
     "data": {
      "text/plain": [
       "8"
      ]
     },
     "execution_count": 123,
     "metadata": {},
     "output_type": "execute_result"
    }
   ],
   "source": [
    "random.randint(5,10)"
   ]
  },
  {
   "cell_type": "code",
   "execution_count": 124,
   "metadata": {},
   "outputs": [
    {
     "name": "stdout",
     "output_type": "stream",
     "text": [
      "Girdiğiniz sayı: 50. Tahminini arttır\n",
      "Girdiğiniz sayı: 51. Tahminini arttır\n",
      "Girdiğiniz sayı: 52. Tahminini arttır\n",
      "Girdiğiniz sayı: 53. Tahminini arttır\n",
      "Girdiğiniz sayı: 54. Tahminini arttır\n",
      "Girdiğiniz sayı: 55. Tahminini arttır\n",
      "Girdiğiniz sayı: 56. Tahminini arttır\n",
      "Girdiğiniz sayı: 57. Tahminini arttır\n",
      "Girdiğiniz sayı: 58. Tahminini arttır\n",
      "Girdiğiniz sayı: 59. Doğru bildiniz. Tebrikler\n",
      "Oyun bitti.\n"
     ]
    }
   ],
   "source": [
    "import random\n",
    "sayı = random.randint(0,100)\n",
    "\n",
    "y = True\n",
    "\n",
    "while y:\n",
    "\n",
    "    tahmin = int(input(\"0 ile 100 arasında bir sayı giriniz\"))\n",
    "\n",
    "    if sayı < tahmin:\n",
    "        print(f\"Girdiğiniz sayı: {tahmin}. Tahminini azalt\")\n",
    "    elif sayı > tahmin:\n",
    "        print(f\"Girdiğiniz sayı: {tahmin}. Tahminini arttır\")\n",
    "    else:\n",
    "        print(f\"Girdiğiniz sayı: {tahmin}. Doğru bildiniz. Tebrikler\")\n",
    "        y = False\n",
    "\n",
    "print(\"Oyun bitti.\")"
   ]
  },
  {
   "cell_type": "code",
   "execution_count": 137,
   "metadata": {},
   "outputs": [
    {
     "name": "stdout",
     "output_type": "stream",
     "text": [
      "Girdiğiniz sayı: 50. Tahminini arttır\n",
      "Girdiğiniz sayı: 60. Tahminini arttır\n",
      "Girdiğiniz sayı: 70. Tahminini arttır\n",
      "Girdiğiniz sayı: 80. Tahminini arttır\n",
      "Girdiğiniz sayı: 90. Tahminini arttır\n",
      "Girdiğiniz sayı: 95. Tahminini arttır\n",
      "Girdiğiniz sayı: 96. Tahminini arttır\n",
      "Girdiğiniz sayı: 97. Tahminini arttır\n",
      "Girdiğiniz sayı: 98. Tahminini arttır\n",
      "Girdiğiniz sayı: 99. Tahminini arttır\n",
      "Girdiğiniz sayı: 100. Doğru bildiniz. Tebrikler\n",
      "Oyun bitti. 11 kerede tahmin ettin\n"
     ]
    }
   ],
   "source": [
    "import random\n",
    "sayı = random.randint(0,100)\n",
    "\n",
    "sayaç = 0\n",
    "\n",
    "y = True\n",
    "\n",
    "while y:\n",
    "    sayaç += 1\n",
    "\n",
    "    tahmin = int(input(\"0 ile 100 arasında bir sayı giriniz\"))\n",
    "\n",
    "    if sayı < tahmin:\n",
    "        print(f\"Girdiğiniz sayı: {tahmin}. Tahminini azalt\")\n",
    "    elif sayı > tahmin:\n",
    "        print(f\"Girdiğiniz sayı: {tahmin}. Tahminini arttır\")\n",
    "    else:\n",
    "        print(f\"Girdiğiniz sayı: {tahmin}. Doğru bildiniz. Tebrikler\")\n",
    "        y = False\n",
    "    \n",
    "\n",
    "print(f\"Oyun bitti. {sayaç} kerede tahmin ettin\")"
   ]
  },
  {
   "cell_type": "code",
   "execution_count": 141,
   "metadata": {},
   "outputs": [
    {
     "name": "stdout",
     "output_type": "stream",
     "text": [
      "Girdiğiniz sayı: 25. Tahminini arttır\n",
      "Girdiğiniz sayı: 2. Tahminini arttır\n",
      "Girdiğiniz sayı: 5. Tahminini arttır\n",
      "Girdiğiniz sayı: 5. Tahminini arttır\n",
      "Girdiğiniz sayı: 30. Tahminini arttır\n",
      "Girdiğiniz sayı: 40. Tahminini arttır\n",
      "Girdiğiniz sayı: 50. Tahminini arttır\n",
      "Girdiğiniz sayı: 60. Tahminini azalt\n",
      "Girdiğiniz sayı: 55. Tahminini azalt\n",
      "Girdiğiniz sayı: 53. Tahminini arttır\n",
      "Girdiğiniz sayı: 54. Doğru bildiniz. Tebrikler\n",
      "Oyun bitti. 11 kerede tahmin ettin\n"
     ]
    }
   ],
   "source": [
    "import time\n",
    "import random\n",
    "sayı = random.randint(0,100)\n",
    "\n",
    "sayaç = 0\n",
    "\n",
    "y = True\n",
    "\n",
    "while y:\n",
    "    sayaç += 1\n",
    "\n",
    "    tahmin = int(input(\"0 ile 100 arasında bir sayı giriniz\"))\n",
    "    time.sleep(2)\n",
    "\n",
    "    if sayı < tahmin:\n",
    "        print(f\"Girdiğiniz sayı: {tahmin}. Tahminini azalt\")\n",
    "    elif sayı > tahmin:\n",
    "        print(f\"Girdiğiniz sayı: {tahmin}. Tahminini arttır\")\n",
    "    else:\n",
    "        print(f\"Girdiğiniz sayı: {tahmin}. Doğru bildiniz. Tebrikler\")\n",
    "        y = False\n",
    "    \n",
    "\n",
    "print(f\"Oyun bitti. {sayaç} kerede tahmin ettin\")"
   ]
  },
  {
   "cell_type": "code",
   "execution_count": 147,
   "metadata": {},
   "outputs": [
    {
     "name": "stdout",
     "output_type": "stream",
     "text": [
      "Girdiğiniz sayı: 52. Tahminini azalt\n",
      "Girdiğiniz sayı: 52. Tahminini azalt\n",
      "Girdiğiniz sayı: 32. Tahminini azalt\n",
      "Girdiğiniz sayı: 20. Tahminini azalt\n",
      "Girdiğiniz sayı: 10. Tahminini azalt\n",
      "Doğru tahmin edemedin\n"
     ]
    }
   ],
   "source": [
    "import time\n",
    "import random\n",
    "sayı = random.randint(0,100)\n",
    "\n",
    "sayaç = 0\n",
    "\n",
    "\n",
    "\n",
    "while sayaç < 5 :\n",
    "    sayaç += 1\n",
    "\n",
    "    tahmin = int(input(\"0 ile 100 arasında bir sayı giriniz\"))\n",
    "    time.sleep(2)\n",
    "\n",
    "    if sayı < tahmin:\n",
    "        print(f\"Girdiğiniz sayı: {tahmin}. Tahminini azalt\")\n",
    "    elif sayı > tahmin:\n",
    "        print(f\"Girdiğiniz sayı: {tahmin}. Tahminini arttır\")\n",
    "    else:\n",
    "        print(f\"Girdiğiniz sayı: {tahmin}. Doğru bildiniz. Tebrikler\")\n",
    "        print(f\"Oyun bitti. {sayaç} kerede tahmin ettin\")\n",
    "        break\n",
    "    if sayaç == 5:\n",
    "        print(\"Doğru tahmin edemedin\")\n",
    "        break\n",
    "    \n",
    "\n"
   ]
  },
  {
   "cell_type": "code",
   "execution_count": 152,
   "metadata": {},
   "outputs": [
    {
     "name": "stdout",
     "output_type": "stream",
     "text": [
      "[22, 58, 46, 48, 50, 40]\n",
      "[1, 45, 69, 55, 47, 45, 49]\n"
     ]
    }
   ],
   "source": [
    "liste_1 = [1,45,22,69,58,55,47,45,46,48,49,50,40]\n",
    "\n",
    "odds = []\n",
    "\n",
    "events = []\n",
    "\n",
    "x =0\n",
    "\n",
    "while liste_1 :\n",
    "    if liste_1[0] % 2 ==0:\n",
    "        events.append(liste_1[0])\n",
    "        liste_1.remove(liste_1[0])\n",
    "    else:\n",
    "        odds.append(liste_1[0])\n",
    "        liste_1.remove(liste_1[0])\n",
    "print(events)\n",
    "print(odds)            "
   ]
  },
  {
   "cell_type": "code",
   "execution_count": null,
   "metadata": {},
   "outputs": [],
   "source": []
  }
 ],
 "metadata": {
  "kernelspec": {
   "display_name": "Python 3",
   "language": "python",
   "name": "python3"
  },
  "language_info": {
   "codemirror_mode": {
    "name": "ipython",
    "version": 3
   },
   "file_extension": ".py",
   "mimetype": "text/x-python",
   "name": "python",
   "nbconvert_exporter": "python",
   "pygments_lexer": "ipython3",
   "version": "3.10.5"
  },
  "orig_nbformat": 4
 },
 "nbformat": 4,
 "nbformat_minor": 2
}
