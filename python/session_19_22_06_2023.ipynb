{
 "cells": [
  {
   "attachments": {},
   "cell_type": "markdown",
   "metadata": {},
   "source": [
    "# Try exceptions\n"
   ]
  },
  {
   "cell_type": "code",
   "execution_count": 7,
   "metadata": {},
   "outputs": [
    {
     "ename": "TypeError",
     "evalue": "can only concatenate str (not \"int\") to str",
     "output_type": "error",
     "traceback": [
      "\u001b[1;31m---------------------------------------------------------------------------\u001b[0m",
      "\u001b[1;31mTypeError\u001b[0m                                 Traceback (most recent call last)",
      "Cell \u001b[1;32mIn[7], line 1\u001b[0m\n\u001b[1;32m----> 1\u001b[0m \u001b[39m\"\u001b[39;49m\u001b[39m4\u001b[39;49m\u001b[39m\"\u001b[39;49m \u001b[39m+\u001b[39;49m \u001b[39m5\u001b[39;49m\n",
      "\u001b[1;31mTypeError\u001b[0m: can only concatenate str (not \"int\") to str"
     ]
    }
   ],
   "source": [
    "\"4\" + 5"
   ]
  },
  {
   "cell_type": "code",
   "execution_count": 9,
   "metadata": {},
   "outputs": [
    {
     "data": {
      "text/plain": [
       "9"
      ]
     },
     "execution_count": 9,
     "metadata": {},
     "output_type": "execute_result"
    }
   ],
   "source": [
    "3 + 6"
   ]
  },
  {
   "cell_type": "code",
   "execution_count": 8,
   "metadata": {},
   "outputs": [
    {
     "name": "stdout",
     "output_type": "stream",
     "text": [
      "Hatayı gösterme bana yeterki çalış\n"
     ]
    }
   ],
   "source": [
    "try:\n",
    "    \"4\"+ 5\n",
    "except:\n",
    "    print(\"Hatayı gösterme bana yeterki çalış\")    "
   ]
  },
  {
   "cell_type": "code",
   "execution_count": 13,
   "metadata": {},
   "outputs": [
    {
     "name": "stdout",
     "output_type": "stream",
     "text": [
      "44444\n"
     ]
    }
   ],
   "source": [
    "try:\n",
    "   print (\"4\" * 5)\n",
    "except:\n",
    "    print(\"Hatayı gösterme bana yeterki çalış\")  "
   ]
  },
  {
   "cell_type": "code",
   "execution_count": 14,
   "metadata": {},
   "outputs": [
    {
     "name": "stdout",
     "output_type": "stream",
     "text": [
      "Hatayı gösterme bana yeterki çalış\n"
     ]
    },
    {
     "ename": "TypeError",
     "evalue": "can only concatenate str (not \"int\") to str",
     "output_type": "error",
     "traceback": [
      "\u001b[1;31m---------------------------------------------------------------------------\u001b[0m",
      "\u001b[1;31mTypeError\u001b[0m                                 Traceback (most recent call last)",
      "Cell \u001b[1;32mIn[14], line 2\u001b[0m\n\u001b[0;32m      1\u001b[0m \u001b[39mtry\u001b[39;00m:\n\u001b[1;32m----> 2\u001b[0m     \u001b[39m\"\u001b[39;49m\u001b[39m4\u001b[39;49m\u001b[39m\"\u001b[39;49m\u001b[39m+\u001b[39;49m \u001b[39m5\u001b[39;49m\n\u001b[0;32m      3\u001b[0m \u001b[39mexcept\u001b[39;00m:\n",
      "\u001b[1;31mTypeError\u001b[0m: can only concatenate str (not \"int\") to str",
      "\nDuring handling of the above exception, another exception occurred:\n",
      "\u001b[1;31mTypeError\u001b[0m                                 Traceback (most recent call last)",
      "Cell \u001b[1;32mIn[14], line 5\u001b[0m\n\u001b[0;32m      3\u001b[0m \u001b[39mexcept\u001b[39;00m:\n\u001b[0;32m      4\u001b[0m     \u001b[39mprint\u001b[39m(\u001b[39m\"\u001b[39m\u001b[39mHatayı gösterme bana yeterki çalış\u001b[39m\u001b[39m\"\u001b[39m)    \n\u001b[1;32m----> 5\u001b[0m     \u001b[39mprint\u001b[39m(\u001b[39m\"\u001b[39;49m\u001b[39m4\u001b[39;49m\u001b[39m\"\u001b[39;49m \u001b[39m+\u001b[39;49m \u001b[39m5\u001b[39;49m)\n",
      "\u001b[1;31mTypeError\u001b[0m: can only concatenate str (not \"int\") to str"
     ]
    }
   ],
   "source": [
    "try:\n",
    "    \"4\"+ 5\n",
    "except:\n",
    "    print(\"Hatayı gösterme bana yeterki çalış\")    \n",
    "    print(\"4\" + 5)"
   ]
  },
  {
   "cell_type": "code",
   "execution_count": 15,
   "metadata": {},
   "outputs": [
    {
     "name": "stdout",
     "output_type": "stream",
     "text": [
      "Hatayı gösterme bana yeterki çalış\n",
      "9\n"
     ]
    }
   ],
   "source": [
    "try:\n",
    "    \"4\"+ 5\n",
    "except:\n",
    "    print(\"Hatayı gösterme bana yeterki çalış\")    \n",
    "    print(4+5)"
   ]
  },
  {
   "cell_type": "code",
   "execution_count": 16,
   "metadata": {},
   "outputs": [
    {
     "name": "stdout",
     "output_type": "stream",
     "text": [
      "Hatayı gösterme bana yeterki çalış\n"
     ]
    }
   ],
   "source": [
    "try:\n",
    "   print (\"4\" + 5)\n",
    "except TypeError:\n",
    "    print(\"Hatayı gösterme bana yeterki çalış\")"
   ]
  },
  {
   "cell_type": "code",
   "execution_count": 17,
   "metadata": {},
   "outputs": [
    {
     "ename": "TypeError",
     "evalue": "can only concatenate str (not \"int\") to str",
     "output_type": "error",
     "traceback": [
      "\u001b[1;31m---------------------------------------------------------------------------\u001b[0m",
      "\u001b[1;31mTypeError\u001b[0m                                 Traceback (most recent call last)",
      "Cell \u001b[1;32mIn[17], line 2\u001b[0m\n\u001b[0;32m      1\u001b[0m \u001b[39mtry\u001b[39;00m:\n\u001b[1;32m----> 2\u001b[0m    \u001b[39mprint\u001b[39m (\u001b[39m\"\u001b[39;49m\u001b[39m4\u001b[39;49m\u001b[39m\"\u001b[39;49m \u001b[39m+\u001b[39;49m \u001b[39m5\u001b[39;49m)\n\u001b[0;32m      3\u001b[0m \u001b[39mexcept\u001b[39;00m \u001b[39mNameError\u001b[39;00m:\n\u001b[0;32m      4\u001b[0m     \u001b[39mprint\u001b[39m(\u001b[39m\"\u001b[39m\u001b[39mHatayı gösterme bana yeterki çalış\u001b[39m\u001b[39m\"\u001b[39m)\n",
      "\u001b[1;31mTypeError\u001b[0m: can only concatenate str (not \"int\") to str"
     ]
    }
   ],
   "source": [
    "try:\n",
    "   print (\"4\" + 5)\n",
    "except NameError:\n",
    "    print(\"Hatayı gösterme bana yeterki çalış\")"
   ]
  },
  {
   "cell_type": "code",
   "execution_count": 18,
   "metadata": {},
   "outputs": [
    {
     "name": "stdout",
     "output_type": "stream",
     "text": [
      "Hata TypeError olduğu için ben çalıştım\n"
     ]
    }
   ],
   "source": [
    "try:\n",
    "   print (\"4\" + 5)\n",
    "except TypeError:\n",
    "    print(\"Hata TypeError olduğu için ben çalıştım\")"
   ]
  },
  {
   "cell_type": "code",
   "execution_count": 19,
   "metadata": {},
   "outputs": [
    {
     "name": "stdout",
     "output_type": "stream",
     "text": [
      "Hata TypeError olduğu için ben çalıştım\n"
     ]
    }
   ],
   "source": [
    "try:\n",
    "   print (\"4\" + 5)\n",
    "except NameError:\n",
    "    print(\"Hata NameError olduğu için ben çalıştım\")\n",
    "\n",
    "except TypeError:\n",
    "    print(\"Hata TypeError olduğu için ben çalıştım\")"
   ]
  },
  {
   "cell_type": "code",
   "execution_count": 27,
   "metadata": {},
   "outputs": [
    {
     "name": "stdout",
     "output_type": "stream",
     "text": [
      "0.07692307692307693\n"
     ]
    }
   ],
   "source": [
    "x = int(input(\"Bir sayı giriniz: \"))\n",
    "y = int(input(\"Bir sayı daha giriniz: \"))\n",
    "\n",
    "try:\n",
    "     print(x / y)\n",
    "except:\n",
    "    print(\"Bu yazıyı görüyorsanız sayılarda hata var demektir\")    "
   ]
  },
  {
   "cell_type": "code",
   "execution_count": 38,
   "metadata": {},
   "outputs": [
    {
     "name": "stdout",
     "output_type": "stream",
     "text": [
      "Bu yazıyı görüyorsanız sayılarda hata var demektir\n"
     ]
    }
   ],
   "source": [
    "\n",
    "\n",
    "try:\n",
    "    x = int(input(\"Bir sayı giriniz: \"))\n",
    "    y = int(input(\"Bir sayı daha giriniz: \"))\n",
    "    print(x/y)       \n",
    "except:\n",
    "    print(\"Bu yazıyı görüyorsanız sayılarda hata var demektir\")"
   ]
  },
  {
   "attachments": {},
   "cell_type": "markdown",
   "metadata": {},
   "source": [
    " BaseException\n",
    " ├── BaseExceptionGroup\n",
    " ├── GeneratorExit\n",
    " ├── KeyboardInterrupt\n",
    " ├── SystemExit\n",
    " └── Exception\n",
    "      ├── ArithmeticError\n",
    "      │    ├── FloatingPointError\n",
    "      │    ├── OverflowError\n",
    "      │    └── ZeroDivisionError\n",
    "      ├── AssertionError\n",
    "      ├── AttributeError\n",
    "      ├── BufferError\n",
    "      ├── EOFError\n",
    "      ├── ExceptionGroup [BaseExceptionGroup]\n",
    "      ├── ImportError\n",
    "      │    └── ModuleNotFoundError\n",
    "      ├── LookupError\n",
    "      │    ├── IndexError\n",
    "      │    └── KeyError\n",
    "      ├── MemoryError\n",
    "      ├── NameError\n",
    "      │    └── UnboundLocalError\n",
    "      ├── OSError\n",
    "      │    ├── BlockingIOError\n",
    "      │    ├── ChildProcessError\n",
    "      │    ├── ConnectionError\n",
    "      │    │    ├── BrokenPipeError\n",
    "      │    │    ├── ConnectionAbortedError\n",
    "      │    │    ├── ConnectionRefusedError\n",
    "      │    │    └── ConnectionResetError\n",
    "      │    ├── FileExistsError\n",
    "      │    ├── FileNotFoundError\n",
    "      │    ├── InterruptedError\n",
    "      │    ├── IsADirectoryError\n",
    "      │    ├── NotADirectoryError\n",
    "      │    ├── PermissionError\n",
    "      │    ├── ProcessLookupError\n",
    "      │    └── TimeoutError\n",
    "      ├── ReferenceError\n",
    "      ├── RuntimeError\n",
    "      │    ├── NotImplementedError\n",
    "      │    └── RecursionError\n",
    "      ├── StopAsyncIteration\n",
    "      ├── StopIteration\n",
    "      ├── SyntaxError\n",
    "      │    └── IndentationError\n",
    "      │         └── TabError\n",
    "      ├── SystemError\n",
    "      ├── TypeError\n",
    "      ├── ValueError\n",
    "      │    └── UnicodeError\n",
    "      │         ├── UnicodeDecodeError\n",
    "      │         ├── UnicodeEncodeError\n",
    "      │         └── UnicodeTranslateError\n",
    "      └── Warning\n",
    "           ├── BytesWarning\n",
    "           ├── DeprecationWarning\n",
    "           ├── EncodingWarning\n",
    "           ├── FutureWarning\n",
    "           ├── ImportWarning\n",
    "           ├── PendingDeprecationWarning\n",
    "           ├── ResourceWarning\n",
    "           ├── RuntimeWarning\n",
    "           ├── SyntaxWarning\n",
    "           ├── UnicodeWarning\n",
    "           └── UserWarning"
   ]
  },
  {
   "cell_type": "code",
   "execution_count": 41,
   "metadata": {},
   "outputs": [
    {
     "name": "stdout",
     "output_type": "stream",
     "text": [
      "Vallahi bu sefer hatanın ne olduğunu bende bilmiyorum\n"
     ]
    }
   ],
   "source": [
    "x = input(\"Bir sayı girin\") # 8\n",
    "y = input(\"Bir sayı daha girin\") # 0\n",
    "\n",
    "try:\n",
    "    print(int(a) / int(y))\n",
    "except ValueError:\n",
    "    print(\"Bu yazıyı görüyorsanız sayıyı int formatında girmemişsiniz demektir.\")\n",
    "except ZeroDivisionError:\n",
    "    print(\"Bu yazıyı görüyorsanız ikinci girdiğiniz sayı sıfırdır ve herhangi bir sayı sıfıra bölünemez.\")\n",
    "except:\n",
    "    print(\"Vallahi bu sefer hatanın ne olduğunu bende bilmiyorum\")"
   ]
  },
  {
   "cell_type": "code",
   "execution_count": 42,
   "metadata": {},
   "outputs": [
    {
     "name": "stdout",
     "output_type": "stream",
     "text": [
      "Vallahi bu sefer hatanın ne olduğunu bende bilmiyorum\n",
      "buradaki hata: name 'a' is not defined\n"
     ]
    }
   ],
   "source": [
    "x = input(\"Bir sayı girin\") # 8\n",
    "y = input(\"Bir sayı daha girin\") # 0\n",
    "\n",
    "try:\n",
    "    print(int(a) / int(y))\n",
    "except ValueError:\n",
    "    print(\"Bu yazıyı görüyorsanız sayıyı int formatında girmemişsiniz demektir.\")\n",
    "except ZeroDivisionError:\n",
    "    print(\"Bu yazıyı görüyorsanız ikinci girdiğiniz sayı sıfırdır ve herhangi bir sayı sıfıra bölünemez.\")\n",
    "except Exception as hata:\n",
    "    print(\"Vallahi bu sefer hatanın ne olduğunu bende bilmiyorum\")\n",
    "    print(f\"buradaki hata: {hata}\")"
   ]
  },
  {
   "cell_type": "code",
   "execution_count": 48,
   "metadata": {},
   "outputs": [
    {
     "name": "stdout",
     "output_type": "stream",
     "text": [
      "25.0\n"
     ]
    }
   ],
   "source": [
    "x = input(\"Bir sayı girin\") # 8\n",
    "y = input(\"Bir sayı daha girin\") # 0\n",
    "\n",
    "try:\n",
    "    a = int(x) / int(y)\n",
    "except ValueError:\n",
    "    print(\"Bu yazıyı görüyorsanız sayıyı int formatında girmemişsiniz demektir.\")\n",
    "except ZeroDivisionError:\n",
    "    print(\"Bu yazıyı görüyorsanız ikinci girdiğiniz sayı sıfırdır ve herhangi bir sayı sıfıra bölünemez.\")\n",
    "else:\n",
    "    print(a ** 2 )"
   ]
  },
  {
   "cell_type": "code",
   "execution_count": 49,
   "metadata": {},
   "outputs": [
    {
     "name": "stdout",
     "output_type": "stream",
     "text": [
      "Bu yazıyı görüyorsanız sayıyı int formatında girmemişsiniz demektir.\n"
     ]
    }
   ],
   "source": [
    "x = input(\"Bir sayı girin\") # 8\n",
    "y = input(\"Bir sayı daha girin\") # 0\n",
    "\n",
    "try:\n",
    "    a = int(x) / int(y)\n",
    "except ValueError:\n",
    "    print(\"Bu yazıyı görüyorsanız sayıyı int formatında girmemişsiniz demektir.\")\n",
    "except ZeroDivisionError:\n",
    "    print(\"Bu yazıyı görüyorsanız ikinci girdiğiniz sayı sıfırdır ve herhangi bir sayı sıfıra bölünemez.\")\n",
    "else:\n",
    "    print(a ** 2 )"
   ]
  },
  {
   "cell_type": "code",
   "execution_count": 52,
   "metadata": {},
   "outputs": [
    {
     "name": "stdout",
     "output_type": "stream",
     "text": [
      "[0.5294117647058824, 0.4166666666666667, 6.666666666666667]\n"
     ]
    }
   ],
   "source": [
    "liste = []\n",
    "while True:\n",
    "    x = input(\"Bir sayı girin\") # 8\n",
    "    y = input(\"Bir sayı daha girin\") # 0\n",
    "    \n",
    "    try:\n",
    "        a = int(x) / int(y)\n",
    "    except ValueError:\n",
    "        print(\"Bu yazıyı görüyorsanız sayıyı int formatında girmemişsiniz demektir.\")\n",
    "    except ZeroDivisionError:\n",
    "        print(\"Bu yazıyı görüyorsanız ikinci girdiğiniz sayı sıfırdır ve herhangi bir sayı sıfıra bölünemez.\")\n",
    "    else:\n",
    "        liste.append(a)\n",
    "    if len(liste) == 3:\n",
    "        break\n",
    "print(liste)        \n"
   ]
  },
  {
   "cell_type": "code",
   "execution_count": 55,
   "metadata": {},
   "outputs": [
    {
     "name": "stdout",
     "output_type": "stream",
     "text": [
      "Hatalı giriş yaptınız tekrar bir sayı giriniz.\n",
      "Hatalı giriş yaptınız tekrar bir sayı giriniz.\n",
      "64\n"
     ]
    }
   ],
   "source": [
    "while True:\n",
    "    try:\n",
    "        x = int(input(\"Bir sayı girin:\"))\n",
    "        break\n",
    "    except:\n",
    "        print(\"Hatalı giriş yaptınız tekrar bir sayı giriniz.\")\n",
    "print(x ** 2 )        "
   ]
  },
  {
   "cell_type": "code",
   "execution_count": 56,
   "metadata": {},
   "outputs": [
    {
     "name": "stdout",
     "output_type": "stream",
     "text": [
      "Burası kesin çalışır.\n",
      "Hatalı giriş yaptınız tekrar bir sayı giriniz.\n",
      "Burası kesin çalışır.\n",
      "Hatalı giriş yaptınız tekrar bir sayı giriniz.\n",
      "Burası kesin çalışır.\n",
      "Hatalı giriş yaptınız tekrar bir sayı giriniz.\n",
      "Burası kesin çalışır.\n",
      "16\n"
     ]
    }
   ],
   "source": [
    "while True:\n",
    "    try:\n",
    "        print(\"Burası kesin çalışır.\")\n",
    "        x = int(input(\"Bir sayı girin:\"))\n",
    "        break\n",
    "    except:\n",
    "        print(\"Hatalı giriş yaptınız tekrar bir sayı giriniz.\")\n",
    "print(x ** 2 ) "
   ]
  },
  {
   "cell_type": "code",
   "execution_count": 61,
   "metadata": {},
   "outputs": [
    {
     "name": "stdout",
     "output_type": "stream",
     "text": [
      "Bu yazıyı görüyorsanız sayıyı int formatında girmemişsiniz demektir.\n",
      "Ben her halükarda çalışırım.\n"
     ]
    }
   ],
   "source": [
    "x = input(\"Bir sayı girin\") # 8\n",
    "y = input(\"Bir sayı daha girin\") # 0\n",
    "\n",
    "try:\n",
    "    a = int(x) / int(y)\n",
    "except ValueError:\n",
    "    print(\"Bu yazıyı görüyorsanız sayıyı int formatında girmemişsiniz demektir.\")\n",
    "except ZeroDivisionError:\n",
    "    print(\"Bu yazıyı görüyorsanız ikinci girdiğiniz sayı sıfırdır ve herhangi bir sayı sıfıra bölünemez.\")\n",
    "else:\n",
    "    print(a ** 2 )\n",
    "finally:\n",
    "    print(\"Ben her halükarda çalışırım.\")    "
   ]
  },
  {
   "cell_type": "code",
   "execution_count": 64,
   "metadata": {},
   "outputs": [
    {
     "ename": "IndentationError",
     "evalue": "expected an indented block after 'while' statement on line 1 (2093012762.py, line 3)",
     "output_type": "error",
     "traceback": [
      "\u001b[1;36m  Cell \u001b[1;32mIn[64], line 3\u001b[1;36m\u001b[0m\n\u001b[1;33m    x = input(\"Bir sayı girin\") # 8\u001b[0m\n\u001b[1;37m    ^\u001b[0m\n\u001b[1;31mIndentationError\u001b[0m\u001b[1;31m:\u001b[0m expected an indented block after 'while' statement on line 1\n"
     ]
    }
   ],
   "source": [
    "while True:\n",
    "x = input(\"Bir sayı girin\") # 8\n",
    "y = input(\"Bir sayı daha girin\") # 0\n",
    "\n",
    "try:\n",
    "    a = int(x) / int(y)\n",
    "except ValueError:\n",
    "    print(\"Bu yazıyı görüyorsanız sayıyı int formatında girmemişsiniz demektir.\")\n",
    "except ZeroDivisionError:\n",
    "    print(\"Bu yazıyı görüyorsanız ikinci girdiğiniz sayı sıfırdır ve herhangi bir sayı sıfıra bölünemez.\")\n",
    "else:\n",
    "    print(a ** 2 )\n",
    "finally:\n",
    "    print(\"Ben her halükarda çalışırım.\") "
   ]
  },
  {
   "cell_type": "code",
   "execution_count": 65,
   "metadata": {},
   "outputs": [
    {
     "name": "stdout",
     "output_type": "stream",
     "text": [
      "Bu yazıyı görüyorsanız sayıyı int formatında girmemişsiniz demektir.\n",
      "Beni kimse durduramaz. Her halükarda çalışırım ben\n",
      "0.16000000000000003\n",
      "Beni kimse durduramaz. Her halükarda çalışırım ben\n"
     ]
    }
   ],
   "source": [
    "while True:    \n",
    "    x = input(\"Bir sayı girin\") # sekiz\n",
    "    y = input(\"Bir sayı daha girin\") # 2\n",
    "\n",
    "    try:\n",
    "        a = int(x) / int(y)\n",
    "    except ValueError:\n",
    "        print(\"Bu yazıyı görüyorsanız sayıyı int formatında girmemişsiniz demektir.\")\n",
    "    except ZeroDivisionError:\n",
    "        print(\"Bu yazıyı görüyorsanız ikinci girdiğiniz sayı sıfırdır ve herhangi bir sayı sıfıra bölünemez.\")\n",
    "    else:\n",
    "        print(a ** 2)\n",
    "        break\n",
    "    finally:\n",
    "        print(\"Beni kimse durduramaz. Her halükarda çalışırım ben\")"
   ]
  },
  {
   "cell_type": "code",
   "execution_count": 67,
   "metadata": {},
   "outputs": [],
   "source": [
    "liste = [5, \"aa15\" , 15 , \"asdeddcds48\", 48 ]\n"
   ]
  },
  {
   "cell_type": "code",
   "execution_count": 76,
   "metadata": {},
   "outputs": [
    {
     "name": "stdout",
     "output_type": "stream",
     "text": [
      "5\n",
      "15\n",
      "48\n"
     ]
    }
   ],
   "source": [
    "liste = [5, \"aa15\" , 15 , \"asdeddcds48\", 48 ]\n",
    "for i in liste:\n",
    "    try:\n",
    "        F = int(i)\n",
    "        print(F)\n",
    "    except :\n",
    "        1"
   ]
  },
  {
   "cell_type": "code",
   "execution_count": 77,
   "metadata": {},
   "outputs": [],
   "source": [
    "def fact_for_2(x):\n",
    "    assert x >= 0, \"Negatif sayıların faktöriyel değeri aranmaz\"\n",
    "    çarpım_değeri = 1\n",
    "    for i in range(x,0,-1):\n",
    "        çarpım_değeri *= i\n",
    "    return çarpım_değeri"
   ]
  },
  {
   "cell_type": "code",
   "execution_count": 78,
   "metadata": {},
   "outputs": [
    {
     "ename": "AssertionError",
     "evalue": "Negatif sayıların faktöriyel değeri aranmaz",
     "output_type": "error",
     "traceback": [
      "\u001b[1;31m---------------------------------------------------------------------------\u001b[0m",
      "\u001b[1;31mAssertionError\u001b[0m                            Traceback (most recent call last)",
      "Cell \u001b[1;32mIn[78], line 1\u001b[0m\n\u001b[1;32m----> 1\u001b[0m fact_for_2(\u001b[39m-\u001b[39;49m\u001b[39m9\u001b[39;49m)\n",
      "Cell \u001b[1;32mIn[77], line 2\u001b[0m, in \u001b[0;36mfact_for_2\u001b[1;34m(x)\u001b[0m\n\u001b[0;32m      1\u001b[0m \u001b[39mdef\u001b[39;00m \u001b[39mfact_for_2\u001b[39m(x):\n\u001b[1;32m----> 2\u001b[0m     \u001b[39massert\u001b[39;00m x \u001b[39m>\u001b[39m\u001b[39m=\u001b[39m \u001b[39m0\u001b[39m, \u001b[39m\"\u001b[39m\u001b[39mNegatif sayıların faktöriyel değeri aranmaz\u001b[39m\u001b[39m\"\u001b[39m\n\u001b[0;32m      3\u001b[0m     çarpım_değeri \u001b[39m=\u001b[39m \u001b[39m1\u001b[39m\n\u001b[0;32m      4\u001b[0m     \u001b[39mfor\u001b[39;00m i \u001b[39min\u001b[39;00m \u001b[39mrange\u001b[39m(x,\u001b[39m0\u001b[39m,\u001b[39m-\u001b[39m\u001b[39m1\u001b[39m):\n",
      "\u001b[1;31mAssertionError\u001b[0m: Negatif sayıların faktöriyel değeri aranmaz"
     ]
    }
   ],
   "source": [
    "fact_for_2(-9)"
   ]
  },
  {
   "attachments": {},
   "cell_type": "markdown",
   "metadata": {},
   "source": [
    "# Taş, Kağıt, Makas"
   ]
  },
  {
   "cell_type": "code",
   "execution_count": 79,
   "metadata": {},
   "outputs": [
    {
     "name": "stdout",
     "output_type": "stream",
     "text": [
      "kazanan yok durum berabere\n",
      "bilgisayar kazandı\n",
      "bilgisayar kazandı\n",
      "bilgisayar kazandı\n",
      "bilgisayar kazandı\n",
      "şahsım kazandı\n",
      "Game Over\n",
      "6 kerede ben 1 kere kazandım\n"
     ]
    }
   ],
   "source": [
    "import random\n",
    "import time\n",
    "x = input(\"Taş, Kağıt, Makas oyunu oynamak ister misin?(evet veya hayır)\").lower()\n",
    "\n",
    "pc_listesi = [\"taş\", \"kağıt\", \"makas\"]\n",
    "pc_counter = 0\n",
    "şahsım = 0\n",
    "berabere = 0\n",
    "while x == \"evet\":\n",
    "    \n",
    "    pc = pc_listesi[random.randint(0,2)]\n",
    "\n",
    "    ben = input(\"Taş, Kağıt yada Makas tan birini yaz\").lower()\n",
    "\n",
    "    if (pc == \"taş\" and ben == \"makas\") or (pc == \"makas\" and ben == \"kağıt\") or (pc == \"kağıt\" and ben == \"taş\"):\n",
    "\n",
    "        kazanan = \"bilgisayar kazandı\"\n",
    "        pc_counter += 1\n",
    "\n",
    "    elif (pc == \"taş\" and ben == \"kağıt\") or (pc == \"makas\" and ben == \"taş\" ) or (pc == \"kağıt\" and ben == \"makas\"):\n",
    "\n",
    "        kazanan = \"şahsım kazandı\"\n",
    "        şahsım += 1\n",
    "\n",
    "    elif (pc == \"taş\" and ben == \"taş\") or (pc == \"makas\" and ben == \"makas\" ) or (pc == \"kağıt\" and ben == \"kağıt\"):\n",
    "\n",
    "        kazanan = \"kazanan yok durum berabere\"\n",
    "        berabere += 1\n",
    "    else:\n",
    "        kazanan = \"hatalı giriş yaptın\"\n",
    "\n",
    "    time.sleep(2)\n",
    "\n",
    "    print(kazanan)\n",
    "\n",
    "    time.sleep(1)\n",
    "\n",
    "    x = input(\"Taş, Kağıt, Makas oyunu oynamaya devam etmek ister misin?(evet veya hayır)\").lower()\n",
    "\n",
    "print(\"Game Over\")\n",
    "print(f\"{pc_counter + şahsım + berabere} kerede ben {şahsım} kere kazandım\")"
   ]
  }
 ],
 "metadata": {
  "kernelspec": {
   "display_name": "Python 3",
   "language": "python",
   "name": "python3"
  },
  "language_info": {
   "codemirror_mode": {
    "name": "ipython",
    "version": 3
   },
   "file_extension": ".py",
   "mimetype": "text/x-python",
   "name": "python",
   "nbconvert_exporter": "python",
   "pygments_lexer": "ipython3",
   "version": "3.10.5"
  },
  "orig_nbformat": 4
 },
 "nbformat": 4,
 "nbformat_minor": 2
}
