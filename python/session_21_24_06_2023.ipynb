{
 "cells": [
  {
   "cell_type": "code",
   "execution_count": 1,
   "metadata": {},
   "outputs": [
    {
     "name": "stdout",
     "output_type": "stream",
     "text": [
      "GirisYili 2023\n",
      "FakulteNo 20\n",
      "BolumNo 24\n",
      "OgrenimNo 2\n",
      "OgrenciNo 02\n"
     ]
    }
   ],
   "source": [
    "ögr_nu = input(\"11 haneli öğrenci numaranızı girin\")\n",
    "\n",
    "if ögr_nu.isdigit() and len(ögr_nu) == 11:\n",
    "    ögr_bilgileri = dict(GirisYili = ögr_nu[0:4],\n",
    "                            FakulteNo = ögr_nu[4:6],\n",
    "                            BolumNo = ögr_nu[6:8],\n",
    "                            OgrenimNo = ögr_nu[8],\n",
    "                            OgrenciNo = ögr_nu[9:])\n",
    "\n",
    "else:\n",
    "    print(\"Yanlış giriş yaptınız.\")\n",
    "\n",
    "for i in ögr_bilgileri.items():\n",
    "    print(i[0], i[1])\n"
   ]
  },
  {
   "cell_type": "code",
   "execution_count": 2,
   "metadata": {},
   "outputs": [],
   "source": [
    "def validMountainArray(lst):\n",
    "    if len(lst) >= 3 and lst.index(max(lst)) != 0 and lst.index(max(lst)) != len(lst)-1:\n",
    "        if lst.count(max(lst)) == 1:\n",
    "            maxn_index = lst.index(max(lst))\n",
    "            first_part = 0\n",
    "            second_part = 0\n",
    "            for i in range(lst.index(max(lst))):\n",
    "                if lst[i] < lst[i+1]:\n",
    "                    first_part += 1\n",
    "                else:\n",
    "                    return False\n",
    "\n",
    "            for j in range(lst.index(max(lst)), len(lst)-1):\n",
    "                if lst[j] > lst[j+1]:\n",
    "                    second_part += 1\n",
    "                else:\n",
    "                    return False\n",
    "            \n",
    "            if first_part == lst.index(max(lst)) and second_part == len(lst) - lst.index(max(lst)) - 1:\n",
    "                return True\n",
    "            else:\n",
    "                return False\n",
    "        else:\n",
    "            return False\n",
    "    else:\n",
    "        return False"
   ]
  },
  {
   "cell_type": "code",
   "execution_count": 3,
   "metadata": {},
   "outputs": [],
   "source": [
    "def beşin_katlarını_bul(liste):\n",
    "\n",
    "    result = []\n",
    "    for i in liste:\n",
    "        if i % 5 == 0:\n",
    "            result.append(i)\n",
    "            \n",
    "    return result\n",
    "\n"
   ]
  },
  {
   "cell_type": "code",
   "execution_count": 4,
   "metadata": {},
   "outputs": [],
   "source": [
    "def beşin_katlarını_bul_2(liste):\n",
    "\n",
    "    return [i for i in liste if i % 5 == 0]"
   ]
  },
  {
   "cell_type": "code",
   "execution_count": 6,
   "metadata": {},
   "outputs": [],
   "source": [
    "def moveZeroes(sayılar):\n",
    "\n",
    "    liste = []\n",
    "    for i in sayılar:\n",
    "        if i != 0:\n",
    "            liste.append(i)\n",
    "\n",
    "    for i in range(len(sayılar) - len(liste)):\n",
    "\n",
    "        liste.append(0)\n",
    "\n",
    "    return liste"
   ]
  },
  {
   "cell_type": "code",
   "execution_count": null,
   "metadata": {},
   "outputs": [],
   "source": []
  }
 ],
 "metadata": {
  "kernelspec": {
   "display_name": "Python 3",
   "language": "python",
   "name": "python3"
  },
  "language_info": {
   "codemirror_mode": {
    "name": "ipython",
    "version": 3
   },
   "file_extension": ".py",
   "mimetype": "text/x-python",
   "name": "python",
   "nbconvert_exporter": "python",
   "pygments_lexer": "ipython3",
   "version": "3.10.5"
  },
  "orig_nbformat": 4
 },
 "nbformat": 4,
 "nbformat_minor": 2
}
