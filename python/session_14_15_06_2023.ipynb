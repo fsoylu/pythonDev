{
 "cells": [
  {
   "cell_type": "code",
   "execution_count": 3,
   "metadata": {},
   "outputs": [
    {
     "name": "stdout",
     "output_type": "stream",
     "text": [
      "6 x 1  = 6\n",
      "6 x 2  = 12\n",
      "6 x 3  = 18\n",
      "6 x 4  = 24\n",
      "6 x 5  = 30\n",
      "6 x 6  = 36\n",
      "6 x 7  = 42\n",
      "6 x 8  = 48\n",
      "6 x 9  = 54\n",
      "6 x 10 = 60\n"
     ]
    }
   ],
   "source": [
    "number = int(input(\"1 ile 9 arasında bir sayı giriniz\"))\n",
    "\n",
    "if 1 <= number <=9:\n",
    "    for i in range(1,11):\n",
    "        print(f\"{number} x {i:<2} = {number * i}\")\n",
    " \n",
    "else:\n",
    "    print(\"1 ile 9 arasında bir sayı girmenizi istemiştim.\")        "
   ]
  },
  {
   "cell_type": "code",
   "execution_count": 11,
   "metadata": {},
   "outputs": [
    {
     "name": "stdout",
     "output_type": "stream",
     "text": [
      "1 ile 9 arasında bir sayı girmenizi istemiştim.Lütfen bu aralıkta bir sayı giriniz.\n",
      "5 x 1  = 5\n",
      "5 x 2  = 10\n",
      "5 x 3  = 15\n",
      "5 x 4  = 20\n",
      "5 x 5  = 25\n",
      "5 x 6  = 30\n",
      "5 x 7  = 35\n",
      "5 x 8  = 40\n",
      "5 x 9  = 45\n",
      "5 x 10 = 50\n"
     ]
    }
   ],
   "source": [
    "while True:\n",
    "    number = int(input(\"1 ile 9 arasında bir sayı giriniz\"))\n",
    "\n",
    "    if 1 <= number <=9:\n",
    "        for i in range(1,11):\n",
    "           print(f\"{number} x {i:<2} = {number * i}\")\n",
    "        break\n",
    "    else:\n",
    "       print(\"1 ile 9 arasında bir sayı girmenizi istemiştim.Lütfen bu aralıkta bir sayı giriniz.\")   \n",
    "\n",
    "     "
   ]
  },
  {
   "cell_type": "code",
   "execution_count": null,
   "metadata": {},
   "outputs": [],
   "source": []
  },
  {
   "cell_type": "code",
   "execution_count": 20,
   "metadata": {},
   "outputs": [
    {
     "name": "stdout",
     "output_type": "stream",
     "text": [
      "0 ile 51 arasındaki sayıların toplamı : 1275\n"
     ]
    }
   ],
   "source": [
    "toplam=0;\n",
    "sayi1=input('1. Sayı: ')\n",
    "sayi2=input('2. Sayı: ')\n",
    "for i in range(int(sayi1)+1,int(sayi2)):\n",
    "  toplam+=i\n",
    "print(\"{0} ile {1} arasındaki sayıların toplamı : {2}\".format(sayi1,sayi2,toplam))"
   ]
  },
  {
   "cell_type": "code",
   "execution_count": 17,
   "metadata": {},
   "outputs": [
    {
     "name": "stdout",
     "output_type": "stream",
     "text": [
      "1275\n"
     ]
    }
   ],
   "source": [
    "n = 50\n",
    "toplam = n * (n + 1) // 2\n",
    "print(toplam)"
   ]
  },
  {
   "cell_type": "code",
   "execution_count": 18,
   "metadata": {},
   "outputs": [
    {
     "name": "stdout",
     "output_type": "stream",
     "text": [
      "1 den 50(50dahil)ye kadar olan sayıların toplamı: 1275\n"
     ]
    }
   ],
   "source": [
    "num = 0\n",
    "for i in range(1,51):\n",
    "    num += i\n",
    "print(f\"1 den 50(50dahil)ye kadar olan sayıların toplamı: {num}\")    "
   ]
  },
  {
   "cell_type": "code",
   "execution_count": 22,
   "metadata": {},
   "outputs": [
    {
     "name": "stdout",
     "output_type": "stream",
     "text": [
      "1275\n"
     ]
    }
   ],
   "source": [
    "x = 1 \n",
    "sum_2 = 0 \n",
    "while x <= 50:\n",
    "    \n",
    "    sum_2 += x\n",
    "    x += 1\n",
    "print(sum_2)    "
   ]
  },
  {
   "cell_type": "code",
   "execution_count": 23,
   "metadata": {},
   "outputs": [
    {
     "data": {
      "text/plain": [
       "1275"
      ]
     },
     "execution_count": 23,
     "metadata": {},
     "output_type": "execute_result"
    }
   ],
   "source": [
    "sum(range(1,51))"
   ]
  },
  {
   "cell_type": "code",
   "execution_count": 24,
   "metadata": {},
   "outputs": [
    {
     "data": {
      "text/plain": [
       "15"
      ]
     },
     "execution_count": 24,
     "metadata": {},
     "output_type": "execute_result"
    }
   ],
   "source": [
    "sum([1,2,3,4,5])"
   ]
  },
  {
   "cell_type": "code",
   "execution_count": 25,
   "metadata": {},
   "outputs": [
    {
     "data": {
      "text/plain": [
       "15"
      ]
     },
     "execution_count": 25,
     "metadata": {},
     "output_type": "execute_result"
    }
   ],
   "source": [
    "sum((1,2,3,4,5))"
   ]
  },
  {
   "cell_type": "code",
   "execution_count": 33,
   "metadata": {},
   "outputs": [
    {
     "name": "stdout",
     "output_type": "stream",
     "text": [
      "2\n",
      "6\n",
      "12\n",
      "20\n",
      "30\n",
      "42\n",
      "56\n",
      "72\n",
      "90\n",
      "110\n",
      "132\n",
      "156\n",
      "182\n",
      "210\n",
      "240\n",
      "272\n",
      "306\n",
      "342\n",
      "380\n",
      "420\n",
      "462\n",
      "506\n",
      "552\n",
      "600\n",
      "650\n"
     ]
    }
   ],
   "source": [
    "x = 0\n",
    "for i in range(1,51):\n",
    "    if i%2==0:\n",
    "        x += i \n",
    "        print(x)"
   ]
  },
  {
   "cell_type": "code",
   "execution_count": 35,
   "metadata": {},
   "outputs": [
    {
     "name": "stdout",
     "output_type": "stream",
     "text": [
      "650\n"
     ]
    }
   ],
   "source": [
    "sum_3 = 0 \n",
    "\n",
    "for i in range(1,51):\n",
    "    \n",
    "    if i % 2 == 0:\n",
    "        sum_3 += i\n",
    "print(sum_3)         "
   ]
  },
  {
   "cell_type": "code",
   "execution_count": 37,
   "metadata": {},
   "outputs": [
    {
     "data": {
      "text/plain": [
       "650"
      ]
     },
     "execution_count": 37,
     "metadata": {},
     "output_type": "execute_result"
    }
   ],
   "source": [
    "sum(range(0,51,2))"
   ]
  },
  {
   "cell_type": "code",
   "execution_count": 41,
   "metadata": {},
   "outputs": [
    {
     "name": "stdout",
     "output_type": "stream",
     "text": [
      "625\n"
     ]
    }
   ],
   "source": [
    "sum_odds =0\n",
    "\n",
    "for i in range(1,51):\n",
    "    \n",
    "    if i % 2 == 1 :\n",
    "        sum_odds += i\n",
    "print(sum_odds)        \n"
   ]
  },
  {
   "cell_type": "code",
   "execution_count": 40,
   "metadata": {},
   "outputs": [
    {
     "name": "stdout",
     "output_type": "stream",
     "text": [
      "625\n"
     ]
    }
   ],
   "source": [
    "sum_odds =0\n",
    "\n",
    "for i in range(1,51):\n",
    "    \n",
    "    if i % 2:\n",
    "        sum_odds += i\n",
    "print(sum_odds)        \n"
   ]
  },
  {
   "attachments": {},
   "cell_type": "markdown",
   "metadata": {},
   "source": [
    "## break, continue"
   ]
  },
  {
   "cell_type": "code",
   "execution_count": 42,
   "metadata": {},
   "outputs": [
    {
     "name": "stdout",
     "output_type": "stream",
     "text": [
      "i sayısı:1\n",
      "i sayısı:2\n",
      "i sayısı:3\n",
      "9\n"
     ]
    }
   ],
   "source": [
    "for i in [1,2,3,4,5,6,7,8,9]:\n",
    "    print(f\"i sayısı:{i}\")\n",
    "    \n",
    "    if i % 3 == 0:\n",
    "        print(i ** 2)\n",
    "        break"
   ]
  },
  {
   "cell_type": "code",
   "execution_count": 43,
   "metadata": {},
   "outputs": [
    {
     "name": "stdout",
     "output_type": "stream",
     "text": [
      "i sayısı:1\n",
      "i sayısı:2\n",
      "i sayısı:3\n",
      "9\n",
      "i sayısı:4\n",
      "i sayısı:5\n",
      "i sayısı:6\n",
      "36\n",
      "i sayısı:7\n",
      "i sayısı:8\n",
      "i sayısı:9\n",
      "81\n"
     ]
    }
   ],
   "source": [
    "for i in [1,2,3,4,5,6,7,8,9]:\n",
    "    print(f\"i sayısı:{i}\")\n",
    "    \n",
    "    if i % 3 == 0:\n",
    "        print(i ** 2)\n",
    "        "
   ]
  },
  {
   "cell_type": "code",
   "execution_count": 58,
   "metadata": {},
   "outputs": [
    {
     "name": "stdout",
     "output_type": "stream",
     "text": [
      "i sayısı:1\n",
      "1\n",
      "i sayısı:2\n",
      "3\n",
      "i sayısı:3\n",
      "6\n",
      "i sayısı:4\n",
      "10\n",
      "i sayısı:5\n",
      "i sayısı:6\n",
      "16\n",
      "i sayısı:7\n",
      "23\n",
      "i sayısı:8\n",
      "31\n",
      "i sayısı:9\n",
      "40\n"
     ]
    }
   ],
   "source": [
    "x = 0\n",
    "for i in range(1,10):\n",
    "    print(f\"i sayısı:{i}\")\n",
    "    if i % 5 == 0:\n",
    "        continue\n",
    "    x += i \n",
    "    print(x)\n",
    "        "
   ]
  },
  {
   "cell_type": "code",
   "execution_count": 61,
   "metadata": {},
   "outputs": [
    {
     "name": "stdout",
     "output_type": "stream",
     "text": [
      "1\n",
      "3\n",
      "6\n",
      "10\n",
      "16\n",
      "23\n",
      "31\n",
      "40\n"
     ]
    }
   ],
   "source": [
    "x = 0\n",
    "for i in range(1,10):\n",
    "   \n",
    "    if i % 5 == 0:\n",
    "        continue\n",
    "    x += i \n",
    "    print(x)"
   ]
  },
  {
   "cell_type": "code",
   "execution_count": null,
   "metadata": {},
   "outputs": [],
   "source": [
    "x = 1\n",
    "toplam = 0\n",
    "\n",
    "while x <= 9:\n",
    "    \n",
    "    if x % 5 == 0:\n",
    "        continue\n",
    "    toplam += x\n",
    "    \n",
    "    \n",
    "    print(toplam) "
   ]
  },
  {
   "attachments": {},
   "cell_type": "markdown",
   "metadata": {},
   "source": [
    "Bir markete gittiniz. Markette her ürünün bir kod numarası var.\n",
    "1 : Elma 2 : Portakal 3 : Çilek 4 : Yumurta 5 : Havuç 6 : Armut ... vs. şeklinde.\n",
    "Kullanıcıya almak istediği ürünü sorunuz ve kod numarası ile seçim yaptırınız. Çıkış için \"q\" opsiyonunu sununuz. Kullanıcının her ürün seçimi sonrası \" .... elma sepete eklendi\" gibi bir dönüt veriniz. Kullanıcı ürün almaya devam ettikçe ürünleri bir listede toplayınız, almaktan vazgeçtiği durumda teşekkür edip, aldığı toplam ürünleri çıktı veren bir kod yazınız.\n",
    "Çıktı:\n",
    "Teşekkür Ederiz...\n",
    "Sepetinizde Bulunan Ürünler: elma, armut, yumurta ... vs.\n"
   ]
  },
  {
   "cell_type": "code",
   "execution_count": 72,
   "metadata": {},
   "outputs": [
    {
     "name": "stdout",
     "output_type": "stream",
     "text": [
      "\n",
      "1 >>> Elma\n",
      "2 >>> Çilek\n",
      "3 >>> Yumurta\n",
      "4 >>> Havuç\n",
      "5 >>> Armut\n",
      "Elma  sepete eklendi.\n",
      "Portakal  sepete eklendi.\n",
      "Armut sepete eklendi.\n",
      "Yumurta sepete eklendi.\n",
      "Havuç sepete eklendi.\n",
      "Havuç sepete eklendi.\n",
      "Bizi tercih ettiğiniz için teşekkürler. Yine bekleriz.\n",
      "Almış olduğunuz ürünler: ['Elma ', 'Portakal ', 'Armut', 'Yumurta', 'Havuç', 'Havuç'] \n"
     ]
    }
   ],
   "source": [
    "ürünler= {1 : \"Elma \",2 : \"Portakal \",3 : \"Çilek\", 4 : \"Yumurta\" ,5 : \"Havuç\", 6 : \"Armut\"}\n",
    "\n",
    "print(\"\"\"\n",
    "1 >>> Elma\n",
    "2 >>> Çilek\n",
    "3 >>> Yumurta\n",
    "4 >>> Havuç\n",
    "5 >>> Armut\"\"\")\n",
    "\n",
    "sepet = []\n",
    "\n",
    "while True:\n",
    "    x = input(\"Almak istediğiniz ürünün kodunu yazını.Sepete eklemeyi bitirdiğiniz zaman 'q' tuşuna basınız.\")\n",
    "    \n",
    "    if x != \"q\":\n",
    "        sepet.append(ürünler[int(x)])\n",
    "        print(f\"{ürünler[int(x)]} sepete eklendi.\")\n",
    "        \n",
    "    elif x == \"q\":\n",
    "        print(\"Bizi tercih ettiğiniz için teşekkürler. Yine bekleriz.\")\n",
    "        print(f\"Almış olduğunuz ürünler: {sepet} \")\n",
    "        break    \n",
    "\n",
    "\n",
    "\n",
    "\n",
    "\n",
    "\n"
   ]
  },
  {
   "cell_type": "code",
   "execution_count": 70,
   "metadata": {},
   "outputs": [
    {
     "data": {
      "text/plain": [
       "'Elma '"
      ]
     },
     "execution_count": 70,
     "metadata": {},
     "output_type": "execute_result"
    }
   ],
   "source": [
    "ürünler= {1 : \"Elma \",2 : \"Portakal \",3 : \"Çilek\", 4 : \"Yumurta\" ,5 : \"Havuç\", 6 : \"Armut\"}\n",
    "ürünler[1]"
   ]
  },
  {
   "cell_type": "code",
   "execution_count": null,
   "metadata": {},
   "outputs": [],
   "source": []
  }
 ],
 "metadata": {
  "kernelspec": {
   "display_name": "Python 3",
   "language": "python",
   "name": "python3"
  },
  "language_info": {
   "codemirror_mode": {
    "name": "ipython",
    "version": 3
   },
   "file_extension": ".py",
   "mimetype": "text/x-python",
   "name": "python",
   "nbconvert_exporter": "python",
   "pygments_lexer": "ipython3",
   "version": "3.10.5"
  },
  "orig_nbformat": 4
 },
 "nbformat": 4,
 "nbformat_minor": 2
}
