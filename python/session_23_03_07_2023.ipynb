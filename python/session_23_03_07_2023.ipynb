{
 "cells": [
  {
   "attachments": {},
   "cell_type": "markdown",
   "metadata": {},
   "source": [
    "# Object Oriented Programming\n",
    "### Object \n",
    "### Instance\n",
    "### Class"
   ]
  },
  {
   "cell_type": "code",
   "execution_count": 25,
   "metadata": {},
   "outputs": [
    {
     "name": "stdout",
     "output_type": "stream",
     "text": [
      "<class '__main__.Personel'>\n",
      "<__main__.Personel object at 0x000002047EAE83A0>\n",
      "<__main__.Personel object at 0x000002047EAE8070>\n"
     ]
    }
   ],
   "source": [
    "class Personel:\n",
    "    pass\n",
    "per_1 = Personel()\n",
    "per_2 = Personel()\n",
    "\n",
    "\n",
    "print(Personel)\n",
    "print(per_1)\n",
    "print(per_2)"
   ]
  },
  {
   "cell_type": "code",
   "execution_count": 29,
   "metadata": {},
   "outputs": [
    {
     "name": "stdout",
     "output_type": "stream",
     "text": [
      "<__main__.Personel object at 0x000002047FCCD3F0>\n",
      "<__main__.Personel object at 0x000002047FCCF610>\n",
      "ahmetkaya@gmail.com\n",
      "elifayhan@gmail.com\n"
     ]
    }
   ],
   "source": [
    "class Personel:\n",
    "    pass\n",
    "per_1 = Personel()\n",
    "per_2 = Personel()\n",
    "\n",
    "per_1.isim = \"Ahmet\"\n",
    "per_1.soyisim = \"Kaya\"\n",
    "per_1.eposta = \"ahmetkaya@gmail.com\"\n",
    "\n",
    "per_2.isim = \"Elif\"\n",
    "per_2.soyisim = \"Ayhan\"\n",
    "per_2.eposta = \"elifayhan@gmail.com\"\n",
    "\n",
    "print(per_1)\n",
    "print(per_2)\n",
    "print(per_1.eposta)\n",
    "print(per_2.eposta)"
   ]
  },
  {
   "cell_type": "code",
   "execution_count": 36,
   "metadata": {},
   "outputs": [
    {
     "name": "stdout",
     "output_type": "stream",
     "text": [
      "Esma\n",
      "sert\n",
      "25000\n",
      "esma.sert@firma.com\n",
      "Mary\n",
      "Smith\n",
      "40000\n",
      "mary.smith@firma.com\n"
     ]
    }
   ],
   "source": [
    "class Personel:\n",
    "    def tanimla(self,isim, soyisim,maaş):\n",
    "        self.ad = isim \n",
    "        self.soyad = soyisim\n",
    "        self.price = maaş\n",
    "        self.eposta = f\"{isim.lower()}.{soyisim.lower()}@firma.com\"\n",
    "        return self\n",
    "\n",
    "per1 =Personel().tanimla(isim=\"Esma\", soyisim=\"sert\", maaş = 25000)\n",
    "per2 =Personel().tanimla(\"Mary\", \"Smith\", 40000)\n",
    "\n",
    "print(per1.ad)\n",
    "print(per1.soyad)\n",
    "print(per1.price)  \n",
    "print(per1.eposta)\n",
    "print(per2.ad)\n",
    "print(per2.soyad)\n",
    "print(per2.price)  \n",
    "print(per2.eposta)  \n",
    "        "
   ]
  },
  {
   "cell_type": "code",
   "execution_count": 37,
   "metadata": {},
   "outputs": [
    {
     "name": "stdout",
     "output_type": "stream",
     "text": [
      "Esma\n",
      "Sert\n",
      "25000\n",
      "esma.sert@firma.com\n",
      "Mary\n",
      "Smith\n",
      "40000\n",
      "mary.smith@firma.com\n"
     ]
    }
   ],
   "source": [
    "class Personel:\n",
    "    def __init__(self, isim, soyisim, maas):\n",
    "        self.ad = isim\n",
    "        self.soyad = soyisim\n",
    "        self.price = maas\n",
    "        self.eposta = f\"{isim.lower()}.{soyisim.lower()}@firma.com\"\n",
    "\n",
    "per1 = Personel(isim=\"Esma\", soyisim=\"Sert\", maas=25000)\n",
    "per2 = Personel('Mary', 'Smith', 40000)\n",
    "\n",
    "\n",
    "print(per1.ad)\n",
    "print(per1.soyad)\n",
    "print(per1.price)\n",
    "print(per1.eposta)\n",
    "print(per2.ad)\n",
    "print(per2.soyad)\n",
    "print(per2.price)\n",
    "print(per2.eposta)"
   ]
  },
  {
   "cell_type": "code",
   "execution_count": 38,
   "metadata": {},
   "outputs": [
    {
     "name": "stdout",
     "output_type": "stream",
     "text": [
      "Esma Sert\n",
      "Mary Smith\n",
      "Esma Sert\n",
      "Mary Smith\n"
     ]
    }
   ],
   "source": [
    "class Personel:\n",
    "    def __init__(self, isim, soyisim, maas):\n",
    "        self.ad = isim\n",
    "        self.soyad = soyisim\n",
    "        self.price = maas\n",
    "        self.eposta = f\"{isim.lower()}.{soyisim.lower()}@firmam.com\"\n",
    "    \n",
    "    def tam_isim(self):\n",
    "        return f\"{self.ad} {self.soyad}\"\n",
    "    \n",
    "per1 = Personel(isim=\"Esma\", soyisim=\"Sert\", maas=25000)\n",
    "per2 = Personel('Mary', 'Smith', 40000)\n",
    "\n",
    "print(per1.tam_isim())\n",
    "print(per2.tam_isim())\n",
    "\n",
    "print(Personel.tam_isim(per1))\n",
    "print(Personel.tam_isim(per2))"
   ]
  },
  {
   "cell_type": "code",
   "execution_count": 39,
   "metadata": {},
   "outputs": [
    {
     "name": "stdout",
     "output_type": "stream",
     "text": [
      "25000\n",
      "27500\n",
      "1.1\n",
      "1.1\n",
      "1.1\n"
     ]
    }
   ],
   "source": [
    "class Personel:\n",
    "    zam_orani = 1.1\n",
    "    def __init__(self, isim, soyisim, maas):\n",
    "        self.ad = isim\n",
    "        self.soyad = soyisim\n",
    "        self.price = maas\n",
    "        self.eposta = f\"{isim.lower()}.{soyisim.lower()}@firmam.com\"\n",
    "    \n",
    "    def tam_isim(self):\n",
    "        return f\"{self.ad} {self.soyad}\"\n",
    "    \n",
    "    def zam_uygula(self):\n",
    "        self.price = int(self.price * self.zam_orani)\n",
    "\n",
    "\n",
    "\n",
    "per1 = Personel(\"Esma\", \"Sert\", 25000)\n",
    "per2 = Personel('Mary', 'Smith', 40000)\n",
    "\n",
    "print(per1.price)\n",
    "per1.zam_uygula()\n",
    "print(per1.price)\n",
    "\n",
    "print(Personel.zam_orani)\n",
    "print(per1.zam_orani)\n",
    "print(per2.zam_orani)"
   ]
  },
  {
   "cell_type": "code",
   "execution_count": 40,
   "metadata": {},
   "outputs": [
    {
     "name": "stdout",
     "output_type": "stream",
     "text": [
      "25000\n",
      "26250\n",
      "1.05\n",
      "1.05\n",
      "1.05\n",
      "{'ad': 'Esma',\n",
      " 'eposta': 'esma.sert@firmam.com',\n",
      " 'price': 26250,\n",
      " 'soyad': 'Sert'}\n",
      "___________________________\n",
      "mappingproxy({'__dict__': <attribute '__dict__' of 'Personel' objects>,\n",
      "              '__doc__': None,\n",
      "              '__init__': <function Personel.__init__ at 0x000002047FEDDC60>,\n",
      "              '__module__': '__main__',\n",
      "              '__weakref__': <attribute '__weakref__' of 'Personel' objects>,\n",
      "              'tam_isim': <function Personel.tam_isim at 0x000002047FEDC040>,\n",
      "              'zam_orani': 1.05,\n",
      "              'zam_uygula': <function Personel.zam_uygula at 0x000002047FEDDA20>})\n",
      "{'ad': 'Esma',\n",
      " 'eposta': 'esma.sert@firmam.com',\n",
      " 'price': 26250,\n",
      " 'soyad': 'Sert',\n",
      " 'zam_orani': 1.1}\n"
     ]
    }
   ],
   "source": [
    "class Personel:\n",
    "    zam_orani = 1.05\n",
    "    def __init__(self, isim, soyisim, maas):\n",
    "        self.ad = isim\n",
    "        self.soyad = soyisim\n",
    "        self.price = maas\n",
    "        self.eposta = f\"{isim.lower()}.{soyisim.lower()}@firmam.com\"\n",
    "    \n",
    "    def tam_isim(self):\n",
    "        return f\"{self.ad} {self.soyad}\"\n",
    "    \n",
    "    def zam_uygula(self):\n",
    "        self.price = int(self.price * self.zam_orani)\n",
    "\n",
    "\n",
    "\n",
    "per1 = Personel(\"Esma\", \"Sert\", 25000)\n",
    "per2 = Personel('Mary', 'Smith', 40000)\n",
    "\n",
    "print(per1.price)\n",
    "per1.zam_uygula()\n",
    "print(per1.price)\n",
    "\n",
    "print(Personel.zam_orani)\n",
    "print(per1.zam_orani)\n",
    "print(per2.zam_orani)\n",
    "\n",
    "from pprint import pprint\n",
    "\n",
    "pprint(per1.__dict__)\n",
    "per1.zam_orani = 1.1\n",
    "print(\"___________________________\")\n",
    "pprint(Personel.__dict__)\n",
    "pprint(per1.__dict__)"
   ]
  }
 ],
 "metadata": {
  "kernelspec": {
   "display_name": "Python 3",
   "language": "python",
   "name": "python3"
  },
  "language_info": {
   "codemirror_mode": {
    "name": "ipython",
    "version": 3
   },
   "file_extension": ".py",
   "mimetype": "text/x-python",
   "name": "python",
   "nbconvert_exporter": "python",
   "pygments_lexer": "ipython3",
   "version": "3.10.5"
  },
  "orig_nbformat": 4
 },
 "nbformat": 4,
 "nbformat_minor": 2
}
