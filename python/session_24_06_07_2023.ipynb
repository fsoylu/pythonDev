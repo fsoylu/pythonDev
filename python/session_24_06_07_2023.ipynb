{
 "cells": [
  {
   "cell_type": "code",
   "execution_count": 3,
   "metadata": {},
   "outputs": [
    {
     "name": "stdout",
     "output_type": "stream",
     "text": [
      "Sesli harf sayısı :  8\n",
      "furkan adanada yaşar\n"
     ]
    }
   ],
   "source": [
    "isim = input(\"Adınızı Soyadınızı giriniz: \").lower()\n",
    "sesli = \"aeıioöuü\"\n",
    "sesli_sayaç = 0\n",
    "for harf in isim:\n",
    "    if harf in sesli:\n",
    "        sesli_sayaç +=1\n",
    "\n",
    "print(\"Sesli harf sayısı : \",sesli_sayaç) \n",
    "print(isim)"
   ]
  },
  {
   "cell_type": "code",
   "execution_count": 10,
   "metadata": {},
   "outputs": [
    {
     "ename": "NameError",
     "evalue": "name 'sesli_sauyaç' is not defined",
     "output_type": "error",
     "traceback": [
      "\u001b[1;31m---------------------------------------------------------------------------\u001b[0m",
      "\u001b[1;31mNameError\u001b[0m                                 Traceback (most recent call last)",
      "Cell \u001b[1;32mIn[10], line 11\u001b[0m\n\u001b[0;32m      9\u001b[0m             sesli_sayaç \u001b[39m+\u001b[39m\u001b[39m=\u001b[39m\u001b[39m1\u001b[39m\n\u001b[0;32m     10\u001b[0m     \u001b[39mreturn\u001b[39;00m sesli_sauyaç        \n\u001b[1;32m---> 11\u001b[0m \u001b[39mprint\u001b[39m(\u001b[39m\"\u001b[39m\u001b[39mSesli harf sayısı : \u001b[39m\u001b[39m\"\u001b[39m,artır(sesli_sayaç)) \n\u001b[0;32m     12\u001b[0m \u001b[39mprint\u001b[39m(isim)        \n",
      "Cell \u001b[1;32mIn[10], line 10\u001b[0m, in \u001b[0;36martır\u001b[1;34m(sesli_sayaç)\u001b[0m\n\u001b[0;32m      8\u001b[0m     \u001b[39mif\u001b[39;00m seslidir(harf):\n\u001b[0;32m      9\u001b[0m         sesli_sayaç \u001b[39m+\u001b[39m\u001b[39m=\u001b[39m\u001b[39m1\u001b[39m\n\u001b[1;32m---> 10\u001b[0m \u001b[39mreturn\u001b[39;00m sesli_sauyaç\n",
      "\u001b[1;31mNameError\u001b[0m: name 'sesli_sauyaç' is not defined"
     ]
    }
   ],
   "source": [
    "isim = input(\"Adınızı Soyadınızı giriniz: \").lower()\n",
    "sesli = \"aeıioöuü\"\n",
    "sesli_sayaç = 0\n",
    "def seslidir(harf):\n",
    "     return harf in sesli\n",
    "def artır(sesli_sayaç): \n",
    "    for harf in isim:\n",
    "        if seslidir(harf):\n",
    "            sesli_sayaç +=1\n",
    "    return sesli_sauyaç        \n",
    "print(\"Sesli harf sayısı : \",artır(sesli_sayaç)) \n",
    "print(isim)        "
   ]
  },
  {
   "cell_type": "code",
   "execution_count": 13,
   "metadata": {},
   "outputs": [
    {
     "name": "stdout",
     "output_type": "stream",
     "text": [
      "furkan soylu adana da yaşıyor. kelimesinde 11 sesli harf vardır.\n"
     ]
    }
   ],
   "source": [
    "sesli_harfler = \"aeıioöuü\"\n",
    "sayac = 0\n",
    "\n",
    "def kelime_sor():\n",
    "    return input(\"Bir kelime giriniz\").lower()\n",
    "\n",
    "def seslidir(harf):\n",
    "    return harf in sesli_harfler\n",
    "\n",
    "def artir(sayac, kelime):\n",
    "    for harf in kelime:\n",
    "        if seslidir(harf):\n",
    "            sayac +=1\n",
    "    return sayac\n",
    "\n",
    "def ekrana_goster(kelime): \n",
    "    mesaj = f\"{kelime}. kelimesinde {artir(sayac,kelime)} sesli harf vardır.\"\n",
    "    print(mesaj)\n",
    "\n",
    "def calistir():\n",
    "    kelime = kelime_sor()\n",
    "    ekrana_goster(kelime)\n",
    "    \n",
    "if __name__ == '__main__':\n",
    "    calistir()               "
   ]
  },
  {
   "cell_type": "code",
   "execution_count": 24,
   "metadata": {},
   "outputs": [
    {
     "name": "stdout",
     "output_type": "stream",
     "text": [
      "furkan kelimesinde 2 sesli harf vardır\n"
     ]
    }
   ],
   "source": [
    "class HarfSayaci:\n",
    "    def __init__(self):\n",
    "        self.sesli_harfler = \"aeıioöuü\"\n",
    "        self.sayac = 0\n",
    "    \n",
    "    def kelime_sor(self):\n",
    "        return input(\"Bir kelime giriniz: \").lower()\n",
    "    \n",
    "    def seslidir(self, harf):\n",
    "        return harf in self.sesli_harfler\n",
    "    \n",
    "    def artir(self):\n",
    "        for harf in self.kelime:\n",
    "            if self.seslidir(harf):\n",
    "                self.sayac += 1 \n",
    "        return self.sayac\n",
    "    \n",
    "    def ekrana_goster(self):\n",
    "        sesli_harf_sayisi = self.artir()\n",
    "        mesaj = f\"{self.kelime} kelimesinde {sesli_harf_sayisi} sesli harf vardır\"\n",
    "        print(mesaj)\n",
    "    \n",
    "    def calistir(self):\n",
    "        self.kelime = self.kelime_sor()\n",
    "        self.ekrana_goster()\n",
    "        \n",
    "if __name__ == '__main__':\n",
    "    sayac = HarfSayaci()\n",
    "    sayac.calistir()             "
   ]
  },
  {
   "cell_type": "code",
   "execution_count": 19,
   "metadata": {},
   "outputs": [
    {
     "name": "stdout",
     "output_type": "stream",
     "text": [
      "furkan kelimesinde 2 sesli harf vardır\n"
     ]
    }
   ],
   "source": [
    "class HarfSayaci:\n",
    "    def __init__(self):\n",
    "        self.sesli_harfler = \"aeıioöuü\"\n",
    "        self.sayac = 0\n",
    "\n",
    "    def kelime_sor(self):\n",
    "        return input(\"Bir kelime giriniz: \").lower()\n",
    "    \n",
    "    def seslidir(self, harf):\n",
    "        return harf in self.sesli_harfler\n",
    "    \n",
    "    def artir(self):\n",
    "        for harf in self.kelime:\n",
    "            if self.seslidir(harf):\n",
    "                self.sayac += 1\n",
    "        return self.sayac\n",
    "    \n",
    "    def ekrana_goster(self):\n",
    "        sesli_harf_sayisi = self.artir()\n",
    "        mesaj = f\"{self.kelime} kelimesinde {sesli_harf_sayisi} sesli harf vardır\"\n",
    "        print(mesaj)\n",
    "\n",
    "    def calistir(self):\n",
    "        self.kelime = self.kelime_sor()\n",
    "        self.ekrana_goster()\n",
    "\n",
    "if __name__ == '__main__':\n",
    "    sayac = HarfSayaci()\n",
    "    sayac.calistir()"
   ]
  },
  {
   "cell_type": "code",
   "execution_count": 26,
   "metadata": {},
   "outputs": [
    {
     "name": "stdout",
     "output_type": "stream",
     "text": [
      "furkan kelimesinde 2 sesli harf vardır\n"
     ]
    }
   ],
   "source": [
    "class HarfSayaci:\n",
    "    def __init__(self):\n",
    "        self.sesli_harfler = \"aeıioöuü\"\n",
    "        self.sayac = 0\n",
    "\n",
    "    def kelime_sor(self):\n",
    "        return input(\"Bir kelime giriniz: \").lower()\n",
    "    \n",
    "    def seslidir(self, harf):\n",
    "        return harf in self.sesli_harfler\n",
    "    \n",
    "    def artir(self):\n",
    "        for harf in self.kelime:\n",
    "            if self.seslidir(harf):\n",
    "                self.sayac += 1\n",
    "        return self.sayac\n",
    "    \n",
    "    def ekrana_goster(self):\n",
    "        sesli_harf_sayisi = self.artir()\n",
    "        mesaj = f\"{self.kelime} kelimesinde {sesli_harf_sayisi} sesli harf vardır\"\n",
    "        print(mesaj)\n",
    "\n",
    "    def calistir(self):\n",
    "        self.kelime = self.kelime_sor()\n",
    "        self.ekrana_goster()\n",
    "\n",
    "if __name__ == '__main__':\n",
    "    harf_say = HarfSayaci()\n",
    "    harf_say.calistir()"
   ]
  },
  {
   "cell_type": "code",
   "execution_count": 27,
   "metadata": {},
   "outputs": [
    {
     "name": "stdout",
     "output_type": "stream",
     "text": [
      "<__main__.HarfSayaci object at 0x000001489A936B30>\n",
      "furkan kelimesinde 2 sesli harf vardır\n"
     ]
    }
   ],
   "source": [
    "class HarfSayaci:\n",
    "    def __init__(self):\n",
    "        self.sesli_harfler = \"aeıioöuü\"\n",
    "        self.sayac = 0  \n",
    "\n",
    "    def kelime_sor(self):\n",
    "        return input(\"Bir kelime giriniz: \").lower()\n",
    "    \n",
    "    def seslidir(self, harf):\n",
    "        return harf in self.sesli_harfler\n",
    "    \n",
    "    def artir(self):\n",
    "        for harf in self.kelime:\n",
    "            if self.seslidir(harf):\n",
    "                self.sayac += 1\n",
    "        return self.sayac\n",
    "    \n",
    "    def ekrana_goster(self):\n",
    "        sesli_harf_sayisi = self.artir()\n",
    "        mesaj = f\"{self.kelime} kelimesinde {sesli_harf_sayisi} sesli harf vardır\"\n",
    "        print(mesaj)\n",
    "\n",
    "    def calistir(self):\n",
    "        self.kelime = self.kelime_sor()\n",
    "        self.ekrana_goster()\n",
    "\n",
    "if __name__ == '__main__':\n",
    "    harf_say = HarfSayaci()\n",
    "    print(harf_say)\n",
    "    harf_say.calistir()"
   ]
  },
  {
   "cell_type": "code",
   "execution_count": 29,
   "metadata": {},
   "outputs": [
    {
     "name": "stdout",
     "output_type": "stream",
     "text": [
      "<__main__.HarfSayaci object at 0x0000014899773EE0>\n",
      "furkan kelimesinde 4 sessiz harf vardır\n"
     ]
    }
   ],
   "source": [
    "class HarfSayaci:\n",
    "    def __init__(self):\n",
    "        self.sessiz_harfler = \"rtypğsdfghjklşzxcvbnmç\"\n",
    "        self.sayac = 0  \n",
    "\n",
    "    def kelime_sor(self):\n",
    "        return input(\"Bir kelime giriniz: \").lower()\n",
    "    \n",
    "    def seslidir(self, harf):\n",
    "        return harf in self.sessiz_harfler\n",
    "    \n",
    "    def artir(self):\n",
    "        for harf in self.kelime:\n",
    "            if self.seslidir(harf):\n",
    "                self.sayac += 1\n",
    "        return self.sayac\n",
    "    \n",
    "    def ekrana_goster(self):\n",
    "        sessiz_harf_sayisi = self.artir()\n",
    "        mesaj = f\"{self.kelime} kelimesinde {sessiz_harf_sayisi} sessiz harf vardır\"\n",
    "        print(mesaj)\n",
    "\n",
    "    def calistir(self):\n",
    "        self.kelime = self.kelime_sor()\n",
    "        self.ekrana_goster()\n",
    "\n",
    "if __name__ == '__main__':\n",
    "    harf_say = HarfSayaci()\n",
    "    print(harf_say)\n",
    "    harf_say.calistir()"
   ]
  },
  {
   "cell_type": "code",
   "execution_count": 30,
   "metadata": {},
   "outputs": [
    {
     "name": "stdout",
     "output_type": "stream",
     "text": [
      "Furkan kelimesinde 2 sesli harf vardır\n",
      "3 sessiz harf vardır \n"
     ]
    }
   ],
   "source": [
    "class HarfSayacı:\n",
    "    def __init__(self):\n",
    "        self.sesli_harfler=\"aeıioöuü\"\n",
    "        self.sesizharfler=\"abcdfgğhjklmnprsştvyz\"\n",
    "        self.sayac_sesli=0\n",
    "        self.sayac_sessiz=0\n",
    "    def kelimesor(self):\n",
    "        return input(\"Kelime Gir\")\n",
    "    def seslendir(self,harf):\n",
    "        return harf in self.sesli_harfler\n",
    "    def sessiz_oku(self,harf):\n",
    "        return harf in self.sesizharfler\n",
    "    \n",
    "    def artir(self):\n",
    "        for harf in self.kelime:\n",
    "            if self.seslendir(harf):\n",
    "                self.sayac_sesli+=1\n",
    "            elif self.sessiz_oku(harf):\n",
    "                self.sayac_sessiz+=1\n",
    "        return [self.sayac_sesli,self.sayac_sessiz]\n",
    "    def ekranda_goster(self):\n",
    "        sesli_harf_sayisi=self.artir()\n",
    "        mesaj=f\"{self.kelime} kelimesinde {sesli_harf_sayisi[0]} sesli harf vardır\\n{sesli_harf_sayisi[1]} sessiz harf vardır \"\n",
    "        print(mesaj)\n",
    "    def calistir(self):\n",
    "        self.kelime=self.kelimesor()\n",
    "        self.ekranda_goster()\n",
    "        \n",
    "\n",
    "if __name__==\"__main__\":\n",
    "    sayac=HarfSayacı()\n",
    "    sayac.calistir()   "
   ]
  },
  {
   "cell_type": "code",
   "execution_count": null,
   "metadata": {},
   "outputs": [],
   "source": [
    "class HarfSayaci:\n",
    "    def __init__(self):\n",
    "        self.sesli_harfler=\"aeıioöuü\"\n",
    "        self.sessiz_harfler=\"abcdfgğhjklmnprsştvyz\"\n",
    "        self.sayac_sesli=0\n",
    "        self.sayac_sessiz=0 \n",
    "\n",
    "    def kelime_sor(self):\n",
    "        return input(\"Bir kelime giriniz: \").lower()\n",
    "    \n",
    "    def seslidir(self, harf):\n",
    "        return harf in self.sesli_harfler\n",
    "    \n",
    "    def sessizdir(self, harf):\n",
    "        return harf in self.sessiz_harfler\n",
    "    \n",
    "    def artir(self):\n",
    "        for harf in self.kelime:\n",
    "            if self.seslidir(harf):\n",
    "                self.sayac += 1\n",
    "            elif self.sessizdir(harf):\n",
    "                self.sayac_sessiz +=1    \n",
    "        return (self.sayac_sesli, self.sayac_sessiz)\n",
    "\n",
    "    \n",
    "    def ekrana_goster(self):\n",
    "        sesli , sessiz = self.artir()\n",
    "        mesaj = f\"{self.kelime} kelimesinde {sesli_harf_sayisi} sesli harf vardır\"\n",
    "        print(mesaj)\n",
    "\n",
    "    def calistir(self):\n",
    "        self.kelime = self.kelime_sor()\n",
    "        self.ekrana_goster()\n",
    "\n",
    "if __name__ == '__main__':\n",
    "    harf_say = HarfSayaci()\n",
    "    print(harf_say)\n",
    "    harf_say.calistir()"
   ]
  },
  {
   "cell_type": "code",
   "execution_count": 31,
   "metadata": {},
   "outputs": [
    {
     "name": "stdout",
     "output_type": "stream",
     "text": [
      "furkan kelimesinde 2 sesli, 4 sessiz harf vardır\n"
     ]
    }
   ],
   "source": [
    "class HarfSayaci:\n",
    "    def __init__(self):\n",
    "        self.sesli_harfler = \"aeıioöuü\"\n",
    "        self.sessiz_harfler = \"bcçdfgğhjklmnprsştvyz\"\n",
    "        self.sayac_sesli = 0\n",
    "        self.sayac_sessiz = 0\n",
    "\n",
    "    def kelime_sor(self):\n",
    "        return input(\"Bir kelime giriniz: \").lower()\n",
    "    \n",
    "    def seslidir(self, harf):\n",
    "        return harf in self.sesli_harfler\n",
    "    \n",
    "    def sessizdir(self, harf):\n",
    "        return harf in self.sessiz_harfler\n",
    "    \n",
    "    def artir(self):\n",
    "        for harf in self.kelime:\n",
    "            if self.seslidir(harf):\n",
    "                self.sayac_sesli += 1\n",
    "            elif self.sessizdir(harf):\n",
    "                self.sayac_sessiz += 1\n",
    "        return (self.sayac_sesli, self.sayac_sessiz)\n",
    "    \n",
    "    def ekrana_goster(self):\n",
    "        sesli, sessiz = self.artir()\n",
    "        mesaj = f\"{self.kelime} kelimesinde {sesli} sesli, {sessiz} sessiz harf vardır\"\n",
    "        print(mesaj)\n",
    "\n",
    "    def calistir(self):\n",
    "        self.kelime = self.kelime_sor()\n",
    "        self.ekrana_goster()\n",
    "\n",
    "if __name__ == '__main__':\n",
    "    harfsay = HarfSayaci()\n",
    "    harfsay.calistir()"
   ]
  },
  {
   "attachments": {},
   "cell_type": "markdown",
   "metadata": {},
   "source": [
    "# OOP Metadolojileri\n"
   ]
  },
  {
   "cell_type": "code",
   "execution_count": 3,
   "metadata": {},
   "outputs": [],
   "source": [
    "class Arac:\n",
    "    def __init__(self, marka, model, renk):\n",
    "        self.marka = marka\n",
    "        self.model = model\n",
    "        self.renk = renk\n",
    "        \n",
    "    def hareket_et(self):\n",
    "        print(f\"{self.marka} araç hareket ediyor.\")\n",
    "        \n",
    "    def dur(self):\n",
    "        print(f\"{self.marka} araç durdu.\")\n",
    "        \n",
    "class Araba(Arac):\n",
    "    def __init__(self, marka, model, renk,hiz):\n",
    "        super().__init__(marka, model, renk)\n",
    "        self.hiz = hiz\n",
    "    \n",
    "    def hareket_et(self):\n",
    "        print(f\"{self.marka} Araba hareket ediyor.\")\n",
    "        \n",
    "    def dur(self):\n",
    "        print(f\"{self.marka} araba durdu.\")      \n",
    "\n",
    "class bisiklet(Arac):\n",
    "    def __init__(self, marka, model, renk,vites_sayısı):\n",
    "        super().__init__(marka, model, renk)\n",
    "        self.vites_sayısı = vites_sayısı\n",
    "    \n",
    "    def hareket_et(self):\n",
    "        print(f\"{self.marka} bisiklet hareket etti.\") \n",
    "    \n",
    "    def dur(self):\n",
    "        print(f\"{self.marka} bisiklet durdu.\")                                   "
   ]
  },
  {
   "cell_type": "code",
   "execution_count": 8,
   "metadata": {},
   "outputs": [
    {
     "name": "stdout",
     "output_type": "stream",
     "text": [
      "<__main__.Araba object at 0x0000018AE41471F0>\n",
      "Mercedes Araba hareket ediyor.\n"
     ]
    }
   ],
   "source": [
    "araba1 = Araba(\"Mercedes \",\"s300\",\"Kırmızı\", 300)\n",
    "print(araba1)\n",
    "araba1.hareket_et()"
   ]
  },
  {
   "cell_type": "code",
   "execution_count": 7,
   "metadata": {},
   "outputs": [
    {
     "name": "stdout",
     "output_type": "stream",
     "text": [
      "Mercedes araba durdu.\n"
     ]
    }
   ],
   "source": [
    "araba1.dur()"
   ]
  },
  {
   "cell_type": "code",
   "execution_count": 12,
   "metadata": {},
   "outputs": [
    {
     "name": "stdout",
     "output_type": "stream",
     "text": [
      "Bissan bisiklet hareket etti.\n",
      "Mountain Bike\n",
      "Gri\n",
      "50\n"
     ]
    }
   ],
   "source": [
    "bisiklet1 = bisiklet(\"Bissan\",\"Mountain Bike\",\"Gri\",50)\n",
    "bisiklet1.hareket_et()\n",
    "print(bisiklet1.model)\n",
    "print(bisiklet1.renk)\n",
    "print(bisiklet1.vites_sayısı)"
   ]
  },
  {
   "cell_type": "code",
   "execution_count": 10,
   "metadata": {},
   "outputs": [
    {
     "name": "stdout",
     "output_type": "stream",
     "text": [
      "Bissan bisiklet hareket etti.\n"
     ]
    }
   ],
   "source": [
    "bisiklet1.hareket_et()"
   ]
  },
  {
   "cell_type": "code",
   "execution_count": null,
   "metadata": {},
   "outputs": [],
   "source": []
  }
 ],
 "metadata": {
  "kernelspec": {
   "display_name": "Python 3",
   "language": "python",
   "name": "python3"
  },
  "language_info": {
   "codemirror_mode": {
    "name": "ipython",
    "version": 3
   },
   "file_extension": ".py",
   "mimetype": "text/x-python",
   "name": "python",
   "nbconvert_exporter": "python",
   "pygments_lexer": "ipython3",
   "version": "3.10.5"
  },
  "orig_nbformat": 4
 },
 "nbformat": 4,
 "nbformat_minor": 2
}
