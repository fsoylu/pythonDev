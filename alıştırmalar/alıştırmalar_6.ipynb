{
 "cells": [
  {
   "cell_type": "code",
   "execution_count": 5,
   "metadata": {},
   "outputs": [
    {
     "data": {
      "text/plain": [
       "4950"
      ]
     },
     "execution_count": 5,
     "metadata": {},
     "output_type": "execute_result"
    }
   ],
   "source": [
    "x = range(100)\n",
    "sum(x)"
   ]
  },
  {
   "cell_type": "code",
   "execution_count": 16,
   "metadata": {},
   "outputs": [
    {
     "name": "stdout",
     "output_type": "stream",
     "text": [
      "Tek sayıların toplamı: 25\n"
     ]
    }
   ],
   "source": [
    "n = int(input(\"Bir sayı giriniz:\"))\n",
    "top = 0\n",
    "for i in range(n):\n",
    "    if i % 2 == 1:\n",
    "        top += i\n",
    "print(\"Tek sayıların toplamı:\", top)               \n",
    "       "
   ]
  },
  {
   "cell_type": "code",
   "execution_count": 17,
   "metadata": {},
   "outputs": [
    {
     "name": "stdout",
     "output_type": "stream",
     "text": [
      "25\n"
     ]
    }
   ],
   "source": [
    "top = 0 \n",
    "i = 0 \n",
    "for i in range(1,n,2):\n",
    "    top += i\n",
    "print(top)    \n"
   ]
  },
  {
   "cell_type": "code",
   "execution_count": 26,
   "metadata": {},
   "outputs": [
    {
     "name": "stdout",
     "output_type": "stream",
     "text": [
      "7*14*21*28*35*42*49*56*63*70*77*84*91*98*"
     ]
    }
   ],
   "source": [
    "n = int(input(\"Başlangıç sayısını giriniz: \"))\n",
    "m = int(input(\"Bitiş sayısını giriniz: \"))\n",
    "\n",
    "for i in range(n,m):\n",
    "    if i % 7 == 0:\n",
    "        print(i,end=\"*\")\n",
    "    \n",
    "    "
   ]
  },
  {
   "cell_type": "code",
   "execution_count": 38,
   "metadata": {},
   "outputs": [
    {
     "name": "stdout",
     "output_type": "stream",
     "text": [
      "nakruF\n"
     ]
    }
   ],
   "source": [
    "ad = input(\"İsminizi giriniz:\")\n",
    "ad = ad[::-1]\n",
    "print(ad) "
   ]
  },
  {
   "cell_type": "code",
   "execution_count": 41,
   "metadata": {},
   "outputs": [
    {
     "name": "stdout",
     "output_type": "stream",
     "text": [
      "Sesli harf sayısı :  6\n"
     ]
    }
   ],
   "source": [
    "isim = input(\"Adınızı Soyadınızı giriniz: \")\n",
    "sesli = \"aeıioöuü\"\n",
    "sesli_sayaç = 0\n",
    "for harf in isim:\n",
    "    if harf in sesli:\n",
    "        sesli_sayaç +=1\n",
    "\n",
    "print(\"Sesli harf sayısı : \",sesli_sayaç)        "
   ]
  },
  {
   "cell_type": "code",
   "execution_count": 42,
   "metadata": {},
   "outputs": [
    {
     "name": "stdout",
     "output_type": "stream",
     "text": [
      "1\n",
      "2\n",
      "3\n",
      "5\n",
      "8\n",
      "13\n",
      "21\n",
      "34\n",
      "55\n",
      "89\n",
      "144\n",
      "233\n",
      "377\n",
      "610\n",
      "987\n"
     ]
    }
   ],
   "source": [
    "a = 1\n",
    "b = 1 \n",
    "c = 0\n",
    "while c<1000:\n",
    "    print(b)\n",
    "    c = a + b \n",
    "    a = b \n",
    "    b = c \n"
   ]
  },
  {
   "cell_type": "code",
   "execution_count": 48,
   "metadata": {},
   "outputs": [
    {
     "name": "stdout",
     "output_type": "stream",
     "text": [
      "1 adet tek sayı vardır.Toplamları 1\n",
      "Tek sayıların ortalaması 1.0\n",
      "9 adet  sayı vardır.Toplamları 170\n",
      "çift sayıların ortalaması 18.88888888888889\n"
     ]
    }
   ],
   "source": [
    "s = 0 \n",
    "tek_sayaç   = 0\n",
    "çift_sayaç  = 0\n",
    "tek_toplam  = 0\n",
    "çift_toplam = 0\n",
    "\n",
    "for sayi in range(1,11):\n",
    "    s = int(input(\"Sayı giriniz:\"))\n",
    "    if s % 2 == 1:\n",
    "        tek_sayaç  += 1\n",
    "        tek_toplam += s\n",
    "    else:\n",
    "        çift_sayaç +=1\n",
    "        çift_toplam += s \n",
    "print(tek_sayaç,\"adet tek sayı vardır.Toplamları\",tek_toplam)\n",
    "print(\"Tek sayıların ortalaması\", tek_toplam/tek_sayaç)  \n",
    "\n",
    "print(çift_sayaç,\"adet  sayı vardır.Toplamları\",çift_toplam)\n",
    "print(\"çift sayıların ortalaması\", çift_toplam/çift_sayaç)  \n",
    "         \n",
    "  "
   ]
  },
  {
   "cell_type": "code",
   "execution_count": 68,
   "metadata": {},
   "outputs": [
    {
     "name": "stdout",
     "output_type": "stream",
     "text": [
      "Girilen sayıların toplamı   : 50\n",
      "Girilen sayıların ortalaması: 10.0\n"
     ]
    }
   ],
   "source": [
    "e = int(input(\"Kaç sayı girilsin istersiniz: \"))\n",
    "liste = []\n",
    "for i in range(e):\n",
    "    s = int(input(\"Sayı giriniz\"))\n",
    "    s = liste.append(s)\n",
    "    z = sum(liste)\n",
    "print(f\"Girilen sayıların toplamı   : {z}\")   \n",
    "print(f\"Girilen sayıların ortalaması: {z/e}\")     \n",
    "    \n",
    "\n",
    "    "
   ]
  },
  {
   "cell_type": "code",
   "execution_count": null,
   "metadata": {},
   "outputs": [],
   "source": [
    "\n"
   ]
  },
  {
   "cell_type": "code",
   "execution_count": null,
   "metadata": {},
   "outputs": [],
   "source": []
  }
 ],
 "metadata": {
  "kernelspec": {
   "display_name": "Python 3",
   "language": "python",
   "name": "python3"
  },
  "language_info": {
   "codemirror_mode": {
    "name": "ipython",
    "version": 3
   },
   "file_extension": ".py",
   "mimetype": "text/x-python",
   "name": "python",
   "nbconvert_exporter": "python",
   "pygments_lexer": "ipython3",
   "version": "3.10.5"
  },
  "orig_nbformat": 4
 },
 "nbformat": 4,
 "nbformat_minor": 2
}
