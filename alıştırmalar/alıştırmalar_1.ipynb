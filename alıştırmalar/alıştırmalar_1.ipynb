{
 "cells": [
  {
   "cell_type": "code",
   "execution_count": 5,
   "metadata": {},
   "outputs": [],
   "source": [
    "def merhaba ():\n",
    "    print(\"merhaba dünya\")     "
   ]
  },
  {
   "cell_type": "code",
   "execution_count": 6,
   "metadata": {},
   "outputs": [
    {
     "name": "stdout",
     "output_type": "stream",
     "text": [
      "merhaba dünya\n"
     ]
    }
   ],
   "source": [
    "merhaba()"
   ]
  },
  {
   "cell_type": "code",
   "execution_count": 31,
   "metadata": {},
   "outputs": [],
   "source": [
    "def faktöriyel(numara):\n",
    "    faktöriyel =1\n",
    "    for i in range(1,numara+1):\n",
    "        faktöriyel *= i\n",
    "    print(\"Faktöriyel:\",faktöriyel)    "
   ]
  },
  {
   "cell_type": "code",
   "execution_count": 32,
   "metadata": {},
   "outputs": [
    {
     "name": "stdout",
     "output_type": "stream",
     "text": [
      "Faktöriyel: 120\n"
     ]
    }
   ],
   "source": [
    "sayı = int(input(\"Sayıyıy giriniz: \"))\n",
    "faktöriyel(sayı)"
   ]
  },
  {
   "cell_type": "code",
   "execution_count": 41,
   "metadata": {},
   "outputs": [
    {
     "name": "stdout",
     "output_type": "stream",
     "text": [
      "İşlem başaralı!\n",
      "İşlem başaralı!\n",
      "İşlem başaralı!\n",
      "İşlem başaralı!\n",
      "İşlem başaralı!\n",
      "İşlem başaralı!\n",
      "İşlem başaralı!\n"
     ]
    }
   ],
   "source": [
    "print(\"İşlem başaralı!\")\n",
    "print(\"İşlem başaralı!\")\n",
    "print(\"İşlem başaralı!\")\n",
    "print(\"İşlem başaralı!\")\n",
    "print(\"İşlem başaralı!\")\n",
    "print(\"İşlem başaralı!\")\n",
    "print(\"İşlem başaralı!\")"
   ]
  },
  {
   "cell_type": "code",
   "execution_count": 49,
   "metadata": {},
   "outputs": [],
   "source": [
    "def bilgi():\n",
    "    print(\"İşlem başaralı.\")"
   ]
  },
  {
   "cell_type": "code",
   "execution_count": 50,
   "metadata": {},
   "outputs": [
    {
     "name": "stdout",
     "output_type": "stream",
     "text": [
      "İşlem başaralı.\n"
     ]
    }
   ],
   "source": [
    "bilgi()"
   ]
  },
  {
   "cell_type": "code",
   "execution_count": 51,
   "metadata": {},
   "outputs": [
    {
     "name": "stdout",
     "output_type": "stream",
     "text": [
      "İşlem başaralı.\n",
      "Bloğun iççerisi\n"
     ]
    }
   ],
   "source": [
    "def bilgi():\n",
    "    print(\"İşlem başaralı.\")\n",
    "    print(\"Bloğun iççerisi\")\n",
    "bilgi()    "
   ]
  },
  {
   "cell_type": "code",
   "execution_count": 57,
   "metadata": {},
   "outputs": [
    {
     "name": "stdout",
     "output_type": "stream",
     "text": [
      "Merhaba furkan\n"
     ]
    }
   ],
   "source": [
    "def selamla(isim):\n",
    "    print(\"Merhaba\" + isim )\n",
    "selamla(\" furkan\")    "
   ]
  },
  {
   "cell_type": "code",
   "execution_count": 62,
   "metadata": {},
   "outputs": [],
   "source": [
    "def topla(x,y):\n",
    "    print(f\"{x} + {y} = {x + y }\")"
   ]
  },
  {
   "cell_type": "code",
   "execution_count": 59,
   "metadata": {},
   "outputs": [
    {
     "name": "stdout",
     "output_type": "stream",
     "text": [
      "[1, 2, 3, 1, 2, 3, 1, 2, 3]\n"
     ]
    }
   ],
   "source": [
    "liste = [1,2,3]\n",
    "a=liste * 3\n",
    "print(a)"
   ]
  },
  {
   "cell_type": "code",
   "execution_count": 63,
   "metadata": {},
   "outputs": [
    {
     "name": "stdout",
     "output_type": "stream",
     "text": [
      "5 + 6 = 11\n"
     ]
    }
   ],
   "source": [
    "topla(5,6)"
   ]
  },
  {
   "cell_type": "code",
   "execution_count": 64,
   "metadata": {},
   "outputs": [
    {
     "name": "stdout",
     "output_type": "stream",
     "text": [
      "5 * 6 = 30\n"
     ]
    }
   ],
   "source": [
    "def çarp(x,y):\n",
    "    print(f\"{x} * {y} = {x * y }\")\n",
    "çarp(5,6)    "
   ]
  },
  {
   "cell_type": "code",
   "execution_count": 67,
   "metadata": {},
   "outputs": [
    {
     "name": "stdout",
     "output_type": "stream",
     "text": [
      "Girilen sayıların ortalaması : 50.5\n"
     ]
    }
   ],
   "source": [
    "def ort(liste):\n",
    "    toplam = sum(liste)\n",
    "    adet = len(liste)\n",
    "    ortalama = toplam / adet\n",
    "    print(f\"Girilen sayıların ortalaması : {ortalama}\") \n",
    "ort([1,100])\n",
    "    "
   ]
  },
  {
   "cell_type": "code",
   "execution_count": 68,
   "metadata": {},
   "outputs": [
    {
     "name": "stdout",
     "output_type": "stream",
     "text": [
      "FURKAN SOYLU\n"
     ]
    }
   ],
   "source": [
    "def büyük_harfe_çevir(metin):\n",
    "    metin = metin.upper()\n",
    "    print(metin)\n",
    "büyük_harfe_çevir(\"FurKAN soylu\")    "
   ]
  },
  {
   "cell_type": "code",
   "execution_count": 84,
   "metadata": {},
   "outputs": [
    {
     "name": "stdout",
     "output_type": "stream",
     "text": [
      "merhaba Elif.\n"
     ]
    }
   ],
   "source": [
    "def selamla(mesaj,isim =\"Anonim\"):\n",
    "   print(f\"{mesaj} {isim}.\")\n",
    "selamla(\"merhaba\",\"Elif\")    "
   ]
  },
  {
   "cell_type": "code",
   "execution_count": 85,
   "metadata": {},
   "outputs": [
    {
     "name": "stdout",
     "output_type": "stream",
     "text": [
      "merhaba Anonim.\n"
     ]
    }
   ],
   "source": [
    "def selamla(mesaj,isim =\"Anonim\"):\n",
    "    print(f\"{mesaj} {isim}.\")\n",
    "selamla(\"merhaba\")   "
   ]
  },
  {
   "cell_type": "code",
   "execution_count": 88,
   "metadata": {},
   "outputs": [],
   "source": [
    "def indirim_yap(fiyat,yüzde = 20):\n",
    "    indirim_miktarı = fiyat * (yüzde / 100)\n",
    "    indirimli_fiyat = fiyat- indirim_miktarı\n",
    "    print(f\"indirimli tutar: { indirimli_fiyat}\")"
   ]
  },
  {
   "cell_type": "code",
   "execution_count": 91,
   "metadata": {},
   "outputs": [
    {
     "name": "stdout",
     "output_type": "stream",
     "text": [
      "indirimli tutar: 80.0\n"
     ]
    }
   ],
   "source": [
    "indirim_yap(100)"
   ]
  },
  {
   "cell_type": "code",
   "execution_count": 96,
   "metadata": {},
   "outputs": [
    {
     "name": "stdout",
     "output_type": "stream",
     "text": [
      "10\n"
     ]
    }
   ],
   "source": [
    "def topla(x,y):\n",
    "    print(x + y)\n",
    "    return x + y\n",
    "sonuç = topla(8,2)    "
   ]
  },
  {
   "cell_type": "code",
   "execution_count": 97,
   "metadata": {},
   "outputs": [
    {
     "data": {
      "text/plain": [
       "10"
      ]
     },
     "execution_count": 97,
     "metadata": {},
     "output_type": "execute_result"
    }
   ],
   "source": [
    "sonuç"
   ]
  },
  {
   "cell_type": "code",
   "execution_count": 107,
   "metadata": {},
   "outputs": [],
   "source": [
    "def ortalama(x,y):\n",
    "    return (x + y) / 2\n"
   ]
  },
  {
   "cell_type": "code",
   "execution_count": 102,
   "metadata": {},
   "outputs": [
    {
     "name": "stdout",
     "output_type": "stream",
     "text": [
      "<class 'float'>\n"
     ]
    }
   ],
   "source": [
    "print(type(ortalama(3,7)))"
   ]
  },
  {
   "cell_type": "code",
   "execution_count": 108,
   "metadata": {},
   "outputs": [
    {
     "data": {
      "text/plain": [
       "11.0"
      ]
     },
     "execution_count": 108,
     "metadata": {},
     "output_type": "execute_result"
    }
   ],
   "source": [
    "a = ortalama(2,6) \n",
    "b = ortalama(5,9)\n",
    "a+b"
   ]
  },
  {
   "cell_type": "code",
   "execution_count": 110,
   "metadata": {},
   "outputs": [],
   "source": [
    "def büyük_harf(metin):\n",
    "    return metin.upper()\n",
    "\n",
    "a = büyük_harf(\"AsDFG\")"
   ]
  },
  {
   "cell_type": "code",
   "execution_count": 111,
   "metadata": {},
   "outputs": [
    {
     "data": {
      "text/plain": [
       "'ASDFG'"
      ]
     },
     "execution_count": 111,
     "metadata": {},
     "output_type": "execute_result"
    }
   ],
   "source": [
    "a"
   ]
  },
  {
   "cell_type": "code",
   "execution_count": 114,
   "metadata": {},
   "outputs": [],
   "source": [
    "c=büyük_harf \n",
    "b= c(\"SAbah\")\n"
   ]
  },
  {
   "cell_type": "code",
   "execution_count": 116,
   "metadata": {},
   "outputs": [
    {
     "data": {
      "text/plain": [
       "'SABAH'"
      ]
     },
     "execution_count": 116,
     "metadata": {},
     "output_type": "execute_result"
    }
   ],
   "source": [
    "b"
   ]
  },
  {
   "cell_type": "code",
   "execution_count": 125,
   "metadata": {},
   "outputs": [
    {
     "name": "stdout",
     "output_type": "stream",
     "text": [
      "Alan : 28.26\n"
     ]
    },
    {
     "data": {
      "text/plain": [
       "28.26"
      ]
     },
     "execution_count": 125,
     "metadata": {},
     "output_type": "execute_result"
    }
   ],
   "source": [
    "def daireAlan(yarıçapı):\n",
    "    alan = float(yarıçapı) * float(yarıçapı)*3.14\n",
    "    print(\"Alan :\",alan)\n",
    "    return alan\n",
    "r = input(\"Yarıçapı gir :\")\n",
    "daireAlan(r)"
   ]
  },
  {
   "cell_type": "code",
   "execution_count": 130,
   "metadata": {},
   "outputs": [
    {
     "name": "stdout",
     "output_type": "stream",
     "text": [
      "Alan : 20.0\n"
     ]
    },
    {
     "data": {
      "text/plain": [
       "20.0"
      ]
     },
     "execution_count": 130,
     "metadata": {},
     "output_type": "execute_result"
    }
   ],
   "source": [
    "def dikdörtgen_alanı(genişlik,yükseklik):\n",
    "    alan = float(genişlik) * float(yükseklik)\n",
    "    print(\"Alan :\",alan)\n",
    "    return alan\n",
    "gen = input(\"Genişlik :\")\n",
    "yuk = input(\"Yükseklik :\")\n",
    "dikdörtgen_alanı(gen,yuk)"
   ]
  },
  {
   "cell_type": "code",
   "execution_count": null,
   "metadata": {},
   "outputs": [],
   "source": [
    "from random import randint\n",
    " \n",
    "rand=randint(1, 100)\n",
    "sayac=0\n",
    " \n",
    "while True:\n",
    "    sayac+=1\n",
    "    sayi=int(input(\"1 ile 100 arasında değer girin (0 çıkış):\"))\n",
    "    if(sayi==0):\n",
    "        print(\"Oyunu İptal Ettiniz\")\n",
    "        break\n",
    "    elif sayi < rand:\n",
    "        print(\"Daha Yüksek Bir Sayı Girin.\")\n",
    "        continue\n",
    "    elif sayi > rand:\n",
    "        print(\"Daha Düşük Bir Sayı Girin.\")\n",
    "        continue\n",
    "    else:\n",
    "        print(\"Rastele seçilen sayı {0}!\".format(rand))\n",
    "        print(\"Tahmin sayınız {0}\".format(sayac))"
   ]
  },
  {
   "cell_type": "code",
   "execution_count": null,
   "metadata": {},
   "outputs": [
    {
     "name": "stdout",
     "output_type": "stream",
     "text": [
      "169\n"
     ]
    }
   ],
   "source": [
    "\n",
    "def ArtıkYıl(yıl):\n",
    "    artık=False\n",
    "    if yıl%400==0 or (yıl%4==0 and yıl%100!=0): artık=True\n",
    "    return artık\n",
    " \n",
    "def YılınGünü(Ay,Gün,Yıl):\n",
    "    günler=[31,28,31,30,31,30,31,31,30,31,30,31]\n",
    "    if ArtıkYıl(Yıl):\n",
    "        günler[1]=29\n",
    "    sıra=0\n",
    "    for a in range(Ay-1):\n",
    "        sıra+=günler[a]\n",
    "    sıra+=Gün\n",
    "    return sıra\n",
    "ay  = int(input(\"Bir ay giriniz:\"))\n",
    "gün = int(input(\"Bir gün giriniz:\"))\n",
    "yıl = int(input(\"Bir yıl giriniz:\"))\n",
    "print(YılınGünü(ay,gün,yıl))"
   ]
  },
  {
   "cell_type": "code",
   "execution_count": null,
   "metadata": {},
   "outputs": [],
   "source": [
    "a = int(input(\"Bir değer giriniz:\"))\n",
    "b = int(input(\"Bir değer giriniz:\"))\n",
    "c = int(input(\"Bir değer giriniz:\"))\n",
    " \n",
    "denklem = b ** 2 - 4 * a * c\n"
   ]
  },
  {
   "cell_type": "code",
   "execution_count": 1,
   "metadata": {},
   "outputs": [
    {
     "name": "stdout",
     "output_type": "stream",
     "text": [
      "delta sonucu: -64'dir.\n",
      "Birinci kök = (-0.6000000000000001-0.8j)\n",
      "ikinci kök = (-0.5999999999999999+0.8j)\n"
     ]
    }
   ],
   "source": [
    "a = int(input(\"Bir değer giriniz:\"))\n",
    "b = int(input(\"Bir değer giriniz:\"))\n",
    "c = int(input(\"Bir değer giriniz:\"))\n",
    " \n",
    "delta= b ** 2 - 4 * a * c\n",
    "  \n",
    "birinci_kök = ((-b - delta ** 0.5) / (2*a))\n",
    "ikinci_kök  = ( (-b + delta ** 0.5) / (2*a))\n",
    "print(f\"delta sonucu: {delta}'dir.\")\n",
    "print(f\"Birinci kök = {birinci_kök}\")\n",
    "print(f\"ikinci kök = {ikinci_kök}\")"
   ]
  }
 ],
 "metadata": {
  "kernelspec": {
   "display_name": "Python 3",
   "language": "python",
   "name": "python3"
  },
  "language_info": {
   "codemirror_mode": {
    "name": "ipython",
    "version": 3
   },
   "file_extension": ".py",
   "mimetype": "text/x-python",
   "name": "python",
   "nbconvert_exporter": "python",
   "pygments_lexer": "ipython3",
   "version": "3.10.5"
  },
  "orig_nbformat": 4
 },
 "nbformat": 4,
 "nbformat_minor": 2
}
