{
 "cells": [
  {
   "cell_type": "code",
   "execution_count": 4,
   "metadata": {},
   "outputs": [
    {
     "name": "stdout",
     "output_type": "stream",
     "text": [
      "Girmiş olduğunuz sayıların toplamı 69' dur.\n",
      "Girmiş olduğunuz sayıların ortalaması 34.5'tir.\n"
     ]
    }
   ],
   "source": [
    "sayi_1 = int(input(\"Bir sayi giriniz: \"))\n",
    "sayi_2 = int(input(\"Bir sayi giriniz: \"))\n",
    "\n",
    "top = sayi_1 + sayi_2\n",
    "ort= top / 2 \n",
    "print(f\"\"\"Girmiş olduğunuz sayıların toplamı {top}' dur.\n",
    "Girmiş olduğunuz sayıların ortalaması {ort}'tir.\"\"\")"
   ]
  },
  {
   "cell_type": "code",
   "execution_count": 9,
   "metadata": {},
   "outputs": [
    {
     "name": "stdout",
     "output_type": "stream",
     "text": [
      "Girmiş olduğunuz sayılar eşittir\n"
     ]
    }
   ],
   "source": [
    "sayi_1 = int(input(\"Bir sayi giriniz: \"))\n",
    "sayi_2 = int(input(\"Bir sayi giriniz: \"))\n",
    "sayi_3 = int(input(\"Bir sayi giriniz: \"))\n",
    "\n",
    "if (sayi_1 > sayi_2) and (sayi_1 > sayi_3):\n",
    "    print(f\"En büyük sayı {sayi_1}'dir.\")\n",
    "elif (sayi_2 > sayi_1) and (sayi_2 > sayi_3):\n",
    "    print(f\"En büyük sayı {sayi_2}'dir.\") \n",
    "elif (sayi_3 > sayi_1) and (sayi_3 > sayi_2):\n",
    "    print(f\"En büyük sayı {sayi_3}'dir.\")\n",
    "else:\n",
    "    print(\"Girmiş olduğunuz sayılar eşittir\")          "
   ]
  },
  {
   "cell_type": "code",
   "execution_count": null,
   "metadata": {},
   "outputs": [],
   "source": []
  },
  {
   "cell_type": "code",
   "execution_count": null,
   "metadata": {},
   "outputs": [],
   "source": []
  }
 ],
 "metadata": {
  "kernelspec": {
   "display_name": "Python 3",
   "language": "python",
   "name": "python3"
  },
  "language_info": {
   "codemirror_mode": {
    "name": "ipython",
    "version": 3
   },
   "file_extension": ".py",
   "mimetype": "text/x-python",
   "name": "python",
   "nbconvert_exporter": "python",
   "pygments_lexer": "ipython3",
   "version": "3.10.5"
  },
  "orig_nbformat": 4
 },
 "nbformat": 4,
 "nbformat_minor": 2
}
